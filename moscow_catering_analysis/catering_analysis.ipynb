{
 "cells": [
  {
   "cell_type": "markdown",
   "id": "e06910dd",
   "metadata": {
    "id": "e06910dd"
   },
   "source": [
    "# Исследование рынка общественного питания Москвы\n",
    "\n",
    "- Автор: Лазарева Елизавета Сергеевна\n",
    "- Дата: 11.03.2025"
   ]
  },
  {
   "cell_type": "markdown",
   "id": "4149134c",
   "metadata": {
    "id": "4149134c"
   },
   "source": [
    "### Цели и задачи проекта\n",
    "\n",
    "Провести исследовательский анализ рынка общественного питания Москвы, помочь с выявлением места общественного питания, подходящего инвесторам."
   ]
  },
  {
   "cell_type": "markdown",
   "id": "728986ea",
   "metadata": {
    "id": "728986ea"
   },
   "source": [
    "### Описание данных\n",
    "\n",
    "Данные состоят из двух датасетов:\n",
    "* `datasets/rest_info.csv` - информация о заведениях общественного питания;\n",
    "* `datasets/rest_price.csv` - информация о среднем чеке в заведениях общественного питания.\n",
    "    \n",
    "#### Описание датасета `rest_info`:\n",
    "* `name` — название заведения;\n",
    "* `address` — адрес заведения;\n",
    "* `district` — административный район, в котором находится заведение, например Центральный административный округ;\n",
    "* `category` — категория заведения, например «кафе», «пиццерия» или «кофейня»;\n",
    "* `hours` — информация о днях и часах работы;\n",
    "* `rating` — рейтинг заведения по оценкам пользователей в Яндекс Картах (высшая оценка — 5.0);\n",
    "* `chain` — число, выраженное 0 или 1, которое показывает, является ли заведение сетевым (для маленьких сетей могут встречаться ошибки):\n",
    "  - `0` — заведение не является сетевым;\n",
    "  - `1` — заведение является сетевым.\n",
    "* `seats` — количество посадочных мест.\n",
    "\n",
    "#### Описание датасета `rest_price`:\n",
    "* `price` — категория цен в заведении;\n",
    "* `avg_bill` — строка, которая хранит среднюю стоимость заказа;\n",
    "* `middle_avg_bill` — число с оценкой среднего чека, которое указано только для значений из столбца avg_bill, начинающихся с подстроки «Средний счёт»;\n",
    "* `middle_coffee_cup` — число с оценкой одной чашки капучино, которое указано только для значений из столбца avg_bill, начинающихся с подстроки «Цена одной чашки капучино»."
   ]
  },
  {
   "cell_type": "markdown",
   "id": "4fecaf95",
   "metadata": {
    "id": "4fecaf95"
   },
   "source": [
    "### Содержимое проекта\n",
    "\n",
    "1. Загрузка данных и знакомство с ними.\n",
    "2. Предобработка данных\n",
    "3. Исследовательский анализ данных\n",
    "4. Итоговый вывод и рекомендации\n",
    "---"
   ]
  },
  {
   "cell_type": "markdown",
   "id": "6f7d21d6",
   "metadata": {
    "id": "6f7d21d6"
   },
   "source": [
    "## 1. Загрузка данных и знакомство с ними\n",
    "\n",
    "Загрузим необходимые библиотеки и данные о заведениях общественного питания Москвы. Затем выведем основную информацию о данных и первые пять строк датафреймов. "
   ]
  },
  {
   "cell_type": "code",
   "execution_count": 1,
   "id": "05faf34b",
   "metadata": {
    "id": "05faf34b"
   },
   "outputs": [],
   "source": [
    "# Импортируем необходимые библиотеки\n",
    "import pandas as pd\n",
    "import matplotlib.pyplot as plt\n",
    "import seaborn as sns\n",
    "from phik import phik_matrix"
   ]
  },
  {
   "cell_type": "code",
   "execution_count": 2,
   "id": "ce87c1db",
   "metadata": {
    "id": "ce87c1db"
   },
   "outputs": [],
   "source": [
    "# Выгрузим данные \n"
   ]
  },
  {
   "cell_type": "code",
   "execution_count": 3,
   "id": "4a993a4c",
   "metadata": {},
   "outputs": [
    {
     "data": {
      "text/html": [
       "<div>\n",
       "<style scoped>\n",
       "    .dataframe tbody tr th:only-of-type {\n",
       "        vertical-align: middle;\n",
       "    }\n",
       "\n",
       "    .dataframe tbody tr th {\n",
       "        vertical-align: top;\n",
       "    }\n",
       "\n",
       "    .dataframe thead th {\n",
       "        text-align: right;\n",
       "    }\n",
       "</style>\n",
       "<table border=\"1\" class=\"dataframe\">\n",
       "  <thead>\n",
       "    <tr style=\"text-align: right;\">\n",
       "      <th></th>\n",
       "      <th>id</th>\n",
       "      <th>name</th>\n",
       "      <th>category</th>\n",
       "      <th>address</th>\n",
       "      <th>district</th>\n",
       "      <th>hours</th>\n",
       "      <th>rating</th>\n",
       "      <th>chain</th>\n",
       "      <th>seats</th>\n",
       "    </tr>\n",
       "  </thead>\n",
       "  <tbody>\n",
       "    <tr>\n",
       "      <th>0</th>\n",
       "      <td>0c3e3439a8c64ea5bf6ecd6ca6ae19f0</td>\n",
       "      <td>WoWфли</td>\n",
       "      <td>кафе</td>\n",
       "      <td>Москва, улица Дыбенко, 7/1</td>\n",
       "      <td>Северный административный округ</td>\n",
       "      <td>ежедневно, 10:00–22:00</td>\n",
       "      <td>5.0</td>\n",
       "      <td>0</td>\n",
       "      <td>NaN</td>\n",
       "    </tr>\n",
       "    <tr>\n",
       "      <th>1</th>\n",
       "      <td>045780ada3474c57a2112e505d74b633</td>\n",
       "      <td>Четыре комнаты</td>\n",
       "      <td>ресторан</td>\n",
       "      <td>Москва, улица Дыбенко, 36, корп. 1</td>\n",
       "      <td>Северный административный округ</td>\n",
       "      <td>ежедневно, 10:00–22:00</td>\n",
       "      <td>4.5</td>\n",
       "      <td>0</td>\n",
       "      <td>4.0</td>\n",
       "    </tr>\n",
       "    <tr>\n",
       "      <th>2</th>\n",
       "      <td>1070b6b59144425896c65889347fcff6</td>\n",
       "      <td>Хазри</td>\n",
       "      <td>кафе</td>\n",
       "      <td>Москва, Клязьминская улица, 15</td>\n",
       "      <td>Северный административный округ</td>\n",
       "      <td>пн-чт 11:00–02:00; пт,сб 11:00–05:00; вс 11:00...</td>\n",
       "      <td>4.6</td>\n",
       "      <td>0</td>\n",
       "      <td>45.0</td>\n",
       "    </tr>\n",
       "    <tr>\n",
       "      <th>3</th>\n",
       "      <td>03ac7cd772104f65b58b349dc59f03ee</td>\n",
       "      <td>Dormouse Coffee Shop</td>\n",
       "      <td>кофейня</td>\n",
       "      <td>Москва, улица Маршала Федоренко, 12</td>\n",
       "      <td>Северный административный округ</td>\n",
       "      <td>ежедневно, 09:00–22:00</td>\n",
       "      <td>5.0</td>\n",
       "      <td>0</td>\n",
       "      <td>NaN</td>\n",
       "    </tr>\n",
       "    <tr>\n",
       "      <th>4</th>\n",
       "      <td>a163aada139c4c7f87b0b1c0b466a50f</td>\n",
       "      <td>Иль Марко</td>\n",
       "      <td>пиццерия</td>\n",
       "      <td>Москва, Правобережная улица, 1Б</td>\n",
       "      <td>Северный административный округ</td>\n",
       "      <td>ежедневно, 10:00–22:00</td>\n",
       "      <td>5.0</td>\n",
       "      <td>1</td>\n",
       "      <td>148.0</td>\n",
       "    </tr>\n",
       "  </tbody>\n",
       "</table>\n",
       "</div>"
      ],
      "text/plain": [
       "                                 id                  name  category  \\\n",
       "0  0c3e3439a8c64ea5bf6ecd6ca6ae19f0                WoWфли      кафе   \n",
       "1  045780ada3474c57a2112e505d74b633        Четыре комнаты  ресторан   \n",
       "2  1070b6b59144425896c65889347fcff6                 Хазри      кафе   \n",
       "3  03ac7cd772104f65b58b349dc59f03ee  Dormouse Coffee Shop   кофейня   \n",
       "4  a163aada139c4c7f87b0b1c0b466a50f             Иль Марко  пиццерия   \n",
       "\n",
       "                               address                         district  \\\n",
       "0           Москва, улица Дыбенко, 7/1  Северный административный округ   \n",
       "1   Москва, улица Дыбенко, 36, корп. 1  Северный административный округ   \n",
       "2       Москва, Клязьминская улица, 15  Северный административный округ   \n",
       "3  Москва, улица Маршала Федоренко, 12  Северный административный округ   \n",
       "4      Москва, Правобережная улица, 1Б  Северный административный округ   \n",
       "\n",
       "                                               hours  rating  chain  seats  \n",
       "0                             ежедневно, 10:00–22:00     5.0      0    NaN  \n",
       "1                             ежедневно, 10:00–22:00     4.5      0    4.0  \n",
       "2  пн-чт 11:00–02:00; пт,сб 11:00–05:00; вс 11:00...     4.6      0   45.0  \n",
       "3                             ежедневно, 09:00–22:00     5.0      0    NaN  \n",
       "4                             ежедневно, 10:00–22:00     5.0      1  148.0  "
      ]
     },
     "execution_count": 3,
     "metadata": {},
     "output_type": "execute_result"
    }
   ],
   "source": [
    "# Выведем первые пять строк датафрейма rest_info\n",
    "rest_info.head()"
   ]
  },
  {
   "cell_type": "code",
   "execution_count": 4,
   "id": "5fce3d78",
   "metadata": {
    "id": "18b5dfff"
   },
   "outputs": [
    {
     "name": "stdout",
     "output_type": "stream",
     "text": [
      "<class 'pandas.core.frame.DataFrame'>\n",
      "RangeIndex: 8406 entries, 0 to 8405\n",
      "Data columns (total 9 columns):\n",
      " #   Column    Non-Null Count  Dtype  \n",
      "---  ------    --------------  -----  \n",
      " 0   id        8406 non-null   object \n",
      " 1   name      8406 non-null   object \n",
      " 2   category  8406 non-null   object \n",
      " 3   address   8406 non-null   object \n",
      " 4   district  8406 non-null   object \n",
      " 5   hours     7870 non-null   object \n",
      " 6   rating    8406 non-null   float64\n",
      " 7   chain     8406 non-null   int64  \n",
      " 8   seats     4795 non-null   float64\n",
      "dtypes: float64(2), int64(1), object(6)\n",
      "memory usage: 591.2+ KB\n"
     ]
    }
   ],
   "source": [
    "# Выведем основную информацию датафрейма rest_info\n",
    "rest_info.info()"
   ]
  },
  {
   "cell_type": "code",
   "execution_count": 5,
   "id": "3158ad37",
   "metadata": {
    "id": "3158ad37"
   },
   "outputs": [
    {
     "data": {
      "text/html": [
       "<div>\n",
       "<style scoped>\n",
       "    .dataframe tbody tr th:only-of-type {\n",
       "        vertical-align: middle;\n",
       "    }\n",
       "\n",
       "    .dataframe tbody tr th {\n",
       "        vertical-align: top;\n",
       "    }\n",
       "\n",
       "    .dataframe thead th {\n",
       "        text-align: right;\n",
       "    }\n",
       "</style>\n",
       "<table border=\"1\" class=\"dataframe\">\n",
       "  <thead>\n",
       "    <tr style=\"text-align: right;\">\n",
       "      <th></th>\n",
       "      <th>id</th>\n",
       "      <th>price</th>\n",
       "      <th>avg_bill</th>\n",
       "      <th>middle_avg_bill</th>\n",
       "      <th>middle_coffee_cup</th>\n",
       "    </tr>\n",
       "  </thead>\n",
       "  <tbody>\n",
       "    <tr>\n",
       "      <th>0</th>\n",
       "      <td>045780ada3474c57a2112e505d74b633</td>\n",
       "      <td>выше среднего</td>\n",
       "      <td>Средний счёт:1500–1600 ₽</td>\n",
       "      <td>1550.0</td>\n",
       "      <td>NaN</td>\n",
       "    </tr>\n",
       "    <tr>\n",
       "      <th>1</th>\n",
       "      <td>1070b6b59144425896c65889347fcff6</td>\n",
       "      <td>средние</td>\n",
       "      <td>Средний счёт:от 1000 ₽</td>\n",
       "      <td>1000.0</td>\n",
       "      <td>NaN</td>\n",
       "    </tr>\n",
       "    <tr>\n",
       "      <th>2</th>\n",
       "      <td>03ac7cd772104f65b58b349dc59f03ee</td>\n",
       "      <td>NaN</td>\n",
       "      <td>Цена чашки капучино:155–185 ₽</td>\n",
       "      <td>NaN</td>\n",
       "      <td>170.0</td>\n",
       "    </tr>\n",
       "    <tr>\n",
       "      <th>3</th>\n",
       "      <td>a163aada139c4c7f87b0b1c0b466a50f</td>\n",
       "      <td>средние</td>\n",
       "      <td>Средний счёт:400–600 ₽</td>\n",
       "      <td>500.0</td>\n",
       "      <td>NaN</td>\n",
       "    </tr>\n",
       "    <tr>\n",
       "      <th>4</th>\n",
       "      <td>8a343546b24e4a499ad96eb7d0797a8a</td>\n",
       "      <td>средние</td>\n",
       "      <td>NaN</td>\n",
       "      <td>NaN</td>\n",
       "      <td>NaN</td>\n",
       "    </tr>\n",
       "  </tbody>\n",
       "</table>\n",
       "</div>"
      ],
      "text/plain": [
       "                                 id          price  \\\n",
       "0  045780ada3474c57a2112e505d74b633  выше среднего   \n",
       "1  1070b6b59144425896c65889347fcff6        средние   \n",
       "2  03ac7cd772104f65b58b349dc59f03ee            NaN   \n",
       "3  a163aada139c4c7f87b0b1c0b466a50f        средние   \n",
       "4  8a343546b24e4a499ad96eb7d0797a8a        средние   \n",
       "\n",
       "                        avg_bill  middle_avg_bill  middle_coffee_cup  \n",
       "0       Средний счёт:1500–1600 ₽           1550.0                NaN  \n",
       "1         Средний счёт:от 1000 ₽           1000.0                NaN  \n",
       "2  Цена чашки капучино:155–185 ₽              NaN              170.0  \n",
       "3         Средний счёт:400–600 ₽            500.0                NaN  \n",
       "4                            NaN              NaN                NaN  "
      ]
     },
     "execution_count": 5,
     "metadata": {},
     "output_type": "execute_result"
    }
   ],
   "source": [
    "# Выведем первые 5 строк датафрейма rest_price\n",
    "rest_price.head()"
   ]
  },
  {
   "cell_type": "code",
   "execution_count": 6,
   "id": "6071418c",
   "metadata": {
    "id": "f68a7419"
   },
   "outputs": [
    {
     "name": "stdout",
     "output_type": "stream",
     "text": [
      "<class 'pandas.core.frame.DataFrame'>\n",
      "RangeIndex: 4058 entries, 0 to 4057\n",
      "Data columns (total 5 columns):\n",
      " #   Column             Non-Null Count  Dtype  \n",
      "---  ------             --------------  -----  \n",
      " 0   id                 4058 non-null   object \n",
      " 1   price              3315 non-null   object \n",
      " 2   avg_bill           3816 non-null   object \n",
      " 3   middle_avg_bill    3149 non-null   float64\n",
      " 4   middle_coffee_cup  535 non-null    float64\n",
      "dtypes: float64(2), object(3)\n",
      "memory usage: 158.6+ KB\n"
     ]
    }
   ],
   "source": [
    "# Выведем основную информацию датафрейма rest_price\n",
    "rest_price.info()"
   ]
  },
  {
   "cell_type": "markdown",
   "id": "2c614a62",
   "metadata": {
    "id": "2c614a62"
   },
   "source": [
    "---\n",
    "\n",
    "### Промежуточный вывод\n"
   ]
  },
  {
   "cell_type": "markdown",
   "id": "d369c1d9",
   "metadata": {},
   "source": [
    "Датасет `rest_info` содержит 9 столбцов и 8406 строк, в которых представлена информация о заведениях общественного питания Москвы.\n",
    "\n",
    "Изучим типы данных в столбцах:\n",
    "* `id`, `name`, `category`, `address`, `district`, `hours` имеют тип данных `object`. Этот тип данных для них корректен, так как они содержат строковую информацию.\n",
    "* `rating` содержит значения от 1 до 5 с дробной частью, поэтому тип `float` корректен для данного столбца. Рекомендуется понизить разрядность до `float32`.\n",
    "* `chain` может принимать значение `0` или `1`, для данного столбца подходит тип `int` с понижением разрядности до `int8`.\n",
    "* `seats` содержит информацию о количестве мест в заведении, оно может быть представлено только целым числом. Поэтому для данного столбца рекомендуется использовать тип данных `int16`.\n",
    "\n",
    "После анализа видно, что один из восьми столбцов представлен некорректно. В двух столбцах присутствуют пропуски. Названия столбцов представленны в едином стиле, значения в столбцах совпадают с описанием. "
   ]
  },
  {
   "cell_type": "markdown",
   "id": "64a629b4",
   "metadata": {
    "id": "84e2bdab"
   },
   "source": [
    "Датасет `rest_price` содержит 5 столбцов и 4058 строк.\n",
    "\n",
    "После первичного анализа можно сделать выводы:\n",
    "* `id`, `price`, `avg_bill` хранят сроковые значения и имеют тип данных `object`. \n",
    "* `middle_avg_bill`, `middle_coffee_price` хранят информацию о средней цене и имеют тип данных `float64`.\n",
    "* Четыре столбца имеют пропуски.\n",
    "* Названия столбцов представленны в едином стиле и значения в столбцах совпадают с описанием."
   ]
  },
  {
   "cell_type": "markdown",
   "id": "6580f3a6",
   "metadata": {},
   "source": [
    "Первичное знакомство показывает, что в датасетах имеется большое количество пропусков."
   ]
  },
  {
   "cell_type": "markdown",
   "id": "8a8d1491",
   "metadata": {
    "id": "8a8d1491"
   },
   "source": [
    "### Подготовка единого датафрейма\n",
    "\n",
    "- Объединим данные двух датасетов в один. Соединять данные будем по `id` заведения. Используем значение параметра `how = 'left'`, поскольку для дальнейшей работы нам важны данные из датафрейма `rest_info`."
   ]
  },
  {
   "cell_type": "code",
   "execution_count": 7,
   "id": "3408e303",
   "metadata": {
    "id": "3408e303"
   },
   "outputs": [],
   "source": [
    "# Объединим данные в единый датафрейм rest\n",
    "rest = rest_info.merge(rest_price, on = 'id', how = 'left')"
   ]
  },
  {
   "cell_type": "code",
   "execution_count": 8,
   "id": "5695950b",
   "metadata": {
    "id": "5695950b"
   },
   "outputs": [
    {
     "name": "stdout",
     "output_type": "stream",
     "text": [
      "<class 'pandas.core.frame.DataFrame'>\n",
      "RangeIndex: 8406 entries, 0 to 8405\n",
      "Data columns (total 13 columns):\n",
      " #   Column             Non-Null Count  Dtype  \n",
      "---  ------             --------------  -----  \n",
      " 0   id                 8406 non-null   object \n",
      " 1   name               8406 non-null   object \n",
      " 2   category           8406 non-null   object \n",
      " 3   address            8406 non-null   object \n",
      " 4   district           8406 non-null   object \n",
      " 5   hours              7870 non-null   object \n",
      " 6   rating             8406 non-null   float64\n",
      " 7   chain              8406 non-null   int64  \n",
      " 8   seats              4795 non-null   float64\n",
      " 9   price              3315 non-null   object \n",
      " 10  avg_bill           3816 non-null   object \n",
      " 11  middle_avg_bill    3149 non-null   float64\n",
      " 12  middle_coffee_cup  535 non-null    float64\n",
      "dtypes: float64(4), int64(1), object(8)\n",
      "memory usage: 853.9+ KB\n"
     ]
    }
   ],
   "source": [
    "# Выводим информацию о датафрейме\n",
    "rest.info()"
   ]
  },
  {
   "cell_type": "markdown",
   "id": "be2732d3",
   "metadata": {
    "id": "6577c71c"
   },
   "source": [
    "Данные соединены."
   ]
  },
  {
   "cell_type": "markdown",
   "id": "956e82e2",
   "metadata": {
    "id": "956e82e2"
   },
   "source": [
    "## 2. Предобработка данных\n",
    "\n",
    "Понизим разрядность для столбца `chain`. Столбец `seats` не получится преобразовать из `float` в `integer`, поскольку в нем присутствуют пропуски."
   ]
  },
  {
   "cell_type": "code",
   "execution_count": 9,
   "id": "b5f2a94d",
   "metadata": {
    "id": "b5f2a94d"
   },
   "outputs": [],
   "source": [
    "rest['chain'] = pd.to_numeric(rest['chain'], errors = 'coerce', downcast = 'integer')"
   ]
  },
  {
   "cell_type": "code",
   "execution_count": 10,
   "id": "cd40bc4b",
   "metadata": {
    "id": "620d2f08"
   },
   "outputs": [
    {
     "name": "stdout",
     "output_type": "stream",
     "text": [
      "<class 'pandas.core.frame.DataFrame'>\n",
      "RangeIndex: 8406 entries, 0 to 8405\n",
      "Data columns (total 13 columns):\n",
      " #   Column             Non-Null Count  Dtype  \n",
      "---  ------             --------------  -----  \n",
      " 0   id                 8406 non-null   object \n",
      " 1   name               8406 non-null   object \n",
      " 2   category           8406 non-null   object \n",
      " 3   address            8406 non-null   object \n",
      " 4   district           8406 non-null   object \n",
      " 5   hours              7870 non-null   object \n",
      " 6   rating             8406 non-null   float64\n",
      " 7   chain              8406 non-null   int8   \n",
      " 8   seats              4795 non-null   float64\n",
      " 9   price              3315 non-null   object \n",
      " 10  avg_bill           3816 non-null   object \n",
      " 11  middle_avg_bill    3149 non-null   float64\n",
      " 12  middle_coffee_cup  535 non-null    float64\n",
      "dtypes: float64(4), int8(1), object(8)\n",
      "memory usage: 796.4+ KB\n"
     ]
    }
   ],
   "source": [
    "rest.info()"
   ]
  },
  {
   "cell_type": "markdown",
   "id": "2d06161b",
   "metadata": {
    "id": "3d8840ca"
   },
   "source": [
    "Посчитаем количество и процент строк с пропусками в датафрейме"
   ]
  },
  {
   "cell_type": "code",
   "execution_count": 11,
   "id": "2ea145ca",
   "metadata": {
    "id": "2ea145ca"
   },
   "outputs": [
    {
     "data": {
      "text/plain": [
       "middle_coffee_cup    7871\n",
       "middle_avg_bill      5257\n",
       "price                5091\n",
       "avg_bill             4590\n",
       "seats                3611\n",
       "hours                 536\n",
       "id                      0\n",
       "name                    0\n",
       "category                0\n",
       "address                 0\n",
       "district                0\n",
       "rating                  0\n",
       "chain                   0\n",
       "dtype: int64"
      ]
     },
     "execution_count": 11,
     "metadata": {},
     "output_type": "execute_result"
    }
   ],
   "source": [
    "#Посчитаем количество пропусков в каждом столбце в абсолютном и относительном значениях\n",
    "rest.isna().sum().sort_values(ascending = False)"
   ]
  },
  {
   "cell_type": "code",
   "execution_count": 12,
   "id": "cf3a672b",
   "metadata": {},
   "outputs": [
    {
     "data": {
      "text/plain": [
       "middle_coffee_cup    0.936355\n",
       "middle_avg_bill      0.625387\n",
       "price                0.605639\n",
       "avg_bill             0.546039\n",
       "seats                0.429574\n",
       "hours                0.063764\n",
       "id                   0.000000\n",
       "name                 0.000000\n",
       "category             0.000000\n",
       "address              0.000000\n",
       "district             0.000000\n",
       "rating               0.000000\n",
       "chain                0.000000\n",
       "dtype: float64"
      ]
     },
     "execution_count": 12,
     "metadata": {},
     "output_type": "execute_result"
    }
   ],
   "source": [
    "rest.isna().mean().sort_values(ascending = False)"
   ]
  },
  {
   "cell_type": "markdown",
   "id": "f8f21f89",
   "metadata": {},
   "source": [
    "* В столбце `middle_coffee_cup` 7871 пропуск (93.63%)\n",
    "* В столбце `middle_avg_bill` 5257 пропусков (62.53%)\n",
    "* В столбце `price` 5091 пропуск (60.56%)\n",
    "* В столбце `avg_bill` 4590 пропусков (54.6%)\n",
    "* В столбце `seats` 3611 пропусков (42,9%)\n",
    "* В столбце `hours` 536 пропусков (6.37%)\n",
    "\n",
    "\n",
    "\n",
    "\n",
    "\n",
    "\n",
    "В данном датафрейме большое количество пропусков. Это может быть связанно с тем, что информация, на основе которой составлен датасет, могла быть добавлена пользовалелями или взята из открытых источников, часть информации могла просто быть не добавлена либо не опубликована самим заведением. Также, в таких столбцах, как `middle_avg_bill` и `middle_coffee_cup` пропуски связаны с особенностью данных - наличие информации о них зависит от информации в столбце `avg_bill`.\n",
    "\n",
    "Для дальнейшего анализа мы не будем обрабатывать пропуски, поскольку из количество слишком большое для того, чтобы удалить или заменить на среднее значение. Пропуски же не помешают дальнейшему анализу данных."
   ]
  },
  {
   "cell_type": "markdown",
   "id": "fed5716a",
   "metadata": {
    "id": "0769b681"
   },
   "source": [
    "   * Нормализуем данные в столбцах `name`, `category`, `address`, `district`, `hours`, `price`. Проверим на неявные дубликаты поля `category`, `district`, `name`, `address`."
   ]
  },
  {
   "cell_type": "code",
   "execution_count": 13,
   "id": "95b15cd0",
   "metadata": {
    "id": "95b15cd0"
   },
   "outputs": [],
   "source": [
    "# Нормализуем данные\n",
    "for column in ['name', 'category', 'address', 'district', 'hours', 'price']:\n",
    "    rest[column] = rest[column].str.lower()"
   ]
  },
  {
   "cell_type": "code",
   "execution_count": 14,
   "id": "b52bae9a",
   "metadata": {
    "id": "b52bae9a"
   },
   "outputs": [
    {
     "data": {
      "text/plain": [
       "array(['кафе', 'ресторан', 'кофейня', 'пиццерия', 'бар,паб',\n",
       "       'быстрое питание', 'булочная', 'столовая'], dtype=object)"
      ]
     },
     "execution_count": 14,
     "metadata": {},
     "output_type": "execute_result"
    }
   ],
   "source": [
    "# Проверим столбцы category, district на наличие неявных дубликатов\n",
    "rest['category'].unique()"
   ]
  },
  {
   "cell_type": "code",
   "execution_count": 15,
   "id": "0bf7210e",
   "metadata": {},
   "outputs": [
    {
     "data": {
      "text/plain": [
       "array(['северный административный округ',\n",
       "       'северо-восточный административный округ',\n",
       "       'северо-западный административный округ',\n",
       "       'западный административный округ',\n",
       "       'центральный административный округ',\n",
       "       'восточный административный округ',\n",
       "       'юго-восточный административный округ',\n",
       "       'южный административный округ',\n",
       "       'юго-западный административный округ'], dtype=object)"
      ]
     },
     "execution_count": 15,
     "metadata": {},
     "output_type": "execute_result"
    }
   ],
   "source": [
    "rest['district'].unique()"
   ]
  },
  {
   "cell_type": "code",
   "execution_count": 16,
   "id": "04010562",
   "metadata": {},
   "outputs": [
    {
     "data": {
      "text/html": [
       "<div>\n",
       "<style scoped>\n",
       "    .dataframe tbody tr th:only-of-type {\n",
       "        vertical-align: middle;\n",
       "    }\n",
       "\n",
       "    .dataframe tbody tr th {\n",
       "        vertical-align: top;\n",
       "    }\n",
       "\n",
       "    .dataframe thead th {\n",
       "        text-align: right;\n",
       "    }\n",
       "</style>\n",
       "<table border=\"1\" class=\"dataframe\">\n",
       "  <thead>\n",
       "    <tr style=\"text-align: right;\">\n",
       "      <th></th>\n",
       "      <th>id</th>\n",
       "      <th>name</th>\n",
       "      <th>category</th>\n",
       "      <th>address</th>\n",
       "      <th>district</th>\n",
       "      <th>hours</th>\n",
       "      <th>rating</th>\n",
       "      <th>chain</th>\n",
       "      <th>seats</th>\n",
       "      <th>price</th>\n",
       "      <th>avg_bill</th>\n",
       "      <th>middle_avg_bill</th>\n",
       "      <th>middle_coffee_cup</th>\n",
       "    </tr>\n",
       "  </thead>\n",
       "  <tbody>\n",
       "    <tr>\n",
       "      <th>189</th>\n",
       "      <td>072032ce16dc47bfbc63b672c75bd371</td>\n",
       "      <td>кафе</td>\n",
       "      <td>кафе</td>\n",
       "      <td>москва, парк ангарские пруды</td>\n",
       "      <td>северный административный округ</td>\n",
       "      <td>ежедневно, 09:00–23:00</td>\n",
       "      <td>3.2</td>\n",
       "      <td>0</td>\n",
       "      <td>NaN</td>\n",
       "      <td>NaN</td>\n",
       "      <td>NaN</td>\n",
       "      <td>NaN</td>\n",
       "      <td>NaN</td>\n",
       "    </tr>\n",
       "    <tr>\n",
       "      <th>215</th>\n",
       "      <td>897ddbc6746c4388b19dc8a9fcdbb488</td>\n",
       "      <td>кафе</td>\n",
       "      <td>кафе</td>\n",
       "      <td>москва, парк ангарские пруды</td>\n",
       "      <td>северный административный округ</td>\n",
       "      <td>ежедневно, 10:00–22:00</td>\n",
       "      <td>3.2</td>\n",
       "      <td>0</td>\n",
       "      <td>NaN</td>\n",
       "      <td>NaN</td>\n",
       "      <td>NaN</td>\n",
       "      <td>NaN</td>\n",
       "      <td>NaN</td>\n",
       "    </tr>\n",
       "    <tr>\n",
       "      <th>1430</th>\n",
       "      <td>62608690e9cc464fbcd980cfd552e334</td>\n",
       "      <td>more poke</td>\n",
       "      <td>ресторан</td>\n",
       "      <td>москва, волоколамское шоссе, 11, стр. 2</td>\n",
       "      <td>северный административный округ</td>\n",
       "      <td>ежедневно, 09:00–21:00</td>\n",
       "      <td>4.2</td>\n",
       "      <td>0</td>\n",
       "      <td>188.0</td>\n",
       "      <td>NaN</td>\n",
       "      <td>NaN</td>\n",
       "      <td>NaN</td>\n",
       "      <td>NaN</td>\n",
       "    </tr>\n",
       "    <tr>\n",
       "      <th>1511</th>\n",
       "      <td>a69f018d5c064873a3b491b0121bc1b4</td>\n",
       "      <td>more poke</td>\n",
       "      <td>ресторан</td>\n",
       "      <td>москва, волоколамское шоссе, 11, стр. 2</td>\n",
       "      <td>северный административный округ</td>\n",
       "      <td>пн-чт 09:00–18:00; пт,сб 09:00–21:00; вс 09:00...</td>\n",
       "      <td>4.2</td>\n",
       "      <td>1</td>\n",
       "      <td>188.0</td>\n",
       "      <td>NaN</td>\n",
       "      <td>NaN</td>\n",
       "      <td>NaN</td>\n",
       "      <td>NaN</td>\n",
       "    </tr>\n",
       "    <tr>\n",
       "      <th>2211</th>\n",
       "      <td>c6ef39ae8a8c483d8f9a6531bc386a2c</td>\n",
       "      <td>раковарня клешни и хвосты</td>\n",
       "      <td>ресторан</td>\n",
       "      <td>москва, проспект мира, 118</td>\n",
       "      <td>северо-восточный административный округ</td>\n",
       "      <td>ежедневно, 12:00–00:00</td>\n",
       "      <td>4.4</td>\n",
       "      <td>0</td>\n",
       "      <td>150.0</td>\n",
       "      <td>NaN</td>\n",
       "      <td>NaN</td>\n",
       "      <td>NaN</td>\n",
       "      <td>NaN</td>\n",
       "    </tr>\n",
       "    <tr>\n",
       "      <th>2420</th>\n",
       "      <td>aba1de7ad7d64ac0a3f8684bda29d905</td>\n",
       "      <td>раковарня клешни и хвосты</td>\n",
       "      <td>бар,паб</td>\n",
       "      <td>москва, проспект мира, 118</td>\n",
       "      <td>северо-восточный административный округ</td>\n",
       "      <td>пн-чт 12:00–00:00; пт,сб 12:00–01:00; вс 12:00...</td>\n",
       "      <td>4.4</td>\n",
       "      <td>1</td>\n",
       "      <td>150.0</td>\n",
       "      <td>NaN</td>\n",
       "      <td>NaN</td>\n",
       "      <td>NaN</td>\n",
       "      <td>NaN</td>\n",
       "    </tr>\n",
       "    <tr>\n",
       "      <th>3091</th>\n",
       "      <td>3c2a73ea79a04be48858fab3685f2f37</td>\n",
       "      <td>хлеб да выпечка</td>\n",
       "      <td>булочная</td>\n",
       "      <td>москва, ярцевская улица, 19</td>\n",
       "      <td>западный административный округ</td>\n",
       "      <td>ежедневно, 09:00–22:00</td>\n",
       "      <td>4.1</td>\n",
       "      <td>1</td>\n",
       "      <td>276.0</td>\n",
       "      <td>NaN</td>\n",
       "      <td>NaN</td>\n",
       "      <td>NaN</td>\n",
       "      <td>NaN</td>\n",
       "    </tr>\n",
       "    <tr>\n",
       "      <th>3109</th>\n",
       "      <td>d3116844e4e048f99614eb30be3214e0</td>\n",
       "      <td>хлеб да выпечка</td>\n",
       "      <td>кафе</td>\n",
       "      <td>москва, ярцевская улица, 19</td>\n",
       "      <td>западный административный округ</td>\n",
       "      <td>NaN</td>\n",
       "      <td>4.1</td>\n",
       "      <td>0</td>\n",
       "      <td>276.0</td>\n",
       "      <td>NaN</td>\n",
       "      <td>NaN</td>\n",
       "      <td>NaN</td>\n",
       "      <td>NaN</td>\n",
       "    </tr>\n",
       "  </tbody>\n",
       "</table>\n",
       "</div>"
      ],
      "text/plain": [
       "                                    id                       name  category  \\\n",
       "189   072032ce16dc47bfbc63b672c75bd371                       кафе      кафе   \n",
       "215   897ddbc6746c4388b19dc8a9fcdbb488                       кафе      кафе   \n",
       "1430  62608690e9cc464fbcd980cfd552e334                  more poke  ресторан   \n",
       "1511  a69f018d5c064873a3b491b0121bc1b4                  more poke  ресторан   \n",
       "2211  c6ef39ae8a8c483d8f9a6531bc386a2c  раковарня клешни и хвосты  ресторан   \n",
       "2420  aba1de7ad7d64ac0a3f8684bda29d905  раковарня клешни и хвосты   бар,паб   \n",
       "3091  3c2a73ea79a04be48858fab3685f2f37            хлеб да выпечка  булочная   \n",
       "3109  d3116844e4e048f99614eb30be3214e0            хлеб да выпечка      кафе   \n",
       "\n",
       "                                      address  \\\n",
       "189              москва, парк ангарские пруды   \n",
       "215              москва, парк ангарские пруды   \n",
       "1430  москва, волоколамское шоссе, 11, стр. 2   \n",
       "1511  москва, волоколамское шоссе, 11, стр. 2   \n",
       "2211               москва, проспект мира, 118   \n",
       "2420               москва, проспект мира, 118   \n",
       "3091              москва, ярцевская улица, 19   \n",
       "3109              москва, ярцевская улица, 19   \n",
       "\n",
       "                                     district  \\\n",
       "189           северный административный округ   \n",
       "215           северный административный округ   \n",
       "1430          северный административный округ   \n",
       "1511          северный административный округ   \n",
       "2211  северо-восточный административный округ   \n",
       "2420  северо-восточный административный округ   \n",
       "3091          западный административный округ   \n",
       "3109          западный административный округ   \n",
       "\n",
       "                                                  hours  rating  chain  seats  \\\n",
       "189                              ежедневно, 09:00–23:00     3.2      0    NaN   \n",
       "215                              ежедневно, 10:00–22:00     3.2      0    NaN   \n",
       "1430                             ежедневно, 09:00–21:00     4.2      0  188.0   \n",
       "1511  пн-чт 09:00–18:00; пт,сб 09:00–21:00; вс 09:00...     4.2      1  188.0   \n",
       "2211                             ежедневно, 12:00–00:00     4.4      0  150.0   \n",
       "2420  пн-чт 12:00–00:00; пт,сб 12:00–01:00; вс 12:00...     4.4      1  150.0   \n",
       "3091                             ежедневно, 09:00–22:00     4.1      1  276.0   \n",
       "3109                                                NaN     4.1      0  276.0   \n",
       "\n",
       "     price avg_bill  middle_avg_bill  middle_coffee_cup  \n",
       "189    NaN      NaN              NaN                NaN  \n",
       "215    NaN      NaN              NaN                NaN  \n",
       "1430   NaN      NaN              NaN                NaN  \n",
       "1511   NaN      NaN              NaN                NaN  \n",
       "2211   NaN      NaN              NaN                NaN  \n",
       "2420   NaN      NaN              NaN                NaN  \n",
       "3091   NaN      NaN              NaN                NaN  \n",
       "3109   NaN      NaN              NaN                NaN  "
      ]
     },
     "execution_count": 16,
     "metadata": {},
     "output_type": "execute_result"
    }
   ],
   "source": [
    "rest[rest.duplicated(subset = ['name', 'address'], keep = False)]"
   ]
  },
  {
   "cell_type": "markdown",
   "id": "6c80d802",
   "metadata": {},
   "source": [
    "Обнаружены неявные дубликаты в строках с названием и адресом заведения. Найдем сумму дубликатов и удалим их."
   ]
  },
  {
   "cell_type": "code",
   "execution_count": 17,
   "id": "85db3b96",
   "metadata": {},
   "outputs": [
    {
     "data": {
      "text/plain": [
       "4"
      ]
     },
     "execution_count": 17,
     "metadata": {},
     "output_type": "execute_result"
    }
   ],
   "source": [
    "# Найдем количество дубликатов\n",
    "rest.duplicated(subset = ['name', 'address'], keep = 'last').sum()"
   ]
  },
  {
   "cell_type": "code",
   "execution_count": 18,
   "id": "6da12eca",
   "metadata": {},
   "outputs": [],
   "source": [
    "# Удалим дубликаты\n",
    "rest = rest.drop_duplicates(subset = ['name', 'address'])"
   ]
  },
  {
   "cell_type": "code",
   "execution_count": 19,
   "id": "c92c6d8b",
   "metadata": {},
   "outputs": [
    {
     "name": "stdout",
     "output_type": "stream",
     "text": [
      "<class 'pandas.core.frame.DataFrame'>\n",
      "Index: 8402 entries, 0 to 8405\n",
      "Data columns (total 13 columns):\n",
      " #   Column             Non-Null Count  Dtype  \n",
      "---  ------             --------------  -----  \n",
      " 0   id                 8402 non-null   object \n",
      " 1   name               8402 non-null   object \n",
      " 2   category           8402 non-null   object \n",
      " 3   address            8402 non-null   object \n",
      " 4   district           8402 non-null   object \n",
      " 5   hours              7867 non-null   object \n",
      " 6   rating             8402 non-null   float64\n",
      " 7   chain              8402 non-null   int8   \n",
      " 8   seats              4792 non-null   float64\n",
      " 9   price              3315 non-null   object \n",
      " 10  avg_bill           3816 non-null   object \n",
      " 11  middle_avg_bill    3149 non-null   float64\n",
      " 12  middle_coffee_cup  535 non-null    float64\n",
      "dtypes: float64(4), int8(1), object(8)\n",
      "memory usage: 861.5+ KB\n"
     ]
    }
   ],
   "source": [
    "rest.info()"
   ]
  },
  {
   "cell_type": "markdown",
   "id": "2c21d1f3",
   "metadata": {},
   "source": [
    "В результате изучения данных на наличие неявных дубликатов были обнаружены и удалены 4 дубликата в столбцах `name` и `address`."
   ]
  },
  {
   "cell_type": "markdown",
   "id": "8ba010a8",
   "metadata": {},
   "source": [
    "Проверим данные датафрейма на наличие явных дубликатов. Найдем сумму дубликатов."
   ]
  },
  {
   "cell_type": "code",
   "execution_count": 20,
   "id": "8acb6028",
   "metadata": {},
   "outputs": [
    {
     "data": {
      "text/plain": [
       "0"
      ]
     },
     "execution_count": 20,
     "metadata": {},
     "output_type": "execute_result"
    }
   ],
   "source": [
    "#Найдем сумму дубликатов в датафрейме\n",
    "rest.duplicated(keep='last').sum()"
   ]
  },
  {
   "cell_type": "markdown",
   "id": "773fa26a",
   "metadata": {},
   "source": [
    "Явных дубликатов не обнаружено."
   ]
  },
  {
   "cell_type": "markdown",
   "id": "4c0563f2",
   "metadata": {
    "id": "4c0563f2"
   },
   "source": [
    "- Для дальнейшей работы создадим столбец `is_24_7` с обозначением того, что заведение работает ежедневно и круглосуточно, то есть 24/7:\n",
    "  - логическое значение `True` — если заведение работает ежедневно и круглосуточно;\n",
    "  - логическое значение `False` — в противоположном случае.\n",
    "  \n",
    "  Для этого создадим функцию с оператором `if`."
   ]
  },
  {
   "cell_type": "code",
   "execution_count": 21,
   "id": "d8a8a963",
   "metadata": {
    "id": "d8a8a963"
   },
   "outputs": [],
   "source": [
    "# Создаем функцию, проверяющую, является ли заведение круглосуточным\n",
    "def is_24_7(hours):\n",
    "    # Проверяем, чтобы переменная была строкой\n",
    "    if isinstance(hours, str):\n",
    "        # Проверяем, что заведение работает круглосуточно\n",
    "        if 'ежедневно' in hours and 'круглосуточно' in hours:\n",
    "            return True\n",
    "    return False\n",
    "# Присваиваем столбцу is_24_7 соответствующие значения\n",
    "rest['is_24_7'] = rest['hours'].apply(is_24_7)"
   ]
  },
  {
   "cell_type": "markdown",
   "id": "562f30ab",
   "metadata": {
    "id": "562f30ab"
   },
   "source": [
    "---\n",
    "\n",
    "### Промежуточный вывод\n",
    "\n",
    "В результате предобработки были выполнены следующие действия:\n",
    "* В столбце `chain` была понижена разрядность до `int8`\n",
    "* Изучены пропуски в данных. Пропуски обнаружились в столбцах `hours`(6.37%), `seats`(42.9%), `price`(60.56%), `avg_bill`(54.6%), `middle_avg_bill`(62.53%), `middle_coffee_cup`(93.63%). Пропуски было решено оставить как есть в связи с их большим количеством и особенностью данных, также в дальнейшем пропуски не помешают анализу.\n",
    "* Нормализованы данные в столбцах `name`, `category`, `address`, `district`, `hours`, `price`.\n",
    "* Данные проверили на явные и неявные дубликаты. `4` неявных дубликата были удалены, явных дубликатов не обнаружено.\n",
    "* Создан столбец `is_24_7`, принимающий значения `True` или `False` и указывающий на то, является ли заведение круглосуточным."
   ]
  },
  {
   "cell_type": "markdown",
   "id": "6953e84c",
   "metadata": {
    "id": "6953e84c"
   },
   "source": [
    "## 3. Исследовательский анализ данных"
   ]
  },
  {
   "cell_type": "markdown",
   "id": "8555d840",
   "metadata": {
    "id": "8555d840"
   },
   "source": [
    "---\n",
    "\n",
    "### Задача 1\n",
    "\n",
    "Исследуем количество объектов общественного питания по каждой категории, визуализируем результат."
   ]
  },
  {
   "cell_type": "code",
   "execution_count": 22,
   "id": "ef2bffe9",
   "metadata": {
    "id": "ef2bffe9"
   },
   "outputs": [
    {
     "data": {
      "text/plain": [
       "category\n",
       "кафе               2376\n",
       "ресторан           2042\n",
       "кофейня            1413\n",
       "бар,паб             764\n",
       "пиццерия            633\n",
       "быстрое питание     603\n",
       "столовая            315\n",
       "булочная            256\n",
       "Name: count, dtype: int64"
      ]
     },
     "execution_count": 22,
     "metadata": {},
     "output_type": "execute_result"
    }
   ],
   "source": [
    "# Проверяем распределение заведений по категориям\n",
    "rest['category'].value_counts()"
   ]
  },
  {
   "cell_type": "markdown",
   "id": "fc1d63c9",
   "metadata": {
    "id": "71ab5e91"
   },
   "source": [
    "Визуализируем распределение в столбце `category`:"
   ]
  },
  {
   "cell_type": "code",
   "execution_count": 23,
   "id": "63360b97",
   "metadata": {
    "id": "63360b97"
   },
   "outputs": [
    {
     "data": {
      "image/png": "[encoded data removed]",
      "text/plain": [
       "<Figure size 504x288 with 1 Axes>"
      ]
     },
     "metadata": {
      "needs_background": "light"
     },
     "output_type": "display_data"
    }
   ],
   "source": [
    "# Визуализируем распределение заведений по категориям с помощью столбчатой диаграммы\n",
    "plt.figure(figsize=(7, 4))\n",
    "\n",
    "\n",
    "rest['category'].value_counts().plot(\n",
    "               kind='bar', \n",
    "               rot=45,  \n",
    "               legend=False,  \n",
    "               title=f'Распределение количества объектов общественного питания в зависимости от его категории'\n",
    ")\n",
    "\n",
    "plt.xlabel('Категория заведения')\n",
    "plt.ylabel('Количество заведений')\n",
    " \n",
    "plt.grid()\n",
    " \n",
    "plt.show()"
   ]
  },
  {
   "cell_type": "markdown",
   "id": "9918662d",
   "metadata": {},
   "source": [
    "В данных были представлены следующие категории заведений: кафе, ресторан, кофейня, бар, паб, пиццерия, быстрое питание, столовая, булочная. Самые популярные из них - кафе и ресторан, самые непопулярные - столовая и булочная.     "
   ]
  },
  {
   "cell_type": "markdown",
   "id": "6821e1d0",
   "metadata": {
    "id": "6821e1d0"
   },
   "source": [
    "---\n",
    "\n",
    "### Задача 2\n"
   ]
  },
  {
   "cell_type": "markdown",
   "id": "3c7b4996",
   "metadata": {},
   "source": [
    "Исследуем распределение заведений по районам Москвы."
   ]
  },
  {
   "cell_type": "code",
   "execution_count": 24,
   "id": "e62f31be",
   "metadata": {
    "id": "e62f31be"
   },
   "outputs": [
    {
     "data": {
      "text/plain": [
       "district\n",
       "центральный административный округ         2242\n",
       "северный административный округ             898\n",
       "южный административный округ                892\n",
       "северо-восточный административный округ     890\n",
       "западный административный округ             850\n",
       "восточный административный округ            798\n",
       "юго-восточный административный округ        714\n",
       "юго-западный административный округ         709\n",
       "северо-западный административный округ      409\n",
       "Name: count, dtype: int64"
      ]
     },
     "execution_count": 24,
     "metadata": {},
     "output_type": "execute_result"
    }
   ],
   "source": [
    "# Проверяем распределение заведений по районам Москвы\n",
    "rest['district'].value_counts()"
   ]
  },
  {
   "cell_type": "markdown",
   "id": "17cd7e34",
   "metadata": {
    "id": "0a290cd1"
   },
   "source": [
    "Визуализируем распределение заведений по районам:"
   ]
  },
  {
   "cell_type": "code",
   "execution_count": 25,
   "id": "41f1654a",
   "metadata": {
    "id": "41f1654a"
   },
   "outputs": [
    {
     "data": {
      "image/png": "[encoded data removed]",
      "text/plain": [
       "<Figure size 504x288 with 1 Axes>"
      ]
     },
     "metadata": {
      "needs_background": "light"
     },
     "output_type": "display_data"
    }
   ],
   "source": [
    "# Визуализируем распределение заведений по районам с помощью столбчатой диаграммы\n",
    "plt.figure(figsize=(7, 4))\n",
    "\n",
    "\n",
    "rest['district'].value_counts().sort_values().plot(\n",
    "               kind='barh', \n",
    "               rot=0, \n",
    "               legend=False,\n",
    "               title=f'Распределение количества объектов общественного питания по  районам Москвы'\n",
    ")\n",
    "\n",
    "plt.xlabel('Количество заведений')\n",
    "plt.ylabel('Район')\n",
    "\n",
    "plt.grid()\n",
    "\n",
    "plt.show()"
   ]
  },
  {
   "cell_type": "markdown",
   "id": "48a08f43",
   "metadata": {},
   "source": [
    "В данных присутствуют следующие административные районы: Центральный административный округ, Северный административный округ, Южный административный округ, Северо-Восточный административный округ, Западный административный округ, Восточный административный округ, Юго-Восточный административный округ, Юго-Западный административный округ, Северо-Западный административный округ. \n",
    "\n",
    "Больше всего заведений расположено в Центральном административном округе, меньше всего в Северо-Западном. В остальных округах примерно одинаковое количество заведений."
   ]
  },
  {
   "cell_type": "markdown",
   "id": "410e0eaf",
   "metadata": {},
   "source": [
    "Исследуем распределение категорий заведений в Центральном округе. Для этого создадим датафрейм с данным только для Центрального административного округа."
   ]
  },
  {
   "cell_type": "code",
   "execution_count": 26,
   "id": "165d74dd",
   "metadata": {},
   "outputs": [
    {
     "data": {
      "text/plain": [
       "category\n",
       "ресторан           670\n",
       "кафе               464\n",
       "кофейня            428\n",
       "бар,паб            364\n",
       "пиццерия           113\n",
       "быстрое питание     87\n",
       "столовая            66\n",
       "булочная            50\n",
       "Name: count, dtype: int64"
      ]
     },
     "execution_count": 26,
     "metadata": {},
     "output_type": "execute_result"
    }
   ],
   "source": [
    "# Создаем отфильтрованный датафрейм\n",
    "cao_rest = rest[rest['district'] == 'центральный административный округ']\n",
    "# Проверяем распределение заведений по категориям\n",
    "cao_rest['category'].value_counts()"
   ]
  },
  {
   "cell_type": "markdown",
   "id": "03e726b7",
   "metadata": {},
   "source": [
    "Визуализируем распределение заведений по категориям в Центральном административном округе."
   ]
  },
  {
   "cell_type": "code",
   "execution_count": 27,
   "id": "23bdf344",
   "metadata": {},
   "outputs": [
    {
     "data": {
      "image/png": "[encoded data removed]",
      "text/plain": [
       "<Figure size 504x288 with 1 Axes>"
      ]
     },
     "metadata": {
      "needs_background": "light"
     },
     "output_type": "display_data"
    }
   ],
   "source": [
    "# Визуализируем распределение заведений по категориям с помощью столбчатой диаграммы\n",
    "plt.figure(figsize = (7, 4))\n",
    "\n",
    "cao_rest['category'].value_counts().plot(kind = 'bar',\n",
    "                                         rot = 45,\n",
    "                                       legend = False,\n",
    "                                       title = 'Распределение заведений по категориям в Центральном административном округе')\n",
    "plt.xlabel('Категория заведения')\n",
    "plt.ylabel('Количество заведений')\n",
    "\n",
    "plt.grid()\n",
    "\n",
    "plt.show()"
   ]
  },
  {
   "cell_type": "markdown",
   "id": "1741b045",
   "metadata": {},
   "source": [
    "Результаты показывают, что самые популярные категории заведений в Центральном адмнистративном районе это ресторан и кафе, а самые непопулярные - столовая и булочная.\n",
    "\n",
    "Отметим, что распределение заведений по категориям в Центральном районе похоже на распределение заведений по всей Москве."
   ]
  },
  {
   "cell_type": "markdown",
   "id": "7c824f58",
   "metadata": {
    "id": "7c824f58"
   },
   "source": [
    "---\n",
    "\n",
    "### Задача 3\n",
    "\n",
    "Изучим соотношение сетевых и несетевых заведений в целом по всем данным и в разрезе категорий заведения. "
   ]
  },
  {
   "cell_type": "code",
   "execution_count": 28,
   "id": "0de29fa2",
   "metadata": {
    "id": "0de29fa2"
   },
   "outputs": [
    {
     "data": {
      "text/plain": [
       "chain\n",
       "0    5199\n",
       "1    3203\n",
       "Name: count, dtype: int64"
      ]
     },
     "execution_count": 28,
     "metadata": {},
     "output_type": "execute_result"
    }
   ],
   "source": [
    "# Изучим количество сетевых и несетевых заведений\n",
    "rest['chain'].value_counts()"
   ]
  },
  {
   "cell_type": "code",
   "execution_count": 29,
   "id": "77cfa14a",
   "metadata": {},
   "outputs": [
    {
     "data": {
      "image/png": "[encoded data removed]",
      "text/plain": [
       "<Figure size 504x216 with 1 Axes>"
      ]
     },
     "metadata": {
      "needs_background": "light"
     },
     "output_type": "display_data"
    }
   ],
   "source": [
    "# Визуализируем количество сетевых и несетевых заведений\n",
    "plt.figure(figsize = (7, 3))\n",
    "\n",
    "rest['chain'].value_counts().plot(kind = 'bar', \n",
    "                                  rot = 0, \n",
    "                                  legend = False,\n",
    "                                  title = 'Соотношение сетевых и несетевых заведений')\n",
    "plt.xticks(ticks=[0, 1], labels=['Не сетевое', 'Сетевое'], rotation=0)\n",
    "\n",
    "plt.xlabel('Тип заведения')\n",
    "plt.ylabel('Количество заведений')\n",
    "\n",
    "plt.grid()\n",
    "plt.show()"
   ]
  },
  {
   "cell_type": "code",
   "execution_count": 30,
   "id": "050f27a8",
   "metadata": {},
   "outputs": [
    {
     "data": {
      "text/plain": [
       "chain\n",
       "0    61.878124\n",
       "1    38.121876\n",
       "Name: proportion, dtype: float64"
      ]
     },
     "execution_count": 30,
     "metadata": {},
     "output_type": "execute_result"
    }
   ],
   "source": [
    "# Изучим соотношение сетевых и несетевых заведений\n",
    "chain_ratio = rest['chain'].value_counts(normalize=True)*100\n",
    "chain_ratio"
   ]
  },
  {
   "cell_type": "code",
   "execution_count": 31,
   "id": "d8c0266b",
   "metadata": {},
   "outputs": [
    {
     "data": {
      "image/png": "[encoded data removed]",
      "text/plain": [
       "<Figure size 504x216 with 1 Axes>"
      ]
     },
     "metadata": {
      "needs_background": "light"
     },
     "output_type": "display_data"
    }
   ],
   "source": [
    "# Визуализируем соотношение сетевых и несетевых заведений\n",
    "plt.figure(figsize = (7, 3))\n",
    "\n",
    "chain_ratio.plot(kind = 'bar', \n",
    "                rot = 0, \n",
    "                legend = False,\n",
    "                title = 'Соотношение сетевых и несетевых заведений')\n",
    "plt.xticks(ticks=[0, 1], labels=['Не сетевое', 'Сетевое'], rotation=0)\n",
    "\n",
    "plt.xlabel('Тип заведения')\n",
    "plt.ylabel('Количество заведений')\n",
    "\n",
    "plt.grid()\n",
    "plt.show()"
   ]
  },
  {
   "cell_type": "markdown",
   "id": "06f5f0e3",
   "metadata": {},
   "source": [
    "Исходя из визуализаций, можно сделать вывод, что несетевых заведений больше, чем сетевых. Несетевые заведения составляют 61%, сетевые - 39%"
   ]
  },
  {
   "cell_type": "markdown",
   "id": "f6efb72b",
   "metadata": {},
   "source": [
    "Изучим распределение сетевых и несетевых заведений в разрезе категорий. "
   ]
  },
  {
   "cell_type": "code",
   "execution_count": 32,
   "id": "c0111443",
   "metadata": {},
   "outputs": [],
   "source": [
    "# Сгруппируем данные по category и chain, посчитаем количество заведений\n",
    "category_chain_counts = rest.groupby(['category', 'chain']).size().unstack(fill_value=0)"
   ]
  },
  {
   "cell_type": "code",
   "execution_count": 33,
   "id": "8aac66fc",
   "metadata": {},
   "outputs": [],
   "source": [
    "# Рассчитаем процентное соотношение для сетевых и несетевых заведений\n",
    "category_chain_counts['no_chain'] = (category_chain_counts[0] / category_chain_counts.sum(axis=1)) * 100\n",
    "category_chain_counts['chain'] = (category_chain_counts[1] / category_chain_counts.sum(axis=1)) * 100"
   ]
  },
  {
   "cell_type": "code",
   "execution_count": 34,
   "id": "09d6062b",
   "metadata": {},
   "outputs": [
    {
     "data": {
      "text/html": [
       "<div>\n",
       "<style scoped>\n",
       "    .dataframe tbody tr th:only-of-type {\n",
       "        vertical-align: middle;\n",
       "    }\n",
       "\n",
       "    .dataframe tbody tr th {\n",
       "        vertical-align: top;\n",
       "    }\n",
       "\n",
       "    .dataframe thead th {\n",
       "        text-align: right;\n",
       "    }\n",
       "</style>\n",
       "<table border=\"1\" class=\"dataframe\">\n",
       "  <thead>\n",
       "    <tr style=\"text-align: right;\">\n",
       "      <th>chain</th>\n",
       "      <th>no_chain</th>\n",
       "      <th>chain</th>\n",
       "    </tr>\n",
       "    <tr>\n",
       "      <th>category</th>\n",
       "      <th></th>\n",
       "      <th></th>\n",
       "    </tr>\n",
       "  </thead>\n",
       "  <tbody>\n",
       "    <tr>\n",
       "      <th>бар,паб</th>\n",
       "      <td>78.010471</td>\n",
       "      <td>19.952246</td>\n",
       "    </tr>\n",
       "    <tr>\n",
       "      <th>булочная</th>\n",
       "      <td>38.671875</td>\n",
       "      <td>53.279601</td>\n",
       "    </tr>\n",
       "    <tr>\n",
       "      <th>быстрое питание</th>\n",
       "      <td>61.525705</td>\n",
       "      <td>34.912118</td>\n",
       "    </tr>\n",
       "    <tr>\n",
       "      <th>кафе</th>\n",
       "      <td>67.213805</td>\n",
       "      <td>31.884234</td>\n",
       "    </tr>\n",
       "    <tr>\n",
       "      <th>кофейня</th>\n",
       "      <td>49.044586</td>\n",
       "      <td>49.246104</td>\n",
       "    </tr>\n",
       "    <tr>\n",
       "      <th>пиццерия</th>\n",
       "      <td>47.867299</td>\n",
       "      <td>48.467594</td>\n",
       "    </tr>\n",
       "    <tr>\n",
       "      <th>ресторан</th>\n",
       "      <td>64.299706</td>\n",
       "      <td>34.610459</td>\n",
       "    </tr>\n",
       "    <tr>\n",
       "      <th>столовая</th>\n",
       "      <td>72.063492</td>\n",
       "      <td>22.735288</td>\n",
       "    </tr>\n",
       "  </tbody>\n",
       "</table>\n",
       "</div>"
      ],
      "text/plain": [
       "chain             no_chain      chain\n",
       "category                             \n",
       "бар,паб          78.010471  19.952246\n",
       "булочная         38.671875  53.279601\n",
       "быстрое питание  61.525705  34.912118\n",
       "кафе             67.213805  31.884234\n",
       "кофейня          49.044586  49.246104\n",
       "пиццерия         47.867299  48.467594\n",
       "ресторан         64.299706  34.610459\n",
       "столовая         72.063492  22.735288"
      ]
     },
     "execution_count": 34,
     "metadata": {},
     "output_type": "execute_result"
    }
   ],
   "source": [
    "# Для построения графика оставим только столбцы с процентным соотношением\n",
    "percent_data = category_chain_counts[['no_chain', 'chain']]\n",
    "percent_data"
   ]
  },
  {
   "cell_type": "code",
   "execution_count": 35,
   "id": "ebf84a54",
   "metadata": {},
   "outputs": [
    {
     "data": {
      "text/plain": [
       "<Figure size 504x216 with 0 Axes>"
      ]
     },
     "metadata": {},
     "output_type": "display_data"
    },
    {
     "data": {
      "image/png": "[encoded data removed]",
      "text/plain": [
       "<Figure size 720x432 with 1 Axes>"
      ]
     },
     "metadata": {
      "needs_background": "light"
     },
     "output_type": "display_data"
    }
   ],
   "source": [
    "# Визуализируем с помощью столбчатой диаграммы\n",
    "plt.figure(figsize = (7, 3))\n",
    "percent_data.sort_values(by = ['chain', 'no_chain'], ascending = False).plot(kind='bar', figsize=(10, 6), rot = 45)\n",
    "\n",
    "plt.xlabel('Категория заведений')\n",
    "plt.ylabel('Процентное соотношение, %')\n",
    "plt.title('Соотношение сетевых и несетевых заведений по категориям (в процентах)')\n",
    "\n",
    "plt.legend(title='Тип заведения')\n",
    "\n",
    "plt.show()"
   ]
  },
  {
   "cell_type": "markdown",
   "id": "c1b5fb12",
   "metadata": {},
   "source": [
    "Исходя из визуализации, можно сделать вывод, что чаще всего сетевыми являются булочные, кофейни и  пиццерии. Несетевыми чаще всего являются бары, столовые и кафе."
   ]
  },
  {
   "cell_type": "markdown",
   "id": "5913c3e3",
   "metadata": {
    "id": "5913c3e3"
   },
   "source": [
    "---\n",
    "\n",
    "### Задача 4\n"
   ]
  },
  {
   "cell_type": "markdown",
   "id": "9386463c",
   "metadata": {
    "id": "6cb238d2"
   },
   "source": [
    "Исследуем количество посадочных мест в заведениях\n",
    "\n",
    "Оценим статистические показатели столбца `seats`."
   ]
  },
  {
   "cell_type": "code",
   "execution_count": 36,
   "id": "062b55d8",
   "metadata": {
    "id": "062b55d8"
   },
   "outputs": [
    {
     "data": {
      "text/plain": [
       "count    4792.000000\n",
       "mean      108.361436\n",
       "std       122.841130\n",
       "min         0.000000\n",
       "25%        40.000000\n",
       "50%        75.000000\n",
       "75%       140.000000\n",
       "max      1288.000000\n",
       "Name: seats, dtype: float64"
      ]
     },
     "execution_count": 36,
     "metadata": {},
     "output_type": "execute_result"
    }
   ],
   "source": [
    "# Изучим статистические показатели столбца seats\n",
    "rest['seats'].describe()"
   ]
  },
  {
   "cell_type": "code",
   "execution_count": 37,
   "id": "a7678e07",
   "metadata": {},
   "outputs": [
    {
     "data": {
      "text/plain": [
       "625.0"
      ]
     },
     "execution_count": 37,
     "metadata": {},
     "output_type": "execute_result"
    }
   ],
   "source": [
    "# Изучим 99-й квантиль столбца seats\n",
    "rest['seats'].quantile(0.99)"
   ]
  },
  {
   "cell_type": "markdown",
   "id": "2183695c",
   "metadata": {
    "id": "ceadf25b"
   },
   "source": [
    "Можно предположить, что в данных встречаются аномальные значения, так как максимальное значение равно 1288, что странно для количества посадочных мест. Также об этом говорит то, что 99% данных находятся ниже 625. Минимальное же значение равно 0, однако это может не быть аномалией и говорить о том, что заведение работает \"навынос\" и не предполагает посадочных мест. Разница между средним значением и медианой довольно большая, что может говорить о ненормальном распределении данных. Стандартное отклонение достаточно высокое, оно равно 122, при среднем значении 108 это может говорить о том, что данные имеют широкий разброс. Это подтверждает разница между минимальнымм и максимальным значением.\n",
    "\n",
    "Дополнительно построим гистограмму распределения значений и диаграмму размаха для столбца с балансом."
   ]
  },
  {
   "cell_type": "code",
   "execution_count": 38,
   "id": "4eacbadf",
   "metadata": {},
   "outputs": [
    {
     "data": {
      "image/png": "[encoded data removed]",
      "text/plain": [
       "<Figure size 504x360 with 1 Axes>"
      ]
     },
     "metadata": {
      "needs_background": "light"
     },
     "output_type": "display_data"
    }
   ],
   "source": [
    "# Построим гистограмму распределения\n",
    "plt.figure(figsize=(7, 5))\n",
    "\n",
    "rest['seats'].plot(\n",
    "                kind='hist', \n",
    "                bins=25, \n",
    "                alpha=0.75,\n",
    "                edgecolor='k',\n",
    "                rot=0, \n",
    ")\n",
    "\n",
    "plt.title('Распределение количества посадочных мест')\n",
    "plt.xlabel('Количество посадочных мест')\n",
    "plt.ylabel('Частота')\n",
    "\n",
    "plt.grid()\n",
    "\n",
    "plt.show()"
   ]
  },
  {
   "cell_type": "code",
   "execution_count": 39,
   "id": "ba11a672",
   "metadata": {},
   "outputs": [
    {
     "data": {
      "image/png": "[encoded data removed]",
      "text/plain": [
       "<Figure size 504x144 with 1 Axes>"
      ]
     },
     "metadata": {
      "needs_background": "light"
     },
     "output_type": "display_data"
    }
   ],
   "source": [
    "# Строим диаграмму размаха значений \n",
    "plt.figure(figsize=(7, 2))\n",
    "\n",
    "\n",
    "rest.boxplot(column='seats', vert=False)\n",
    "\n",
    "plt.title('Распределение количества посадочных мест')\n",
    "plt.xlabel('Количество посадочных мест')\n",
    "\n",
    "plt.show()"
   ]
  },
  {
   "cell_type": "markdown",
   "id": "c9a51843",
   "metadata": {},
   "source": [
    "Из визуализаций видно, что распределение данных является негауссовым, пик распределения приходится на левую границу значений, с правой стороны присутствует длинный \"хвост\". Такие высокие значения можно отнести к выбросам. Однако, возможно, в Москве есть несколько уникальных заведений с большим количеством мест, рассчитанных, например, на банкеты и большие мероприятия. Или же это может быть связано с качеством данных, полученных от пользователей и из окрытых источников.\n",
    "\n",
    "\n",
    "\n",
    "- Приведем для каждой категории заведений наиболее типичное для него количество посадочных мест. Построим столбчатую диаграмму для визуализации."
   ]
  },
  {
   "cell_type": "code",
   "execution_count": 40,
   "id": "e0716b1f",
   "metadata": {},
   "outputs": [
    {
     "data": {
      "text/plain": [
       "category\n",
       "бар,паб             60.0\n",
       "булочная             0.0\n",
       "быстрое питание      0.0\n",
       "кафе                40.0\n",
       "кофейня            100.0\n",
       "пиццерия            40.0\n",
       "ресторан           100.0\n",
       "столовая            40.0\n",
       "Name: seats, dtype: float64"
      ]
     },
     "execution_count": 40,
     "metadata": {},
     "output_type": "execute_result"
    }
   ],
   "source": [
    "# Изучим моду количества посадочных мест для каждой категории заведения\n",
    "rest.groupby('category')['seats'].apply(lambda x: x.mode().iloc[0])"
   ]
  },
  {
   "cell_type": "code",
   "execution_count": 41,
   "id": "4095ea11",
   "metadata": {},
   "outputs": [
    {
     "data": {
      "image/png": "[encoded data removed]",
      "text/plain": [
       "<Figure size 504x288 with 1 Axes>"
      ]
     },
     "metadata": {
      "needs_background": "light"
     },
     "output_type": "display_data"
    }
   ],
   "source": [
    "# Построим столбчатую диаграмму\n",
    "plt.figure(figsize = (7, 4))\n",
    "\n",
    "rest.groupby('category')['seats'].apply(lambda x: x.mode().iloc[0]).sort_values(ascending = False).plot(kind = 'bar', \n",
    "                                                                         rot = 45, \n",
    "                                                                         legend = False,\n",
    "                                                                        title = 'Мода количества посадочных мест для разных категорий заведений')\n",
    "\n",
    "plt.xlabel('Категория заведения')\n",
    "plt.ylabel('Мода количества посадочных мест')\n",
    "\n",
    "plt.grid()\n",
    "plt.show()"
   ]
  },
  {
   "cell_type": "markdown",
   "id": "294d0d64",
   "metadata": {},
   "source": [
    "Наибольшее значение моды количества посадочных мест у категорий \"кофейня\" и \"ресторан\". Наименьшее значение имеют \"булочная\" и \"быстрое питание\", в заведениях этой категории чаще всего нет посадочных мест, для заведений таких категорий это частый случай."
   ]
  },
  {
   "cell_type": "markdown",
   "id": "8ed065ea",
   "metadata": {
    "id": "8ed065ea"
   },
   "source": [
    "---\n",
    "\n",
    "### Задача 5\n",
    "\n",
    "Исследуем рейтинг заведений. Визуализируем распределение средних рейтингов по категориям заведений. "
   ]
  },
  {
   "cell_type": "code",
   "execution_count": 42,
   "id": "cc5206f8",
   "metadata": {
    "id": "cc5206f8"
   },
   "outputs": [
    {
     "data": {
      "text/plain": [
       "category\n",
       "быстрое питание    4.050249\n",
       "кафе               4.124285\n",
       "столовая           4.211429\n",
       "булочная           4.268359\n",
       "кофейня            4.277282\n",
       "ресторан           4.290402\n",
       "пиццерия           4.301264\n",
       "бар,паб            4.387696\n",
       "Name: rating, dtype: float64"
      ]
     },
     "execution_count": 42,
     "metadata": {},
     "output_type": "execute_result"
    }
   ],
   "source": [
    "# Изучим распределение средних рейтингов по категориям заведений\n",
    "rest.groupby('category')['rating'].mean().sort_values()"
   ]
  },
  {
   "cell_type": "code",
   "execution_count": 43,
   "id": "3e0ec5d7",
   "metadata": {
    "id": "3e0ec5d7"
   },
   "outputs": [
    {
     "data": {
      "image/png": "[encoded data removed]",
      "text/plain": [
       "<Figure size 432x288 with 1 Axes>"
      ]
     },
     "metadata": {
      "needs_background": "light"
     },
     "output_type": "display_data"
    }
   ],
   "source": [
    "# Визуализируем с помощью гистограммы\n",
    "rest.groupby('category')['rating'].mean().sort_values(ascending = False).plot(kind = 'bar',\n",
    "                                              rot = 45,\n",
    "                                              alpha = 0.75,\n",
    "                                              edgecolor = 'k')\n",
    "plt.title('Распределение среднего рейтинга по категориям заведений')\n",
    "plt.xlabel('Категория заведения')\n",
    "plt.ylabel('Рейтинг')\n",
    "plt.grid()\n",
    "\n",
    "plt.show()"
   ]
  },
  {
   "cell_type": "markdown",
   "id": "26a37847",
   "metadata": {
    "id": "766c86cb"
   },
   "source": [
    "   Можно сделать вывод, что средние значения рейтинга для разных категорий заведений отличаются несильно. Самый высокий средний рейтинг имеет категория \"бар,паб\" - 4,38, самый низкий у категории \"быстрое питание\" - 4, 05."
   ]
  },
  {
   "cell_type": "markdown",
   "id": "dd9702d9",
   "metadata": {
    "id": "dd9702d9"
   },
   "source": [
    "---\n",
    "\n",
    "### Задача 6\n",
    "\n",
    "Изучим, с какими данными показывают самую сильную корреляцию рейтинги заведений: построим и визуализируем матрицу корреляции рейтинга заведения с разными данными: его категория, положение (административный район Москвы), статус сетевого заведения, количество мест, ценовая категория и признак, является ли заведения круглосуточным. "
   ]
  },
  {
   "cell_type": "code",
   "execution_count": 44,
   "id": "15400eb9",
   "metadata": {
    "id": "15400eb9"
   },
   "outputs": [
    {
     "name": "stdout",
     "output_type": "stream",
     "text": [
      "interval columns not set, guessing: ['chain', 'seats', 'rating']\n"
     ]
    },
    {
     "data": {
      "text/html": [
       "<div>\n",
       "<style scoped>\n",
       "    .dataframe tbody tr th:only-of-type {\n",
       "        vertical-align: middle;\n",
       "    }\n",
       "\n",
       "    .dataframe tbody tr th {\n",
       "        vertical-align: top;\n",
       "    }\n",
       "\n",
       "    .dataframe thead th {\n",
       "        text-align: right;\n",
       "    }\n",
       "</style>\n",
       "<table border=\"1\" class=\"dataframe\">\n",
       "  <thead>\n",
       "    <tr style=\"text-align: right;\">\n",
       "      <th></th>\n",
       "      <th>rating</th>\n",
       "    </tr>\n",
       "  </thead>\n",
       "  <tbody>\n",
       "    <tr>\n",
       "      <th>price</th>\n",
       "      <td>0.220295</td>\n",
       "    </tr>\n",
       "    <tr>\n",
       "      <th>district</th>\n",
       "      <td>0.200761</td>\n",
       "    </tr>\n",
       "    <tr>\n",
       "      <th>category</th>\n",
       "      <td>0.189716</td>\n",
       "    </tr>\n",
       "    <tr>\n",
       "      <th>is_24_7</th>\n",
       "      <td>0.150365</td>\n",
       "    </tr>\n",
       "    <tr>\n",
       "      <th>chain</th>\n",
       "      <td>0.107833</td>\n",
       "    </tr>\n",
       "    <tr>\n",
       "      <th>seats</th>\n",
       "      <td>0.000000</td>\n",
       "    </tr>\n",
       "  </tbody>\n",
       "</table>\n",
       "</div>"
      ],
      "text/plain": [
       "            rating\n",
       "price     0.220295\n",
       "district  0.200761\n",
       "category  0.189716\n",
       "is_24_7   0.150365\n",
       "chain     0.107833\n",
       "seats     0.000000"
      ]
     },
     "execution_count": 44,
     "metadata": {},
     "output_type": "execute_result"
    }
   ],
   "source": [
    "# Построим матрицу корреляций\n",
    "correlation_matrix = rest[['category', 'district', 'chain', 'seats', 'price', 'is_24_7', 'rating']].phik_matrix()\n",
    "\n",
    "# Выводим результат\n",
    "correlation_matrix.loc[correlation_matrix.index != 'rating'][['rating']].sort_values(by='rating', ascending=False)"
   ]
  },
  {
   "cell_type": "code",
   "execution_count": 45,
   "id": "8f0379af",
   "metadata": {
    "id": "8f0379af"
   },
   "outputs": [
    {
     "data": {
      "image/png": "[encoded data removed]",
      "text/plain": [
       "<Figure size 144x432 with 1 Axes>"
      ]
     },
     "metadata": {
      "needs_background": "light"
     },
     "output_type": "display_data"
    }
   ],
   "source": [
    "# Визуализируем матрицу с помощью тепловой карты\n",
    "matrix = correlation_matrix.loc[correlation_matrix.index != 'rating'][['rating']].sort_values(by='rating', ascending=False)\n",
    "plt.figure(figsize = (2, 6))\n",
    "\n",
    "sns.heatmap(matrix, annot = True,\n",
    "           fmt = '.2f',\n",
    "           cmap = 'coolwarm',\n",
    "           linewidths = 0.5,\n",
    "           cbar = False)\n",
    "plt.title('Тепловая карта коэффициента phi_k \\n для данных rating')\n",
    "plt.xlabel('Рейтинг заведения')\n",
    "plt.show()"
   ]
  },
  {
   "cell_type": "markdown",
   "id": "d302d079",
   "metadata": {
    "id": "1a65a84d"
   },
   "source": [
    " Наибольшую корреляцию с рейтингом заведения показывает ценовая категория(0.22). Проанализируем эту связь. \n",
    " \n",
    " Изучим, существует ли зависимость между категорией зведения и ценовой категорией. Сгруппируем данные по ценовой категории и вычислим медианный рейтинг, затем построим столбчатую диаграмму:"
   ]
  },
  {
   "cell_type": "code",
   "execution_count": 46,
   "id": "a6a0042d",
   "metadata": {},
   "outputs": [
    {
     "data": {
      "image/png": "[encoded data removed]",
      "text/plain": [
       "<Figure size 576x432 with 1 Axes>"
      ]
     },
     "metadata": {
      "needs_background": "light"
     },
     "output_type": "display_data"
    }
   ],
   "source": [
    "# Группируем данные по категории цены и вычисляем медианный рейтинг\n",
    "median_ratings = rest.groupby('price')['rating'].median()\n",
    "\n",
    "# Строим столбчатую диаграмму\n",
    "plt.figure(figsize=(8, 6))\n",
    "median_ratings.sort_values(ascending = False).plot(kind='bar', edgecolor='black', rot = 0)\n",
    "plt.title('Медианный рейтинг по категориям цены')\n",
    "plt.xlabel('Категория цены')\n",
    "plt.ylabel('Медианный рейтинг')\n",
    "plt.grid()\n",
    "plt.show()"
   ]
  },
  {
   "cell_type": "markdown",
   "id": "d3fffc53",
   "metadata": {},
   "source": [
    "Для всех категорий цен медианный рейтинг отличается незначительно - везде он чуть больше четырех. Из этого можно сделать вывод, что зависимости между категорией цен и рейтингом заведения отсутствует. Об этом также говорит низкое значение корреляции(0.22)."
   ]
  },
  {
   "cell_type": "markdown",
   "id": "370de703",
   "metadata": {
    "id": "370de703"
   },
   "source": [
    "---\n",
    "\n",
    "### Задача 7\n",
    "\n"
   ]
  },
  {
   "cell_type": "markdown",
   "id": "a9172f11",
   "metadata": {},
   "source": [
    "Создадим отфильтрованный датафрейм, включающий только сетевые заведения. Посчитаем количество заведений для каждой сети, выделим топ-15, а также средний рейтинг и категорию для каждой сети. Визуализируем с помощью линейчатых диаграмм."
   ]
  },
  {
   "cell_type": "code",
   "execution_count": 47,
   "id": "47ca32d5",
   "metadata": {
    "id": "5d828a9a"
   },
   "outputs": [
    {
     "data": {
      "text/html": [
       "<div>\n",
       "<style scoped>\n",
       "    .dataframe tbody tr th:only-of-type {\n",
       "        vertical-align: middle;\n",
       "    }\n",
       "\n",
       "    .dataframe tbody tr th {\n",
       "        vertical-align: top;\n",
       "    }\n",
       "\n",
       "    .dataframe thead th {\n",
       "        text-align: right;\n",
       "    }\n",
       "</style>\n",
       "<table border=\"1\" class=\"dataframe\">\n",
       "  <thead>\n",
       "    <tr style=\"text-align: right;\">\n",
       "      <th></th>\n",
       "      <th>name</th>\n",
       "      <th>count</th>\n",
       "      <th>mean_rating</th>\n",
       "      <th>category</th>\n",
       "    </tr>\n",
       "  </thead>\n",
       "  <tbody>\n",
       "    <tr>\n",
       "      <th>0</th>\n",
       "      <td>шоколадница</td>\n",
       "      <td>120</td>\n",
       "      <td>4.177500</td>\n",
       "      <td>кофейня</td>\n",
       "    </tr>\n",
       "    <tr>\n",
       "      <th>1</th>\n",
       "      <td>домино'с пицца</td>\n",
       "      <td>76</td>\n",
       "      <td>4.169737</td>\n",
       "      <td>пиццерия</td>\n",
       "    </tr>\n",
       "    <tr>\n",
       "      <th>2</th>\n",
       "      <td>додо пицца</td>\n",
       "      <td>74</td>\n",
       "      <td>4.286486</td>\n",
       "      <td>пиццерия</td>\n",
       "    </tr>\n",
       "    <tr>\n",
       "      <th>3</th>\n",
       "      <td>one price coffee</td>\n",
       "      <td>71</td>\n",
       "      <td>4.064789</td>\n",
       "      <td>кофейня</td>\n",
       "    </tr>\n",
       "    <tr>\n",
       "      <th>4</th>\n",
       "      <td>яндекс лавка</td>\n",
       "      <td>69</td>\n",
       "      <td>3.872464</td>\n",
       "      <td>ресторан</td>\n",
       "    </tr>\n",
       "    <tr>\n",
       "      <th>5</th>\n",
       "      <td>cofix</td>\n",
       "      <td>65</td>\n",
       "      <td>4.075385</td>\n",
       "      <td>кофейня</td>\n",
       "    </tr>\n",
       "    <tr>\n",
       "      <th>6</th>\n",
       "      <td>prime</td>\n",
       "      <td>50</td>\n",
       "      <td>4.116000</td>\n",
       "      <td>ресторан</td>\n",
       "    </tr>\n",
       "    <tr>\n",
       "      <th>7</th>\n",
       "      <td>хинкальная</td>\n",
       "      <td>44</td>\n",
       "      <td>4.322727</td>\n",
       "      <td>быстрое питание</td>\n",
       "    </tr>\n",
       "    <tr>\n",
       "      <th>8</th>\n",
       "      <td>кофепорт</td>\n",
       "      <td>42</td>\n",
       "      <td>4.147619</td>\n",
       "      <td>кофейня</td>\n",
       "    </tr>\n",
       "    <tr>\n",
       "      <th>9</th>\n",
       "      <td>кулинарная лавка братьев караваевых</td>\n",
       "      <td>39</td>\n",
       "      <td>4.394872</td>\n",
       "      <td>кафе</td>\n",
       "    </tr>\n",
       "    <tr>\n",
       "      <th>10</th>\n",
       "      <td>теремок</td>\n",
       "      <td>38</td>\n",
       "      <td>4.123684</td>\n",
       "      <td>ресторан</td>\n",
       "    </tr>\n",
       "    <tr>\n",
       "      <th>11</th>\n",
       "      <td>чайхана</td>\n",
       "      <td>37</td>\n",
       "      <td>3.924324</td>\n",
       "      <td>кафе</td>\n",
       "    </tr>\n",
       "    <tr>\n",
       "      <th>12</th>\n",
       "      <td>cofefest</td>\n",
       "      <td>32</td>\n",
       "      <td>3.984375</td>\n",
       "      <td>кофейня</td>\n",
       "    </tr>\n",
       "    <tr>\n",
       "      <th>13</th>\n",
       "      <td>буханка</td>\n",
       "      <td>32</td>\n",
       "      <td>4.396875</td>\n",
       "      <td>булочная</td>\n",
       "    </tr>\n",
       "    <tr>\n",
       "      <th>14</th>\n",
       "      <td>му-му</td>\n",
       "      <td>27</td>\n",
       "      <td>4.229630</td>\n",
       "      <td>кафе</td>\n",
       "    </tr>\n",
       "  </tbody>\n",
       "</table>\n",
       "</div>"
      ],
      "text/plain": [
       "                                   name  count  mean_rating         category\n",
       "0                           шоколадница    120     4.177500          кофейня\n",
       "1                        домино'с пицца     76     4.169737         пиццерия\n",
       "2                            додо пицца     74     4.286486         пиццерия\n",
       "3                      one price coffee     71     4.064789          кофейня\n",
       "4                          яндекс лавка     69     3.872464         ресторан\n",
       "5                                 cofix     65     4.075385          кофейня\n",
       "6                                 prime     50     4.116000         ресторан\n",
       "7                            хинкальная     44     4.322727  быстрое питание\n",
       "8                              кофепорт     42     4.147619          кофейня\n",
       "9   кулинарная лавка братьев караваевых     39     4.394872             кафе\n",
       "10                              теремок     38     4.123684         ресторан\n",
       "11                              чайхана     37     3.924324             кафе\n",
       "12                             cofefest     32     3.984375          кофейня\n",
       "13                              буханка     32     4.396875         булочная\n",
       "14                                му-му     27     4.229630             кафе"
      ]
     },
     "execution_count": 47,
     "metadata": {},
     "output_type": "execute_result"
    }
   ],
   "source": [
    "# Создаем отфильтрованный датафрейм только с сетевыми заведениями\n",
    "filtered_rest = rest[rest['chain'] == 1]\n",
    "\n",
    "# Выделяем топ-15 популярных сетей по количеству заведений, а также средний рейтинг и категорию для каждой сети\n",
    "top_15_chains = filtered_rest.groupby('name').agg(count=('id', 'count'), \n",
    "                mean_rating=('rating', 'mean'), \n",
    "                category=('category', 'first')).sort_values(by='count', ascending=False).head(15).reset_index()\n",
    "top_15_chains"
   ]
  },
  {
   "cell_type": "markdown",
   "id": "5838ec45",
   "metadata": {},
   "source": [
    "Визуализируем топ-15 популярных сетей в Москве:"
   ]
  },
  {
   "cell_type": "code",
   "execution_count": 48,
   "id": "d013c598",
   "metadata": {
    "id": "d013c598"
   },
   "outputs": [
    {
     "data": {
      "text/plain": [
       "<Figure size 576x432 with 0 Axes>"
      ]
     },
     "metadata": {},
     "output_type": "display_data"
    },
    {
     "data": {
      "image/png": "[encoded data removed]",
      "text/plain": [
       "<Figure size 432x288 with 1 Axes>"
      ]
     },
     "metadata": {
      "needs_background": "light"
     },
     "output_type": "display_data"
    }
   ],
   "source": [
    "# Визуализируем топ-15 популярных сетей с помощью линейчатой диаграммы\n",
    "plt.figure(figsize=(8, 6))\n",
    "top_15_chains.sort_values(by = 'count').plot(kind = 'barh', x = 'name', y = 'count', \n",
    "                                             rot = 0, edgecolor = 'k', \n",
    "                                             legend = False,\n",
    "                                             title = 'Топ-15 популярный сетей в Москве')\n",
    "\n",
    "plt.ylabel('Название сети')\n",
    "plt.xlabel('Количество заведений')\n",
    "plt.grid()\n",
    "plt.show()"
   ]
  },
  {
   "cell_type": "markdown",
   "id": "499c5f90",
   "metadata": {
    "id": "774348d5"
   },
   "source": [
    "Визуализируем распределение среднего рейтинга среди данных сетей:"
   ]
  },
  {
   "cell_type": "code",
   "execution_count": 49,
   "id": "053e07b5",
   "metadata": {},
   "outputs": [
    {
     "data": {
      "text/plain": [
       "<Figure size 576x432 with 0 Axes>"
      ]
     },
     "metadata": {},
     "output_type": "display_data"
    },
    {
     "data": {
      "image/png": "[encoded data removed]",
      "text/plain": [
       "<Figure size 432x288 with 1 Axes>"
      ]
     },
     "metadata": {
      "needs_background": "light"
     },
     "output_type": "display_data"
    }
   ],
   "source": [
    "# Визуализируем распределение среднего рейтинга среди сетей с помощью линейчатой диаграммы\n",
    "plt.figure(figsize=(8, 6))\n",
    "top_15_chains.sort_values(by = 'mean_rating').plot(kind = 'barh', x = 'name', y = 'mean_rating', \n",
    "                                             rot = 0, edgecolor = 'k', \n",
    "                                             legend = False,\n",
    "                                             title = 'Распределение среднего рейтинга среди сетей')\n",
    "\n",
    "plt.ylabel('Название сети')\n",
    "plt.xlabel('Средний рейтинг')\n",
    "plt.grid()\n",
    "plt.show()"
   ]
  },
  {
   "cell_type": "markdown",
   "id": "b1fe9b29",
   "metadata": {},
   "source": [
    "Визуализируем распределение категорий среди данных сетей:"
   ]
  },
  {
   "cell_type": "code",
   "execution_count": 50,
   "id": "887fa9dc",
   "metadata": {},
   "outputs": [
    {
     "data": {
      "image/png": "[encoded data removed]",
      "text/plain": [
       "<Figure size 576x432 with 1 Axes>"
      ]
     },
     "metadata": {
      "needs_background": "light"
     },
     "output_type": "display_data"
    }
   ],
   "source": [
    "# Визуализируем распределение категорий среди сетей с помощью линейчатой диаграммы\n",
    "plt.figure(figsize=(8, 6))\n",
    "top_15_chains.groupby('category')['name'].count().sort_values().plot(kind = 'barh',\n",
    "                                             rot = 0, edgecolor = 'k', \n",
    "                                             legend = False,\n",
    "                                             title = 'Распределение категорий среди сетей')\n",
    "\n",
    "plt.ylabel('Категория заведения')\n",
    "plt.xlabel('Количество сетей')\n",
    "plt.grid()\n",
    "plt.show()"
   ]
  },
  {
   "cell_type": "markdown",
   "id": "8a96577b",
   "metadata": {},
   "source": [
    "Саммая популярная сеть заведений в Москве - \"Шоколадница\"(120 заведений). \n",
    "\n",
    "Среди самых популярных сетей самый высокий средний рейтинг у \"Буханки\", \"Кулинарной лавки братьев Караваевых\" и \"Хинкальной\". Самый низкий у \"Яндекс лавки\" и \"Чайханы\".\n",
    "\n",
    "Среди популярных сетей больше всего имеют категорию \"кофейня\"(5). Меньше всего сетей имеют категорию \"булочная\"(1)."
   ]
  },
  {
   "cell_type": "markdown",
   "id": "85a90a94",
   "metadata": {
    "id": "85a90a94"
   },
   "source": [
    "---\n",
    "\n",
    "### Задача 8\n",
    "\n",
    "Изучим вариацию среднего чека заведения (столбец `middle_avg_bill`) в зависимости от района Москвы. Проанализируем цены в Центральном административном округе и других. Результат сопроводим подходящими визуализациями.\n"
   ]
  },
  {
   "cell_type": "code",
   "execution_count": 51,
   "id": "b98066c1",
   "metadata": {
    "id": "b98066c1"
   },
   "outputs": [
    {
     "data": {
      "text/plain": [
       "district\n",
       "центральный административный округ         1191.057547\n",
       "западный административный округ            1053.225490\n",
       "северный административный округ             927.959627\n",
       "южный административный округ                834.398089\n",
       "северо-западный административный округ      822.222930\n",
       "восточный административный округ            820.626923\n",
       "юго-западный административный округ         792.561702\n",
       "северо-восточный административный округ     716.611296\n",
       "юго-восточный административный округ        654.097938\n",
       "Name: middle_avg_bill, dtype: float64"
      ]
     },
     "execution_count": 51,
     "metadata": {},
     "output_type": "execute_result"
    }
   ],
   "source": [
    "# Изучим вариацию среднего чека заведения в зависимости от района Москвы\n",
    "rest.groupby('district')['middle_avg_bill'].mean().sort_values(ascending = False)"
   ]
  },
  {
   "cell_type": "code",
   "execution_count": 52,
   "id": "9b5e00a5",
   "metadata": {
    "id": "9b5e00a5"
   },
   "outputs": [
    {
     "data": {
      "image/png": "[encoded data removed]",
      "text/plain": [
       "<Figure size 504x288 with 1 Axes>"
      ]
     },
     "metadata": {
      "needs_background": "light"
     },
     "output_type": "display_data"
    }
   ],
   "source": [
    "# Визуализируем вариацию среднего чека в зависимости от района\n",
    "plt.figure(figsize = (7, 4))\n",
    "rest.groupby('district')['middle_avg_bill'].mean().sort_values().plot(kind = 'barh', \n",
    "                                                       rot = 0,\n",
    "                                                       edgecolor = 'k',\n",
    "                                                       legend = False)\n",
    "plt.xlabel('Районы Москвы')\n",
    "plt.ylabel('Средний чек')\n",
    "plt.grid()\n",
    "plt.show()"
   ]
  },
  {
   "cell_type": "markdown",
   "id": "c150bd4f",
   "metadata": {
    "id": "c150bd4f"
   },
   "source": [
    "---\n"
   ]
  },
  {
   "cell_type": "markdown",
   "id": "6c524b6d",
   "metadata": {
    "id": "5ee8b279"
   },
   "source": [
    "Самый высокий средний чек - в Центральном административном округе (1191 руб.) и Западном административном округе(1053 руб.), самый низкий средний чек - в Северо-Восточном(716 руб.) и Юго-Восточном(654 руб.) округах. Из этих данных можно сделать вывод, что значение среднего чека самое большое в центре города, и уменьшается в удаленных от центра районах."
   ]
  },
  {
   "cell_type": "markdown",
   "id": "f2c54e9a",
   "metadata": {
    "id": "f2c54e9a"
   },
   "source": [
    "---\n",
    "\n",
    "### Промежуточный вывод\n"
   ]
  },
  {
   "cell_type": "markdown",
   "id": "f98b53ba",
   "metadata": {
    "id": "c8869609"
   },
   "source": [
    "- В Москве чаще всего встречаются заведения категории \"кафе\" или \"ресторан\", реже всего - категории \"столовая\" или \"булочная\".\n",
    "- Больше всего заведения расположено в Центральном округе, меньше всего - в Северо-Западном.\n",
    "- В Москве больше несетевых заведений, чем сетевых.\n",
    "- Для разных категорий заведений характерен примерно одинаковый средний рейтинг.\n",
    "- Самое популярное сетевое заведение - \"Шоколадница\"\n",
    "- Самый высокий средний чек имеют заведения, расположенные в центре Москвы."
   ]
  },
  {
   "cell_type": "markdown",
   "id": "480f3422",
   "metadata": {
    "id": "480f3422"
   },
   "source": [
    "## 4. Итоговый вывод и рекомендации\n",
    "\n"
   ]
  },
  {
   "cell_type": "markdown",
   "id": "1f03470f",
   "metadata": {},
   "source": [
    "В ходе исследования проанализировали данные 8406 заведений в Москве. Данные включали информацию о названии и местоположении заведений, особенностях работы и ценовой политике. Необходимо было проанализировать рынок с целью помочь инвесторам найти подходящее место. Рассматривались такие данные, как категория заведения и район, в котором оно расположено, является ли заведение сетью, количество посадочных мест, ценовая политика.\n",
    "\n",
    "* В данных были представлены следующие категории заведений: кафе, ресторан, кофейня, бар, паб, пиццерия, быстрое питание, столовая, булочная. Самое большое количество заведений имеют категорию \"кафе\", самое меньшее - категорию \"булочная\".\n",
    "* Больше всего заведений расположено в Центральном административном округе Москвы, меньше всего в Северо-Западном. В остальных округах примерно одинаковое количество заведений.\n",
    "* Самые популярные категории заведений в Центральном административном районе это ресторан и кафе, а самые непопулярные - столовая и булочная.\n",
    "* В Москве больше несетевых заведений, чем сетевых. Чаще всего сетевыми являются булочные, кофейни и  пиццерии. Несетевыми чаще всего являются бары, столовые и кафе.\n",
    "* В данных о посадочных местах присутствуют аномально большие значения, которые могут быть связаны с качеством данных.\n",
    "* Для разных  типов общепита усредненный рейтинг очень похож - чуть больше `4`.\n",
    "* Наиболее популярная категория для сетевых заведений - \"кофейня\", наименее популярная - \"булочная\".\n",
    "* В центре Москвы более высокая ценовая политика, чем в отдаленных районах."
   ]
  },
  {
   "cell_type": "markdown",
   "id": "60cc13bc",
   "metadata": {},
   "source": [
    "#### Рекомендации\n",
    "- Выбор популярной категории (кафе, кофейня, ресторан) для минимизации рисков.\n",
    "- При желании открыть сетевое заведение - рассмотреть категорию \"кофейня\", при желании открыть несетевое заведение - рассмотреть категориию \"кафе\". Однако, важно учитывать, что несетевые заведения более популярны.\n",
    "- Рассмотрение Центрального административного округа для открытия заведения, однако необходимо быть готовыми к высокой арендной плате и конкуренции. В менее популярных районах же можно найти менее конкурентные локации.\n",
    "- Уделение внимания качеству продукции и сервиса для поддержания высокого рейтинга.\n",
    "- Предложение уникальной концепции для того, чтобы выделиться среди конкурентов. Например, уникальное тематическое кафе, ресторан с шоу-кухней, кофейня с необычными авторскими напитками.\n",
    "- Анализ конкурентов в выбранной локации."
   ]
  }
 ],
 "metadata": {
  "colab": {
   "provenance": []
  },
  "kernelspec": {
   "display_name": "Python 3 (ipykernel)",
   "language": "python",
   "name": "python3"
  },
  "language_info": {
   "codemirror_mode": {
    "name": "ipython",
    "version": 3
   },
   "file_extension": ".py",
   "mimetype": "text/x-python",
   "name": "python",
   "nbconvert_exporter": "python",
   "pygments_lexer": "ipython3",
   "version": "3.9.7"
  },
  "toc": {
   "base_numbering": 1,
   "nav_menu": {},
   "number_sections": true,
   "sideBar": true,
   "skip_h1_title": true,
   "title_cell": "Table of Contents",
   "title_sidebar": "Contents",
   "toc_cell": false,
   "toc_position": {},
   "toc_section_display": true,
   "toc_window_display": false
  }
 },
 "nbformat": 4,
 "nbformat_minor": 5
}
