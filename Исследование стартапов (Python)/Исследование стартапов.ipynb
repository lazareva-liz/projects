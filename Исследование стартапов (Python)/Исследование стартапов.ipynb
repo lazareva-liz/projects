{
 "cells": [
  {
   "cell_type": "markdown",
   "metadata": {
    "id": "4mJbK1knrJgz"
   },
   "source": [
    "# Проект: Исследование стартапов\n",
    "\n",
    "- Автор: Лазарева Елизавета Сергеевна\n",
    "- Дата: 25.03.2025"
   ]
  },
  {
   "cell_type": "markdown",
   "metadata": {
    "id": "P6j0r3worJg0"
   },
   "source": [
    "## Введение"
   ]
  },
  {
   "cell_type": "markdown",
   "metadata": {
    "id": "8lQtbsIUyFG6"
   },
   "source": [
    "### Цели и задачи проекта\n",
    "**Цель**: Подготовить датасет и проверить, что данные в нём соответствуют здравому смыслу, а также ответить на вопросы заказчика как о предобработке, так и о значении данных для бизнеса.\n",
    "\n",
    "\n",
    "**Задачи**: \n",
    "\n",
    "Принять решения:\n",
    "- по каким столбцам можно объединять данные из разных таблиц;\n",
    "- можно ли доверять данным о сотрудниках стартапов и их образовании;\n",
    "- что значат покупки за 0 или за 1 доллар;\n",
    "- какая цена в зависимости от категории стартапов и количества раундов финансирования перед его покупкой;\n",
    "- как рассчитать и отобразить численные показатели и динамику."
   ]
  },
  {
   "cell_type": "markdown",
   "metadata": {
    "id": "xqr6uttCrJg0"
   },
   "source": [
    "\n",
    "## 1. Знакомство с данными: загрузка и первичная предобработка\n",
    "\n",
    "Названия файлов:\n",
    "* `acquisition.csv`\n",
    "* `company_and_rounds.csv`\n",
    "* `people.csv`\n",
    "* `education.csv`\n",
    "* `degrees.csv`\n",
    "\n",
    "Опциональные датасеты:\n",
    "* `fund.csv`\n",
    "* `investment.csv`\n",
    "\n",
    "\n",
    "### 1.1. Вывод общей информации, исправление названия столбцов\n",
    "\n",
    "Загрузим необходимые библиотеки и данные о стартапах. Затем выведем основную информацию о данных и первые пять строк датафреймов. При необходимости приведем названия столбцов к стилю snake case."
   ]
  },
  {
   "cell_type": "code",
   "execution_count": 1,
   "metadata": {
    "colab": {
     "base_uri": "https://localhost:8080/"
    },
    "id": "W_W4jRazrJg0",
    "outputId": "d2409aad-233f-4bb4-ec71-7da96594f9df",
    "vscode": {
     "languageId": "plaintext"
    }
   },
   "outputs": [],
   "source": [
    "# Импортируем библиотеки\n",
    "import pandas as pd\n",
    "import matplotlib.pyplot as plt\n",
    "import seaborn as sns\n",
    "from matplotlib_venn import venn2"
   ]
  },
  {
   "cell_type": "code",
   "execution_count": 2,
   "metadata": {
    "id": "2Tm4Pk__Felf"
   },
   "outputs": [],
   "source": [
    "# Выгрузим данные\n"
   ]
  },
  {
   "cell_type": "code",
   "execution_count": 3,
   "metadata": {
    "id": "oNqJ2qpRFebv"
   },
   "outputs": [
    {
     "data": {
      "text/html": [
       "<div>\n",
       "<style scoped>\n",
       "    .dataframe tbody tr th:only-of-type {\n",
       "        vertical-align: middle;\n",
       "    }\n",
       "\n",
       "    .dataframe tbody tr th {\n",
       "        vertical-align: top;\n",
       "    }\n",
       "\n",
       "    .dataframe thead th {\n",
       "        text-align: right;\n",
       "    }\n",
       "</style>\n",
       "<table border=\"1\" class=\"dataframe\">\n",
       "  <thead>\n",
       "    <tr style=\"text-align: right;\">\n",
       "      <th></th>\n",
       "      <th>id</th>\n",
       "      <th>acquiring_company_id</th>\n",
       "      <th>acquired_company_id</th>\n",
       "      <th>term_code</th>\n",
       "      <th>price_amount</th>\n",
       "      <th>acquired_at</th>\n",
       "    </tr>\n",
       "  </thead>\n",
       "  <tbody>\n",
       "    <tr>\n",
       "      <th>0</th>\n",
       "      <td>1</td>\n",
       "      <td>11</td>\n",
       "      <td>10</td>\n",
       "      <td>NaN</td>\n",
       "      <td>20000000</td>\n",
       "      <td>2007-05-30</td>\n",
       "    </tr>\n",
       "    <tr>\n",
       "      <th>1</th>\n",
       "      <td>7</td>\n",
       "      <td>59</td>\n",
       "      <td>72</td>\n",
       "      <td>cash</td>\n",
       "      <td>60000000</td>\n",
       "      <td>2007-07-01</td>\n",
       "    </tr>\n",
       "    <tr>\n",
       "      <th>2</th>\n",
       "      <td>8</td>\n",
       "      <td>24</td>\n",
       "      <td>132</td>\n",
       "      <td>cash</td>\n",
       "      <td>280000000</td>\n",
       "      <td>2007-05-01</td>\n",
       "    </tr>\n",
       "    <tr>\n",
       "      <th>3</th>\n",
       "      <td>9</td>\n",
       "      <td>59</td>\n",
       "      <td>155</td>\n",
       "      <td>cash</td>\n",
       "      <td>100000000</td>\n",
       "      <td>2007-06-01</td>\n",
       "    </tr>\n",
       "    <tr>\n",
       "      <th>4</th>\n",
       "      <td>10</td>\n",
       "      <td>212</td>\n",
       "      <td>215</td>\n",
       "      <td>cash</td>\n",
       "      <td>25000000</td>\n",
       "      <td>2007-07-01</td>\n",
       "    </tr>\n",
       "  </tbody>\n",
       "</table>\n",
       "</div>"
      ],
      "text/plain": [
       "   id  acquiring_company_id  acquired_company_id term_code  price_amount  \\\n",
       "0   1                    11                   10       NaN      20000000   \n",
       "1   7                    59                   72      cash      60000000   \n",
       "2   8                    24                  132      cash     280000000   \n",
       "3   9                    59                  155      cash     100000000   \n",
       "4  10                   212                  215      cash      25000000   \n",
       "\n",
       "  acquired_at  \n",
       "0  2007-05-30  \n",
       "1  2007-07-01  \n",
       "2  2007-05-01  \n",
       "3  2007-06-01  \n",
       "4  2007-07-01  "
      ]
     },
     "execution_count": 3,
     "metadata": {},
     "output_type": "execute_result"
    }
   ],
   "source": [
    "# Выгрузим первые пять строк датафрейма acquisition\n",
    "acquisition.head()"
   ]
  },
  {
   "cell_type": "code",
   "execution_count": 4,
   "metadata": {},
   "outputs": [
    {
     "data": {
      "text/html": [
       "<div>\n",
       "<style scoped>\n",
       "    .dataframe tbody tr th:only-of-type {\n",
       "        vertical-align: middle;\n",
       "    }\n",
       "\n",
       "    .dataframe tbody tr th {\n",
       "        vertical-align: top;\n",
       "    }\n",
       "\n",
       "    .dataframe thead th {\n",
       "        text-align: right;\n",
       "    }\n",
       "</style>\n",
       "<table border=\"1\" class=\"dataframe\">\n",
       "  <thead>\n",
       "    <tr style=\"text-align: right;\">\n",
       "      <th></th>\n",
       "      <th>company  ID</th>\n",
       "      <th>name</th>\n",
       "      <th>category  code</th>\n",
       "      <th>status</th>\n",
       "      <th>founded  at</th>\n",
       "      <th>closed  at</th>\n",
       "      <th>domain</th>\n",
       "      <th>network  username</th>\n",
       "      <th>country  code</th>\n",
       "      <th>investment  rounds</th>\n",
       "      <th>funding  rounds</th>\n",
       "      <th>funding  total</th>\n",
       "      <th>milestones</th>\n",
       "      <th>funding  round  id</th>\n",
       "      <th>company  id</th>\n",
       "      <th>funded  at</th>\n",
       "      <th>funding  round  type</th>\n",
       "      <th>raised  amount</th>\n",
       "      <th>pre  money  valuation</th>\n",
       "      <th>participants</th>\n",
       "      <th>is  first  round</th>\n",
       "      <th>is  last  round</th>\n",
       "    </tr>\n",
       "  </thead>\n",
       "  <tbody>\n",
       "    <tr>\n",
       "      <th>0</th>\n",
       "      <td>1.0</td>\n",
       "      <td>Wetpaint</td>\n",
       "      <td>web</td>\n",
       "      <td>operating</td>\n",
       "      <td>2005-10-17</td>\n",
       "      <td>NaN</td>\n",
       "      <td>wetpaint-inc.com</td>\n",
       "      <td>BachelrWetpaint</td>\n",
       "      <td>USA</td>\n",
       "      <td>0.0</td>\n",
       "      <td>3.0</td>\n",
       "      <td>39750000.0</td>\n",
       "      <td>5.0</td>\n",
       "      <td>888.0</td>\n",
       "      <td>1.0</td>\n",
       "      <td>2005-10-01</td>\n",
       "      <td>series-a</td>\n",
       "      <td>5250000.0</td>\n",
       "      <td>0.0</td>\n",
       "      <td>2.0</td>\n",
       "      <td>0.0</td>\n",
       "      <td>1.0</td>\n",
       "    </tr>\n",
       "    <tr>\n",
       "      <th>1</th>\n",
       "      <td>1.0</td>\n",
       "      <td>Wetpaint</td>\n",
       "      <td>web</td>\n",
       "      <td>operating</td>\n",
       "      <td>2005-10-17</td>\n",
       "      <td>NaN</td>\n",
       "      <td>wetpaint-inc.com</td>\n",
       "      <td>BachelrWetpaint</td>\n",
       "      <td>USA</td>\n",
       "      <td>0.0</td>\n",
       "      <td>3.0</td>\n",
       "      <td>39750000.0</td>\n",
       "      <td>5.0</td>\n",
       "      <td>889.0</td>\n",
       "      <td>1.0</td>\n",
       "      <td>2007-01-01</td>\n",
       "      <td>series-b</td>\n",
       "      <td>9500000.0</td>\n",
       "      <td>0.0</td>\n",
       "      <td>3.0</td>\n",
       "      <td>0.0</td>\n",
       "      <td>0.0</td>\n",
       "    </tr>\n",
       "    <tr>\n",
       "      <th>2</th>\n",
       "      <td>1.0</td>\n",
       "      <td>Wetpaint</td>\n",
       "      <td>web</td>\n",
       "      <td>operating</td>\n",
       "      <td>2005-10-17</td>\n",
       "      <td>NaN</td>\n",
       "      <td>wetpaint-inc.com</td>\n",
       "      <td>BachelrWetpaint</td>\n",
       "      <td>USA</td>\n",
       "      <td>0.0</td>\n",
       "      <td>3.0</td>\n",
       "      <td>39750000.0</td>\n",
       "      <td>5.0</td>\n",
       "      <td>2312.0</td>\n",
       "      <td>1.0</td>\n",
       "      <td>2008-05-19</td>\n",
       "      <td>series-c+</td>\n",
       "      <td>25000000.0</td>\n",
       "      <td>0.0</td>\n",
       "      <td>4.0</td>\n",
       "      <td>1.0</td>\n",
       "      <td>0.0</td>\n",
       "    </tr>\n",
       "    <tr>\n",
       "      <th>3</th>\n",
       "      <td>10.0</td>\n",
       "      <td>Flektor</td>\n",
       "      <td>games_video</td>\n",
       "      <td>acquired</td>\n",
       "      <td>NaN</td>\n",
       "      <td>NaN</td>\n",
       "      <td>flektor.com</td>\n",
       "      <td>NaN</td>\n",
       "      <td>USA</td>\n",
       "      <td>0.0</td>\n",
       "      <td>0.0</td>\n",
       "      <td>0.0</td>\n",
       "      <td>0.0</td>\n",
       "      <td>NaN</td>\n",
       "      <td>NaN</td>\n",
       "      <td>NaN</td>\n",
       "      <td>NaN</td>\n",
       "      <td>NaN</td>\n",
       "      <td>NaN</td>\n",
       "      <td>NaN</td>\n",
       "      <td>NaN</td>\n",
       "      <td>NaN</td>\n",
       "    </tr>\n",
       "    <tr>\n",
       "      <th>4</th>\n",
       "      <td>100.0</td>\n",
       "      <td>There</td>\n",
       "      <td>games_video</td>\n",
       "      <td>acquired</td>\n",
       "      <td>NaN</td>\n",
       "      <td>NaN</td>\n",
       "      <td>there.com</td>\n",
       "      <td>NaN</td>\n",
       "      <td>USA</td>\n",
       "      <td>0.0</td>\n",
       "      <td>0.0</td>\n",
       "      <td>0.0</td>\n",
       "      <td>4.0</td>\n",
       "      <td>NaN</td>\n",
       "      <td>NaN</td>\n",
       "      <td>NaN</td>\n",
       "      <td>NaN</td>\n",
       "      <td>NaN</td>\n",
       "      <td>NaN</td>\n",
       "      <td>NaN</td>\n",
       "      <td>NaN</td>\n",
       "      <td>NaN</td>\n",
       "    </tr>\n",
       "  </tbody>\n",
       "</table>\n",
       "</div>"
      ],
      "text/plain": [
       "   company  ID      name category  code     status founded  at closed  at  \\\n",
       "0          1.0  Wetpaint            web  operating  2005-10-17        NaN   \n",
       "1          1.0  Wetpaint            web  operating  2005-10-17        NaN   \n",
       "2          1.0  Wetpaint            web  operating  2005-10-17        NaN   \n",
       "3         10.0   Flektor    games_video   acquired         NaN        NaN   \n",
       "4        100.0     There    games_video   acquired         NaN        NaN   \n",
       "\n",
       "             domain network  username country  code  investment  rounds  \\\n",
       "0  wetpaint-inc.com   BachelrWetpaint           USA                 0.0   \n",
       "1  wetpaint-inc.com   BachelrWetpaint           USA                 0.0   \n",
       "2  wetpaint-inc.com   BachelrWetpaint           USA                 0.0   \n",
       "3       flektor.com               NaN           USA                 0.0   \n",
       "4         there.com               NaN           USA                 0.0   \n",
       "\n",
       "   funding  rounds  funding  total  milestones  funding  round  id  \\\n",
       "0              3.0      39750000.0         5.0               888.0   \n",
       "1              3.0      39750000.0         5.0               889.0   \n",
       "2              3.0      39750000.0         5.0              2312.0   \n",
       "3              0.0             0.0         0.0                 NaN   \n",
       "4              0.0             0.0         4.0                 NaN   \n",
       "\n",
       "   company  id  funded  at funding  round  type  raised  amount  \\\n",
       "0          1.0  2005-10-01             series-a       5250000.0   \n",
       "1          1.0  2007-01-01             series-b       9500000.0   \n",
       "2          1.0  2008-05-19            series-c+      25000000.0   \n",
       "3          NaN         NaN                  NaN             NaN   \n",
       "4          NaN         NaN                  NaN             NaN   \n",
       "\n",
       "   pre  money  valuation  participants  is  first  round  is  last  round  \n",
       "0                    0.0           2.0               0.0              1.0  \n",
       "1                    0.0           3.0               0.0              0.0  \n",
       "2                    0.0           4.0               1.0              0.0  \n",
       "3                    NaN           NaN               NaN              NaN  \n",
       "4                    NaN           NaN               NaN              NaN  "
      ]
     },
     "execution_count": 4,
     "metadata": {},
     "output_type": "execute_result"
    }
   ],
   "source": [
    "# Выгрузим первые пять строк датафрейма company_and_rounds\n",
    "pd.set_option('display.max_columns', 500)\n",
    "company_and_rounds.head()"
   ]
  },
  {
   "cell_type": "markdown",
   "metadata": {},
   "source": [
    "Для датафрейма company_and_rounds необходимо привести названия столбцов к стилю snace case. В датафрейме присутствуют дублирующиеся столбцы `company ID` и `company id`. Чтобы избежать полного дублирования в названии столбцов и в дальнейшем было удобно работать с данными, добавим цифру 1 в название столбца `company ID` и цифру 2 в название столбца `company id`, затем приведем названия к стилю snace case.   "
   ]
  },
  {
   "cell_type": "code",
   "execution_count": 5,
   "metadata": {},
   "outputs": [],
   "source": [
    "# Добавим цифру 2 к названию столбца company id\n",
    "company_and_rounds = company_and_rounds.rename(columns = {'company  ID':'company_id_1', 'company  id':'company_id_2'})\n",
    "company_and_rounds.columns = company_and_rounds.columns.str.lower().str.replace('  ','_')"
   ]
  },
  {
   "cell_type": "code",
   "execution_count": 6,
   "metadata": {},
   "outputs": [
    {
     "data": {
      "text/plain": [
       "Index(['company_id_1', 'name', 'category_code', 'status', 'founded_at',\n",
       "       'closed_at', 'domain', 'network_username', 'country_code',\n",
       "       'investment_rounds', 'funding_rounds', 'funding_total', 'milestones',\n",
       "       'funding_round_id', 'company_id_2', 'funded_at', 'funding_round_type',\n",
       "       'raised_amount', 'pre_money_valuation', 'participants',\n",
       "       'is_first_round', 'is_last_round'],\n",
       "      dtype='object')"
      ]
     },
     "execution_count": 6,
     "metadata": {},
     "output_type": "execute_result"
    }
   ],
   "source": [
    "company_and_rounds.columns"
   ]
  },
  {
   "cell_type": "code",
   "execution_count": 7,
   "metadata": {},
   "outputs": [
    {
     "data": {
      "text/html": [
       "<div>\n",
       "<style scoped>\n",
       "    .dataframe tbody tr th:only-of-type {\n",
       "        vertical-align: middle;\n",
       "    }\n",
       "\n",
       "    .dataframe tbody tr th {\n",
       "        vertical-align: top;\n",
       "    }\n",
       "\n",
       "    .dataframe thead th {\n",
       "        text-align: right;\n",
       "    }\n",
       "</style>\n",
       "<table border=\"1\" class=\"dataframe\">\n",
       "  <thead>\n",
       "    <tr style=\"text-align: right;\">\n",
       "      <th></th>\n",
       "      <th>id</th>\n",
       "      <th>first_name</th>\n",
       "      <th>last_name</th>\n",
       "      <th>company_id</th>\n",
       "      <th>network_username</th>\n",
       "    </tr>\n",
       "  </thead>\n",
       "  <tbody>\n",
       "    <tr>\n",
       "      <th>0</th>\n",
       "      <td>10</td>\n",
       "      <td>Mark</td>\n",
       "      <td>Zuckerberg</td>\n",
       "      <td>5.0</td>\n",
       "      <td>NaN</td>\n",
       "    </tr>\n",
       "    <tr>\n",
       "      <th>1</th>\n",
       "      <td>100</td>\n",
       "      <td>Peter</td>\n",
       "      <td>Lester</td>\n",
       "      <td>27.0</td>\n",
       "      <td>NaN</td>\n",
       "    </tr>\n",
       "    <tr>\n",
       "      <th>2</th>\n",
       "      <td>1000</td>\n",
       "      <td>Dr. Steven</td>\n",
       "      <td>E. Saunders</td>\n",
       "      <td>292.0</td>\n",
       "      <td>NaN</td>\n",
       "    </tr>\n",
       "    <tr>\n",
       "      <th>3</th>\n",
       "      <td>10000</td>\n",
       "      <td>Neil</td>\n",
       "      <td>Capel</td>\n",
       "      <td>2526.0</td>\n",
       "      <td>NaN</td>\n",
       "    </tr>\n",
       "    <tr>\n",
       "      <th>4</th>\n",
       "      <td>100000</td>\n",
       "      <td>Sue</td>\n",
       "      <td>Pilsch</td>\n",
       "      <td>NaN</td>\n",
       "      <td>NaN</td>\n",
       "    </tr>\n",
       "  </tbody>\n",
       "</table>\n",
       "</div>"
      ],
      "text/plain": [
       "       id  first_name    last_name  company_id network_username\n",
       "0      10        Mark   Zuckerberg         5.0              NaN\n",
       "1     100       Peter       Lester        27.0              NaN\n",
       "2    1000  Dr. Steven  E. Saunders       292.0              NaN\n",
       "3   10000        Neil        Capel      2526.0              NaN\n",
       "4  100000         Sue       Pilsch         NaN              NaN"
      ]
     },
     "execution_count": 7,
     "metadata": {},
     "output_type": "execute_result"
    }
   ],
   "source": [
    "# Выгрузим первые пять строк датафрейма people\n",
    "people.head()"
   ]
  },
  {
   "cell_type": "code",
   "execution_count": 8,
   "metadata": {},
   "outputs": [
    {
     "data": {
      "text/html": [
       "<div>\n",
       "<style scoped>\n",
       "    .dataframe tbody tr th:only-of-type {\n",
       "        vertical-align: middle;\n",
       "    }\n",
       "\n",
       "    .dataframe tbody tr th {\n",
       "        vertical-align: top;\n",
       "    }\n",
       "\n",
       "    .dataframe thead th {\n",
       "        text-align: right;\n",
       "    }\n",
       "</style>\n",
       "<table border=\"1\" class=\"dataframe\">\n",
       "  <thead>\n",
       "    <tr style=\"text-align: right;\">\n",
       "      <th></th>\n",
       "      <th>id</th>\n",
       "      <th>person_id</th>\n",
       "      <th>instituition</th>\n",
       "      <th>graduated_at</th>\n",
       "    </tr>\n",
       "  </thead>\n",
       "  <tbody>\n",
       "    <tr>\n",
       "      <th>0</th>\n",
       "      <td>1</td>\n",
       "      <td>6117</td>\n",
       "      <td>NaN</td>\n",
       "      <td>NaN</td>\n",
       "    </tr>\n",
       "    <tr>\n",
       "      <th>1</th>\n",
       "      <td>2</td>\n",
       "      <td>6136</td>\n",
       "      <td>Washington University, St. Louis</td>\n",
       "      <td>1990-01-01</td>\n",
       "    </tr>\n",
       "    <tr>\n",
       "      <th>2</th>\n",
       "      <td>3</td>\n",
       "      <td>6136</td>\n",
       "      <td>Boston University</td>\n",
       "      <td>1992-01-01</td>\n",
       "    </tr>\n",
       "    <tr>\n",
       "      <th>3</th>\n",
       "      <td>4</td>\n",
       "      <td>6005</td>\n",
       "      <td>University of Greenwich</td>\n",
       "      <td>2006-01-01</td>\n",
       "    </tr>\n",
       "    <tr>\n",
       "      <th>4</th>\n",
       "      <td>5</td>\n",
       "      <td>5832</td>\n",
       "      <td>Rice University</td>\n",
       "      <td>NaN</td>\n",
       "    </tr>\n",
       "  </tbody>\n",
       "</table>\n",
       "</div>"
      ],
      "text/plain": [
       "   id  person_id                      instituition graduated_at\n",
       "0   1       6117                               NaN          NaN\n",
       "1   2       6136  Washington University, St. Louis   1990-01-01\n",
       "2   3       6136                 Boston University   1992-01-01\n",
       "3   4       6005           University of Greenwich   2006-01-01\n",
       "4   5       5832                   Rice University          NaN"
      ]
     },
     "execution_count": 8,
     "metadata": {},
     "output_type": "execute_result"
    }
   ],
   "source": [
    "# Выгрузим первые пять строк датафрейма education\n",
    "education.head()"
   ]
  },
  {
   "cell_type": "code",
   "execution_count": 9,
   "metadata": {},
   "outputs": [
    {
     "data": {
      "text/html": [
       "<div>\n",
       "<style scoped>\n",
       "    .dataframe tbody tr th:only-of-type {\n",
       "        vertical-align: middle;\n",
       "    }\n",
       "\n",
       "    .dataframe tbody tr th {\n",
       "        vertical-align: top;\n",
       "    }\n",
       "\n",
       "    .dataframe thead th {\n",
       "        text-align: right;\n",
       "    }\n",
       "</style>\n",
       "<table border=\"1\" class=\"dataframe\">\n",
       "  <thead>\n",
       "    <tr style=\"text-align: right;\">\n",
       "      <th></th>\n",
       "      <th>id</th>\n",
       "      <th>object_id</th>\n",
       "      <th>degree_type</th>\n",
       "      <th>subject</th>\n",
       "    </tr>\n",
       "  </thead>\n",
       "  <tbody>\n",
       "    <tr>\n",
       "      <th>0</th>\n",
       "      <td>1</td>\n",
       "      <td>p:6117</td>\n",
       "      <td>MBA</td>\n",
       "      <td>NaN</td>\n",
       "    </tr>\n",
       "    <tr>\n",
       "      <th>1</th>\n",
       "      <td>2</td>\n",
       "      <td>p:6136</td>\n",
       "      <td>BA</td>\n",
       "      <td>English, French</td>\n",
       "    </tr>\n",
       "    <tr>\n",
       "      <th>2</th>\n",
       "      <td>3</td>\n",
       "      <td>p:6136</td>\n",
       "      <td>MS</td>\n",
       "      <td>Mass Communication</td>\n",
       "    </tr>\n",
       "    <tr>\n",
       "      <th>3</th>\n",
       "      <td>4</td>\n",
       "      <td>p:6005</td>\n",
       "      <td>MS</td>\n",
       "      <td>Internet Technology</td>\n",
       "    </tr>\n",
       "    <tr>\n",
       "      <th>4</th>\n",
       "      <td>5</td>\n",
       "      <td>p:5832</td>\n",
       "      <td>BCS</td>\n",
       "      <td>Computer Science, Psychology</td>\n",
       "    </tr>\n",
       "  </tbody>\n",
       "</table>\n",
       "</div>"
      ],
      "text/plain": [
       "   id object_id degree_type                       subject\n",
       "0   1    p:6117         MBA                           NaN\n",
       "1   2    p:6136          BA               English, French\n",
       "2   3    p:6136          MS            Mass Communication\n",
       "3   4    p:6005          MS           Internet Technology\n",
       "4   5    p:5832         BCS  Computer Science, Psychology"
      ]
     },
     "execution_count": 9,
     "metadata": {},
     "output_type": "execute_result"
    }
   ],
   "source": [
    "# Выгрузим первые пять строк датафрейма degrees\n",
    "degrees.head()"
   ]
  },
  {
   "cell_type": "markdown",
   "metadata": {},
   "source": [
    "Для каждого датафрейма, в котором есть столбец `id`, переименуем его, добавив к нему название датафрейма. Это нужно для того, чтобы при дальнейшем присоединении датафреймов, не возникало путаницы."
   ]
  },
  {
   "cell_type": "code",
   "execution_count": 10,
   "metadata": {},
   "outputs": [],
   "source": [
    "# Переименуем столбец для датафрейма acquisition\n",
    "acquisition = acquisition.rename(columns = {'id':'acquisition_id'})\n",
    "# Переименуем столбец для датафрейма people\n",
    "people = people.rename(columns = {'id':'people_id'})\n",
    "# Переименуем столбец для датафрейма education\n",
    "education = education.rename(columns = {'id':'education_id'})\n",
    "# Переименуем столбец для датафрейма degrees\n",
    "degrees = degrees.rename(columns = {'id':'degrees_id'})"
   ]
  },
  {
   "cell_type": "markdown",
   "metadata": {
    "id": "mg2gEwh0rJg0"
   },
   "source": [
    "### 1.2. Смена типов и анализ пропусков\n",
    "\n",
    "Выведем основную информацию о каждом датафрейме, сумму и процент пропусков, при необходимости изменим типы данных в столбцах.\n"
   ]
  },
  {
   "cell_type": "code",
   "execution_count": 11,
   "metadata": {
    "id": "FsL0A8RBrJg1",
    "vscode": {
     "languageId": "plaintext"
    }
   },
   "outputs": [
    {
     "name": "stdout",
     "output_type": "stream",
     "text": [
      "<class 'pandas.core.frame.DataFrame'>\n",
      "RangeIndex: 9407 entries, 0 to 9406\n",
      "Data columns (total 6 columns):\n",
      " #   Column                Non-Null Count  Dtype \n",
      "---  ------                --------------  ----- \n",
      " 0   acquisition_id        9407 non-null   int64 \n",
      " 1   acquiring_company_id  9407 non-null   int64 \n",
      " 2   acquired_company_id   9407 non-null   int64 \n",
      " 3   term_code             1831 non-null   object\n",
      " 4   price_amount          9407 non-null   int64 \n",
      " 5   acquired_at           9378 non-null   object\n",
      "dtypes: int64(4), object(2)\n",
      "memory usage: 441.1+ KB\n"
     ]
    }
   ],
   "source": [
    "# Выведем информациюю о датафрейме acquisition\n",
    "acquisition.info()"
   ]
  },
  {
   "cell_type": "code",
   "execution_count": 12,
   "metadata": {},
   "outputs": [
    {
     "data": {
      "text/plain": [
       "term_code               7576\n",
       "acquired_at               29\n",
       "acquisition_id             0\n",
       "acquiring_company_id       0\n",
       "acquired_company_id        0\n",
       "price_amount               0\n",
       "dtype: int64"
      ]
     },
     "execution_count": 12,
     "metadata": {},
     "output_type": "execute_result"
    }
   ],
   "source": [
    "# Посчитаем сумму пропусков в датафрейме\n",
    "acquisition.isna().sum().sort_values(ascending = False)"
   ]
  },
  {
   "cell_type": "code",
   "execution_count": 13,
   "metadata": {
    "scrolled": true
   },
   "outputs": [
    {
     "data": {
      "text/plain": [
       "term_code               80.535771\n",
       "acquired_at              0.308281\n",
       "acquisition_id           0.000000\n",
       "acquiring_company_id     0.000000\n",
       "acquired_company_id      0.000000\n",
       "price_amount             0.000000\n",
       "dtype: float64"
      ]
     },
     "execution_count": 13,
     "metadata": {},
     "output_type": "execute_result"
    }
   ],
   "source": [
    "# Посчитаем процент пропусков в датафрейме\n",
    "acquisition.isna().mean().sort_values(ascending = False) * 100"
   ]
  },
  {
   "cell_type": "markdown",
   "metadata": {},
   "source": [
    "Датафрейм `acquisition` содержит 9407 строк и 6 столбцов.\n",
    "\n",
    "- Столбец `term_code` содержит 7576 пропусков(80.5%).\n",
    "- Столбец `acquired_at` содержит 29 пропусков(0.3%).\n",
    "- Столбец `acquired_at` хранит значение даты, поэтому рекомендуется заменить тип  `object` на тип `datetime`."
   ]
  },
  {
   "cell_type": "code",
   "execution_count": 14,
   "metadata": {},
   "outputs": [],
   "source": [
    "# Заменим тип данных в столбце acquires_at \n",
    "acquisition['acquired_at'] = pd.to_datetime(acquisition['acquired_at'])"
   ]
  },
  {
   "cell_type": "code",
   "execution_count": 15,
   "metadata": {},
   "outputs": [
    {
     "name": "stdout",
     "output_type": "stream",
     "text": [
      "<class 'pandas.core.frame.DataFrame'>\n",
      "RangeIndex: 217774 entries, 0 to 217773\n",
      "Data columns (total 22 columns):\n",
      " #   Column               Non-Null Count   Dtype  \n",
      "---  ------               --------------   -----  \n",
      " 0   company_id_1         217472 non-null  float64\n",
      " 1   name                 217471 non-null  object \n",
      " 2   category_code        143886 non-null  object \n",
      " 3   status               217472 non-null  object \n",
      " 4   founded_at           109956 non-null  object \n",
      " 5   closed_at            3449 non-null    object \n",
      " 6   domain               147159 non-null  object \n",
      " 7   network_username     95534 non-null   object \n",
      " 8   country_code         108607 non-null  object \n",
      " 9   investment_rounds    217472 non-null  float64\n",
      " 10  funding_rounds       217472 non-null  float64\n",
      " 11  funding_total        217472 non-null  float64\n",
      " 12  milestones           217472 non-null  float64\n",
      " 13  funding_round_id     52928 non-null   float64\n",
      " 14  company_id_2         52928 non-null   float64\n",
      " 15  funded_at            52680 non-null   object \n",
      " 16  funding_round_type   52928 non-null   object \n",
      " 17  raised_amount        52928 non-null   float64\n",
      " 18  pre_money_valuation  52928 non-null   float64\n",
      " 19  participants         52928 non-null   float64\n",
      " 20  is_first_round       52928 non-null   float64\n",
      " 21  is_last_round        52928 non-null   float64\n",
      "dtypes: float64(12), object(10)\n",
      "memory usage: 36.6+ MB\n"
     ]
    }
   ],
   "source": [
    "# Выведем информациюю о датафрейме company_and_rounds\n",
    "company_and_rounds.info()"
   ]
  },
  {
   "cell_type": "code",
   "execution_count": 16,
   "metadata": {},
   "outputs": [
    {
     "data": {
      "text/plain": [
       "closed_at              214325\n",
       "funded_at              165094\n",
       "is_last_round          164846\n",
       "funding_round_type     164846\n",
       "is_first_round         164846\n",
       "participants           164846\n",
       "pre_money_valuation    164846\n",
       "raised_amount          164846\n",
       "funding_round_id       164846\n",
       "company_id_2           164846\n",
       "network_username       122240\n",
       "country_code           109167\n",
       "founded_at             107818\n",
       "category_code           73888\n",
       "domain                  70615\n",
       "name                      303\n",
       "company_id_1              302\n",
       "milestones                302\n",
       "funding_rounds            302\n",
       "investment_rounds         302\n",
       "status                    302\n",
       "funding_total             302\n",
       "dtype: int64"
      ]
     },
     "execution_count": 16,
     "metadata": {},
     "output_type": "execute_result"
    }
   ],
   "source": [
    "# Посчитаем сумму пропусков в датафрейме\n",
    "company_and_rounds.isna().sum().sort_values(ascending = False)"
   ]
  },
  {
   "cell_type": "code",
   "execution_count": 17,
   "metadata": {},
   "outputs": [
    {
     "data": {
      "text/plain": [
       "closed_at              98.416248\n",
       "funded_at              75.809784\n",
       "is_last_round          75.695905\n",
       "funding_round_type     75.695905\n",
       "is_first_round         75.695905\n",
       "participants           75.695905\n",
       "pre_money_valuation    75.695905\n",
       "raised_amount          75.695905\n",
       "funding_round_id       75.695905\n",
       "company_id_2           75.695905\n",
       "network_username       56.131586\n",
       "country_code           50.128574\n",
       "founded_at             49.509124\n",
       "category_code          33.928752\n",
       "domain                 32.425818\n",
       "name                    0.139135\n",
       "company_id_1            0.138676\n",
       "milestones              0.138676\n",
       "funding_rounds          0.138676\n",
       "investment_rounds       0.138676\n",
       "status                  0.138676\n",
       "funding_total           0.138676\n",
       "dtype: float64"
      ]
     },
     "execution_count": 17,
     "metadata": {},
     "output_type": "execute_result"
    }
   ],
   "source": [
    "# Посчитаем процент пропусков в датафрейме\n",
    "company_and_rounds.isna().mean().sort_values(ascending = False) * 100"
   ]
  },
  {
   "cell_type": "markdown",
   "metadata": {},
   "source": [
    "В датафрейме `company_and_rounds` 217774 строк и 22 столбца.\n",
    "- Столбец `closed_at` содержит 214325 пропусков(98.4%)\n",
    "- Столбец `funded_at` содержит 165094 пропуска(75.8%)\n",
    "- Столбцы `is_last_round`, `funding_round_type`, `is_first_round`, `participants`, `pre_money_valuation`, `raised_amount`, `funding_round_id`, `company_id_2` содержат 164846 пропусков(75.69%)\n",
    "- Столбец `network_username` содержит 122240 пропусков (56.13%)\n",
    "- Столбец `country_code` содержит 109167 пропусков (50.13%)\n",
    "- Столбец `founded_at` содержит 107818 пропусков (49.51%)\n",
    "- Столбец `category_code` содержит 73888 пропусков (33.93%)\n",
    "- Столбец `domain` содержит 70615 пропусков (32.43%)\n",
    "- Столбец `name` содержит 303 пропуска (0.14%)\n",
    "- Столбцы `company_id_1`, `milestones`, `funding_rounds`, `investment_rounds`, `status`, `funding_total` содержит 302 пропуска (0.14%)\n",
    "Все столбцы датафрейма содержат пропуски.\n",
    "\n",
    "Столбцы `closed_at`, `founded_at` и `funded_at` хранят значение даты, поэтому рекомендуется заменить тип  `object` на тип `datetime`."
   ]
  },
  {
   "cell_type": "code",
   "execution_count": 18,
   "metadata": {
    "id": "46VskrGyFeJ-"
   },
   "outputs": [],
   "source": [
    "# Заменим тип данных в столбцах closed_at, founded_at, funded_at\n",
    "company_and_rounds['closed_at'] = pd.to_datetime(company_and_rounds['closed_at'])\n",
    "company_and_rounds['founded_at'] = pd.to_datetime(company_and_rounds['founded_at'])\n",
    "company_and_rounds['funded_at'] = pd.to_datetime(company_and_rounds['funded_at'])"
   ]
  },
  {
   "cell_type": "code",
   "execution_count": 19,
   "metadata": {
    "id": "DEg1tl8DFeBn"
   },
   "outputs": [
    {
     "name": "stdout",
     "output_type": "stream",
     "text": [
      "<class 'pandas.core.frame.DataFrame'>\n",
      "RangeIndex: 226709 entries, 0 to 226708\n",
      "Data columns (total 5 columns):\n",
      " #   Column            Non-Null Count   Dtype  \n",
      "---  ------            --------------   -----  \n",
      " 0   people_id         226709 non-null  int64  \n",
      " 1   first_name        226700 non-null  object \n",
      " 2   last_name         226705 non-null  object \n",
      " 3   company_id        34615 non-null   float64\n",
      " 4   network_username  38867 non-null   object \n",
      "dtypes: float64(1), int64(1), object(3)\n",
      "memory usage: 8.6+ MB\n"
     ]
    }
   ],
   "source": [
    "# Выведем информациюю о датафрейме people\n",
    "people.info()"
   ]
  },
  {
   "cell_type": "code",
   "execution_count": 20,
   "metadata": {},
   "outputs": [
    {
     "data": {
      "text/plain": [
       "company_id          192094\n",
       "network_username    187842\n",
       "first_name               9\n",
       "last_name                4\n",
       "people_id                0\n",
       "dtype: int64"
      ]
     },
     "execution_count": 20,
     "metadata": {},
     "output_type": "execute_result"
    }
   ],
   "source": [
    "# Посчитаем сумму пропусков в датафрейме\n",
    "people.isna().sum().sort_values(ascending = False)"
   ]
  },
  {
   "cell_type": "code",
   "execution_count": 21,
   "metadata": {},
   "outputs": [
    {
     "data": {
      "text/plain": [
       "company_id          84.731528\n",
       "network_username    82.855996\n",
       "first_name           0.003970\n",
       "last_name            0.001764\n",
       "people_id            0.000000\n",
       "dtype: float64"
      ]
     },
     "execution_count": 21,
     "metadata": {},
     "output_type": "execute_result"
    }
   ],
   "source": [
    "# Посчитаем процент пропусков в датафрейме\n",
    "people.isna().mean().sort_values(ascending = False) * 100"
   ]
  },
  {
   "cell_type": "markdown",
   "metadata": {},
   "source": [
    "Датафрейм `people` содержит 226709 строк  и 5 столбцов.\n",
    "\n",
    "- Столбец `company_id` содержит 192094 пропуска(84.7%)\n",
    "- Столбец `network_username` содержит 187842 пропуска(82.8%)\n",
    "- Столбцы `first_name`, `last_name` содержат 9 и 4 пропуска соответственно(0.003% и 0.002%)\n",
    "\n",
    "Все типы данных соответствуют содержащимся в датафрейме данным."
   ]
  },
  {
   "cell_type": "code",
   "execution_count": 22,
   "metadata": {},
   "outputs": [
    {
     "name": "stdout",
     "output_type": "stream",
     "text": [
      "<class 'pandas.core.frame.DataFrame'>\n",
      "RangeIndex: 109610 entries, 0 to 109609\n",
      "Data columns (total 4 columns):\n",
      " #   Column        Non-Null Count   Dtype \n",
      "---  ------        --------------   ----- \n",
      " 0   education_id  109610 non-null  int64 \n",
      " 1   person_id     109610 non-null  int64 \n",
      " 2   instituition  109555 non-null  object\n",
      " 3   graduated_at  58054 non-null   object\n",
      "dtypes: int64(2), object(2)\n",
      "memory usage: 3.3+ MB\n"
     ]
    }
   ],
   "source": [
    "# Выведем информациюю о датафрейме education\n",
    "education.info()"
   ]
  },
  {
   "cell_type": "code",
   "execution_count": 23,
   "metadata": {},
   "outputs": [
    {
     "data": {
      "text/plain": [
       "graduated_at    51556\n",
       "instituition       55\n",
       "education_id        0\n",
       "person_id           0\n",
       "dtype: int64"
      ]
     },
     "execution_count": 23,
     "metadata": {},
     "output_type": "execute_result"
    }
   ],
   "source": [
    "# Посчитаем сумму пропусков в датафрейме\n",
    "education.isna().sum().sort_values(ascending = False)"
   ]
  },
  {
   "cell_type": "code",
   "execution_count": 24,
   "metadata": {},
   "outputs": [
    {
     "data": {
      "text/plain": [
       "graduated_at    47.035854\n",
       "instituition     0.050178\n",
       "education_id     0.000000\n",
       "person_id        0.000000\n",
       "dtype: float64"
      ]
     },
     "execution_count": 24,
     "metadata": {},
     "output_type": "execute_result"
    }
   ],
   "source": [
    "# Посчитаем процент пропусков в датафрейме\n",
    "education.isna().mean().sort_values(ascending = False) * 100"
   ]
  },
  {
   "cell_type": "markdown",
   "metadata": {},
   "source": [
    "Датафрейм `education` содержит 109610 строк  и 4 столбцa.\n",
    "\n",
    "- Столбец `graduated_at` содержит 51556 пропусков(47%)\n",
    "- Столбец `instituition` содержит 55 пропусков(0.05%)\n",
    "\n",
    "Столбец `graduated_at` хранит значение даты, поэтому рекомендуется заменить тип  `object` на тип `datetime`."
   ]
  },
  {
   "cell_type": "code",
   "execution_count": 25,
   "metadata": {},
   "outputs": [],
   "source": [
    "# Заменим тип данных в столбце graduated_at \n",
    "education['graduated_at'] = pd.to_datetime(education['graduated_at'])"
   ]
  },
  {
   "cell_type": "code",
   "execution_count": 26,
   "metadata": {},
   "outputs": [
    {
     "name": "stdout",
     "output_type": "stream",
     "text": [
      "<class 'pandas.core.frame.DataFrame'>\n",
      "RangeIndex: 109610 entries, 0 to 109609\n",
      "Data columns (total 4 columns):\n",
      " #   Column       Non-Null Count   Dtype \n",
      "---  ------       --------------   ----- \n",
      " 0   degrees_id   109610 non-null  int64 \n",
      " 1   object_id    109610 non-null  object\n",
      " 2   degree_type  98389 non-null   object\n",
      " 3   subject      81298 non-null   object\n",
      "dtypes: int64(1), object(3)\n",
      "memory usage: 3.3+ MB\n"
     ]
    }
   ],
   "source": [
    "# Выведем информациюю о датафрейме degrees\n",
    "degrees.info()"
   ]
  },
  {
   "cell_type": "code",
   "execution_count": 27,
   "metadata": {},
   "outputs": [
    {
     "data": {
      "text/plain": [
       "subject        28312\n",
       "degree_type    11221\n",
       "degrees_id         0\n",
       "object_id          0\n",
       "dtype: int64"
      ]
     },
     "execution_count": 27,
     "metadata": {},
     "output_type": "execute_result"
    }
   ],
   "source": [
    "# Посчитаем сумму пропусков в датафрейме\n",
    "degrees.isna().sum().sort_values(ascending = False)"
   ]
  },
  {
   "cell_type": "code",
   "execution_count": 28,
   "metadata": {},
   "outputs": [
    {
     "data": {
      "text/plain": [
       "subject        25.829760\n",
       "degree_type    10.237205\n",
       "degrees_id      0.000000\n",
       "object_id       0.000000\n",
       "dtype: float64"
      ]
     },
     "execution_count": 28,
     "metadata": {},
     "output_type": "execute_result"
    }
   ],
   "source": [
    "# Посчитаем процент пропусков в датафрейме\n",
    "degrees.isna().mean().sort_values(ascending = False) * 100"
   ]
  },
  {
   "cell_type": "markdown",
   "metadata": {},
   "source": [
    "Датафрейм `degrees` содержит 109610 строк  и 4 столбца.\n",
    "\n",
    "- Столбец `subject` содержит 28312 пропусков(25.8%)\n",
    "- Столбец `degree_type` содержит 11221 пропуск(10.2%)\n",
    "\n",
    "Все типы данных соответствуют содержащимся в датафрейме данным."
   ]
  },
  {
   "cell_type": "markdown",
   "metadata": {},
   "source": [
    "**Промежуточный вывод:** \n",
    "- Во всех датафреймах для строк, хранящих информацию о дате, был изменен тип данных на `datetime`.\n",
    "- В каждом из представленных датафреймов присутствуют пропуски в большом количестве. В датафреймах `aquisition`, `company_and_rounds`, `people` есть столбцы с более `80%` пропусков. Такое количество пропусков может помешать дальнейшему анализу данных или снизить его качество."
   ]
  },
  {
   "cell_type": "markdown",
   "metadata": {
    "id": "u60cHsn6rJg1"
   },
   "source": [
    "## 2. Предобработка данных, предварительное исследование"
   ]
  },
  {
   "cell_type": "markdown",
   "metadata": {
    "id": "g2bHIIjcrJg1"
   },
   "source": [
    "\n",
    "### 2.1. Раунды финансирования по годам\n",
    "\n",
    "- Составим сводную таблицу по годамна основе датасета `company_and_rounds.csv`, в которой на основании столбца `raised_amount` для каждого года указан:\n",
    "    - типичный размер средств, выделяемый в рамках одного раунда;\n",
    "    - общее количество раундов финансирования за этот год.\n",
    "    \n",
    "- Оставим в таблице информацию только для тех лет, для которых есть информация о более чем 50 раундах финансирования.\n",
    "- На основе получившейся таблицы построим график, который будет отражать динамику типичного размера средств, которые стартапы получали в рамках одного раунда финансирования.\n",
    "\n",
    "На основе полученных данных необходимо ответить на вопросы:\n",
    "\n",
    "- В каком году типичный размер собранных в рамках одного раунда средств был максимален?\n",
    "- Какая тенденция по количеству раундов и выделяемых в рамках каждого раунда средств наблюдалась в 2013 году?"
   ]
  },
  {
   "cell_type": "markdown",
   "metadata": {
    "id": "Cf5IjfOQrJg1",
    "vscode": {
     "languageId": "plaintext"
    }
   },
   "source": [
    "Создадим сводную таблицу. Для этого выделим год из `founded_at`, сгруппируем данные по годам, расчитаем медиану `raised_amount` и количество рандов. Отфильтруем годы с количеством раундов больше 50. Создадим столбец с размером финансирования в миллионах."
   ]
  },
  {
   "cell_type": "code",
   "execution_count": 29,
   "metadata": {
    "id": "8Fbz6KmzFdYP"
   },
   "outputs": [
    {
     "data": {
      "text/html": [
       "<div>\n",
       "<style scoped>\n",
       "    .dataframe tbody tr th:only-of-type {\n",
       "        vertical-align: middle;\n",
       "    }\n",
       "\n",
       "    .dataframe tbody tr th {\n",
       "        vertical-align: top;\n",
       "    }\n",
       "\n",
       "    .dataframe thead th {\n",
       "        text-align: right;\n",
       "    }\n",
       "</style>\n",
       "<table border=\"1\" class=\"dataframe\">\n",
       "  <thead>\n",
       "    <tr style=\"text-align: right;\">\n",
       "      <th></th>\n",
       "      <th>year</th>\n",
       "      <th>typical_amount</th>\n",
       "      <th>total_rounds</th>\n",
       "      <th>m_typical_amount</th>\n",
       "    </tr>\n",
       "  </thead>\n",
       "  <tbody>\n",
       "    <tr>\n",
       "      <th>0</th>\n",
       "      <td>1999.0</td>\n",
       "      <td>2000000.0</td>\n",
       "      <td>76</td>\n",
       "      <td>2.00000</td>\n",
       "    </tr>\n",
       "    <tr>\n",
       "      <th>1</th>\n",
       "      <td>2000.0</td>\n",
       "      <td>4200000.0</td>\n",
       "      <td>125</td>\n",
       "      <td>4.20000</td>\n",
       "    </tr>\n",
       "    <tr>\n",
       "      <th>2</th>\n",
       "      <td>2001.0</td>\n",
       "      <td>3000000.0</td>\n",
       "      <td>96</td>\n",
       "      <td>3.00000</td>\n",
       "    </tr>\n",
       "    <tr>\n",
       "      <th>3</th>\n",
       "      <td>2002.0</td>\n",
       "      <td>4200000.0</td>\n",
       "      <td>116</td>\n",
       "      <td>4.20000</td>\n",
       "    </tr>\n",
       "    <tr>\n",
       "      <th>4</th>\n",
       "      <td>2003.0</td>\n",
       "      <td>3000000.0</td>\n",
       "      <td>159</td>\n",
       "      <td>3.00000</td>\n",
       "    </tr>\n",
       "    <tr>\n",
       "      <th>5</th>\n",
       "      <td>2004.0</td>\n",
       "      <td>5000000.0</td>\n",
       "      <td>291</td>\n",
       "      <td>5.00000</td>\n",
       "    </tr>\n",
       "    <tr>\n",
       "      <th>6</th>\n",
       "      <td>2005.0</td>\n",
       "      <td>5500000.0</td>\n",
       "      <td>1633</td>\n",
       "      <td>5.50000</td>\n",
       "    </tr>\n",
       "    <tr>\n",
       "      <th>7</th>\n",
       "      <td>2006.0</td>\n",
       "      <td>5000000.0</td>\n",
       "      <td>2436</td>\n",
       "      <td>5.00000</td>\n",
       "    </tr>\n",
       "    <tr>\n",
       "      <th>8</th>\n",
       "      <td>2007.0</td>\n",
       "      <td>3973320.0</td>\n",
       "      <td>3279</td>\n",
       "      <td>3.97332</td>\n",
       "    </tr>\n",
       "    <tr>\n",
       "      <th>9</th>\n",
       "      <td>2008.0</td>\n",
       "      <td>3110000.0</td>\n",
       "      <td>3774</td>\n",
       "      <td>3.11000</td>\n",
       "    </tr>\n",
       "    <tr>\n",
       "      <th>10</th>\n",
       "      <td>2009.0</td>\n",
       "      <td>2000000.0</td>\n",
       "      <td>4151</td>\n",
       "      <td>2.00000</td>\n",
       "    </tr>\n",
       "    <tr>\n",
       "      <th>11</th>\n",
       "      <td>2010.0</td>\n",
       "      <td>1602500.0</td>\n",
       "      <td>6221</td>\n",
       "      <td>1.60250</td>\n",
       "    </tr>\n",
       "    <tr>\n",
       "      <th>12</th>\n",
       "      <td>2011.0</td>\n",
       "      <td>1200000.0</td>\n",
       "      <td>9204</td>\n",
       "      <td>1.20000</td>\n",
       "    </tr>\n",
       "    <tr>\n",
       "      <th>13</th>\n",
       "      <td>2012.0</td>\n",
       "      <td>1000000.0</td>\n",
       "      <td>9970</td>\n",
       "      <td>1.00000</td>\n",
       "    </tr>\n",
       "    <tr>\n",
       "      <th>14</th>\n",
       "      <td>2013.0</td>\n",
       "      <td>1200000.0</td>\n",
       "      <td>11072</td>\n",
       "      <td>1.20000</td>\n",
       "    </tr>\n",
       "  </tbody>\n",
       "</table>\n",
       "</div>"
      ],
      "text/plain": [
       "      year  typical_amount  total_rounds  m_typical_amount\n",
       "0   1999.0       2000000.0            76           2.00000\n",
       "1   2000.0       4200000.0           125           4.20000\n",
       "2   2001.0       3000000.0            96           3.00000\n",
       "3   2002.0       4200000.0           116           4.20000\n",
       "4   2003.0       3000000.0           159           3.00000\n",
       "5   2004.0       5000000.0           291           5.00000\n",
       "6   2005.0       5500000.0          1633           5.50000\n",
       "7   2006.0       5000000.0          2436           5.00000\n",
       "8   2007.0       3973320.0          3279           3.97332\n",
       "9   2008.0       3110000.0          3774           3.11000\n",
       "10  2009.0       2000000.0          4151           2.00000\n",
       "11  2010.0       1602500.0          6221           1.60250\n",
       "12  2011.0       1200000.0          9204           1.20000\n",
       "13  2012.0       1000000.0          9970           1.00000\n",
       "14  2013.0       1200000.0         11072           1.20000"
      ]
     },
     "execution_count": 29,
     "metadata": {},
     "output_type": "execute_result"
    }
   ],
   "source": [
    "# Преобразование даты и извлечение года\n",
    "company_and_rounds['funded_at'] = pd.to_datetime(company_and_rounds['funded_at'])\n",
    "company_and_rounds['year'] = company_and_rounds['funded_at'].dt.year\n",
    "\n",
    "# Группировка по годам\n",
    "summary = company_and_rounds.groupby('year')['raised_amount'].agg(\n",
    "    typical_amount=('median'),\n",
    "    total_rounds=('count')\n",
    ").reset_index()\n",
    "\n",
    "# Фильтрация (только годы с >50 раундами)\n",
    "summary = summary[summary['total_rounds'] > 50]\n",
    "\n",
    "# Сортировка по году\n",
    "summary = summary.sort_values('year').reset_index(drop=True)\n",
    "# Создание столбца с размером финансирования в миллионах\n",
    "summary['m_typical_amount'] = summary['typical_amount'] / 1000000\n",
    "\n",
    "summary"
   ]
  },
  {
   "cell_type": "markdown",
   "metadata": {
    "id": "Z92DzKMMFdKW"
   },
   "source": [
    "На основе получившейся таблицы построим график, который будет отражать динамику типичного размера средств, которые стартапы получали в рамках одного раунда финансирования."
   ]
  },
  {
   "cell_type": "code",
   "execution_count": 30,
   "metadata": {},
   "outputs": [
    {
     "data": {
      "image/png": "[encoded data removed]",
      "text/plain": [
       "<Figure size 432x288 with 1 Axes>"
      ]
     },
     "metadata": {
      "needs_background": "light"
     },
     "output_type": "display_data"
    }
   ],
   "source": [
    "# Построение графика\n",
    "\n",
    "summary.plot(\n",
    "    kind='line',\n",
    "    x='year',\n",
    "    y='m_typical_amount',\n",
    "    title='Динамика типичного размера средств, полученных в рамках одного раунда финансирования',\n",
    "    legend = False\n",
    ")\n",
    "\n",
    "# Подписываем и отображаем график\n",
    "plt.xlabel('Год')\n",
    "plt.ylabel('Типичный размер средств (в млн долларов США)')\n",
    "plt.grid()\n",
    "plt.show()"
   ]
  },
  {
   "cell_type": "markdown",
   "metadata": {},
   "source": [
    "На основе полученных данных можно сделать выводы:\n",
    "- Типичный размер собранных в рамках одного раунда средств был максимальным в 2005 году и составил 5.5 миллионов.\n",
    "- В 2013 году было самое высокое количество раундов (11072), однако размер средств был одним из самых низких - 1.2 миллиона"
   ]
  },
  {
   "cell_type": "markdown",
   "metadata": {
    "id": "45if1en1rJg2"
   },
   "source": [
    "\n",
    "### 2.2. Люди и их образование\n",
    "\n",
    "Необходимо понять, зависит ли полнота сведений о сотрудниках (например, об их образовании) от размера компаний.\n"
   ]
  },
  {
   "cell_type": "markdown",
   "metadata": {
    "id": "psPO7C4MrJg2",
    "vscode": {
     "languageId": "plaintext"
    }
   },
   "source": [
    "Для проведения анализа объединим датафреймы `people` и `education` по полям `people_id` для `people` и `person_id` для `education`. Будем использовать тип соединения `outer`, поскольку в данных много пропусков и важно сохранить всю информацию.\n",
    "\n",
    "К этим датафреймам невозможно присоединить датафрейм `degrees`, хоть он имеет поле `object_id`, имеющее похожие значения, однако в этом поле содержатся строковые значения, в отличие от полей `people_id` и `person_id`. "
   ]
  },
  {
   "cell_type": "code",
   "execution_count": 31,
   "metadata": {
    "id": "BThTjpLqFcsm"
   },
   "outputs": [],
   "source": [
    "# Соединим датафреймы people и education\n",
    "people_education = people.merge(education, left_on = 'people_id', right_on = 'person_id', how = 'outer')"
   ]
  },
  {
   "cell_type": "code",
   "execution_count": 32,
   "metadata": {},
   "outputs": [
    {
     "name": "stdout",
     "output_type": "stream",
     "text": [
      "<class 'pandas.core.frame.DataFrame'>\n",
      "RangeIndex: 268248 entries, 0 to 268247\n",
      "Data columns (total 9 columns):\n",
      " #   Column            Non-Null Count   Dtype         \n",
      "---  ------            --------------   -----         \n",
      " 0   people_id         267694 non-null  float64       \n",
      " 1   first_name        267685 non-null  object        \n",
      " 2   last_name         267690 non-null  object        \n",
      " 3   company_id        44789 non-null   float64       \n",
      " 4   network_username  50775 non-null   object        \n",
      " 5   education_id      109610 non-null  float64       \n",
      " 6   person_id         109610 non-null  float64       \n",
      " 7   instituition      109555 non-null  object        \n",
      " 8   graduated_at      58054 non-null   datetime64[ns]\n",
      "dtypes: datetime64[ns](1), float64(4), object(4)\n",
      "memory usage: 18.4+ MB\n"
     ]
    }
   ],
   "source": [
    "# Выведем информацию о полученном датафрейме\n",
    "people_education.info()"
   ]
  },
  {
   "cell_type": "markdown",
   "metadata": {},
   "source": [
    "Для удобства в дальнейшем исследовании объединим столбцы `people_id` и `person_id`."
   ]
  },
  {
   "cell_type": "code",
   "execution_count": 33,
   "metadata": {},
   "outputs": [],
   "source": [
    "# Создадим столбец total_people_id\n",
    "people_education['total_people_id'] = people_education['people_id'].fillna(people_education['person_id'])"
   ]
  },
  {
   "cell_type": "markdown",
   "metadata": {},
   "source": [
    " Проверим столбец `total_people_id` на наличие дубликатов, найдем сумму дубликатов и удалим их."
   ]
  },
  {
   "cell_type": "code",
   "execution_count": 34,
   "metadata": {},
   "outputs": [
    {
     "data": {
      "text/plain": [
       "41160"
      ]
     },
     "execution_count": 34,
     "metadata": {},
     "output_type": "execute_result"
    }
   ],
   "source": [
    "# Найдем сумму дубликатов\n",
    "people_education.duplicated(subset = ['total_people_id']).sum()"
   ]
  },
  {
   "cell_type": "code",
   "execution_count": 35,
   "metadata": {},
   "outputs": [],
   "source": [
    "# Удалим дубликаты\n",
    "people_education = people_education.drop_duplicates(subset = ['total_people_id'])"
   ]
  },
  {
   "cell_type": "markdown",
   "metadata": {},
   "source": [
    "Для того, чтобы разделить компании на группы по количеству работников, найдем все уникальные значения для количества сотрудников в компании, а также сколько раз встречается это значение."
   ]
  },
  {
   "cell_type": "code",
   "execution_count": 36,
   "metadata": {},
   "outputs": [
    {
     "data": {
      "text/plain": [
       "people_count\n",
       "1      18116\n",
       "2       2709\n",
       "3        921\n",
       "4        450\n",
       "5        237\n",
       "6        138\n",
       "7        100\n",
       "8         59\n",
       "9         46\n",
       "10        25\n",
       "11        30\n",
       "12        16\n",
       "13        17\n",
       "14         8\n",
       "15         3\n",
       "16         4\n",
       "17         5\n",
       "18         3\n",
       "19         3\n",
       "20         3\n",
       "21         2\n",
       "22         2\n",
       "23         3\n",
       "25         2\n",
       "26         1\n",
       "29         2\n",
       "31         1\n",
       "32         1\n",
       "35         1\n",
       "36         1\n",
       "39         1\n",
       "47         1\n",
       "48         1\n",
       "51         1\n",
       "56         2\n",
       "61         1\n",
       "63         1\n",
       "72         1\n",
       "138        1\n",
       "150        1\n",
       "244        1\n",
       "Name: company_id, dtype: int64"
      ]
     },
     "execution_count": 36,
     "metadata": {},
     "output_type": "execute_result"
    }
   ],
   "source": [
    "# Сгруппируем датафрейм по company_id и посчитаем количество сотрудников в каждой компании\n",
    "employees = people_education.groupby('company_id')['total_people_id'].agg(people_count = 'count').reset_index()\n",
    "# Найдем, сколько раз встречаются все значения количества сотрудников\n",
    "employees.groupby('people_count')['company_id'].count()"
   ]
  },
  {
   "cell_type": "markdown",
   "metadata": {},
   "source": [
    "Исходя из полученных данных, компании будет логичнее всего разделить на категории так:\n",
    "1. 1 сотрудник;\n",
    "2. 2-5 сотрудников;\n",
    "3. 6-13 сотрудников;\n",
    "4. более 14 сотрудников."
   ]
  },
  {
   "cell_type": "markdown",
   "metadata": {},
   "source": [
    "Для того, чтобы оценить, насколько информация об образовании сотрудников полна, добавим разделение по размеру компании к `employees`, затем посчитаем количество сотрудников без образования в `people_education`, и посчитаем долю таких сотрудников для каждой категории компании."
   ]
  },
  {
   "cell_type": "code",
   "execution_count": 37,
   "metadata": {},
   "outputs": [],
   "source": [
    "# Разделим компании на группы по размеру\n",
    "employees['size_group'] = pd.cut(employees['people_count'], \n",
    "                                 bins = [0, 1, 5, 13, float('inf')], labels = ['1 сотрудник', '2-5 сотрудников', '6-13 сотрудников',\n",
    "                                                                     'более 14 сотрудников'])"
   ]
  },
  {
   "cell_type": "code",
   "execution_count": 38,
   "metadata": {},
   "outputs": [
    {
     "data": {
      "text/html": [
       "<div>\n",
       "<style scoped>\n",
       "    .dataframe tbody tr th:only-of-type {\n",
       "        vertical-align: middle;\n",
       "    }\n",
       "\n",
       "    .dataframe tbody tr th {\n",
       "        vertical-align: top;\n",
       "    }\n",
       "\n",
       "    .dataframe thead th {\n",
       "        text-align: right;\n",
       "    }\n",
       "</style>\n",
       "<table border=\"1\" class=\"dataframe\">\n",
       "  <thead>\n",
       "    <tr style=\"text-align: right;\">\n",
       "      <th></th>\n",
       "      <th>company_id</th>\n",
       "      <th>no_education</th>\n",
       "    </tr>\n",
       "  </thead>\n",
       "  <tbody>\n",
       "    <tr>\n",
       "      <th>0</th>\n",
       "      <td>1.0</td>\n",
       "      <td>1</td>\n",
       "    </tr>\n",
       "    <tr>\n",
       "      <th>1</th>\n",
       "      <td>3.0</td>\n",
       "      <td>1</td>\n",
       "    </tr>\n",
       "    <tr>\n",
       "      <th>2</th>\n",
       "      <td>4.0</td>\n",
       "      <td>1</td>\n",
       "    </tr>\n",
       "    <tr>\n",
       "      <th>3</th>\n",
       "      <td>5.0</td>\n",
       "      <td>16</td>\n",
       "    </tr>\n",
       "    <tr>\n",
       "      <th>4</th>\n",
       "      <td>8.0</td>\n",
       "      <td>3</td>\n",
       "    </tr>\n",
       "    <tr>\n",
       "      <th>...</th>\n",
       "      <td>...</td>\n",
       "      <td>...</td>\n",
       "    </tr>\n",
       "    <tr>\n",
       "      <th>11877</th>\n",
       "      <td>285409.0</td>\n",
       "      <td>1</td>\n",
       "    </tr>\n",
       "    <tr>\n",
       "      <th>11878</th>\n",
       "      <td>285446.0</td>\n",
       "      <td>1</td>\n",
       "    </tr>\n",
       "    <tr>\n",
       "      <th>11879</th>\n",
       "      <td>285953.0</td>\n",
       "      <td>1</td>\n",
       "    </tr>\n",
       "    <tr>\n",
       "      <th>11880</th>\n",
       "      <td>285972.0</td>\n",
       "      <td>1</td>\n",
       "    </tr>\n",
       "    <tr>\n",
       "      <th>11881</th>\n",
       "      <td>286091.0</td>\n",
       "      <td>2</td>\n",
       "    </tr>\n",
       "  </tbody>\n",
       "</table>\n",
       "<p>11882 rows × 2 columns</p>\n",
       "</div>"
      ],
      "text/plain": [
       "       company_id  no_education\n",
       "0             1.0             1\n",
       "1             3.0             1\n",
       "2             4.0             1\n",
       "3             5.0            16\n",
       "4             8.0             3\n",
       "...           ...           ...\n",
       "11877    285409.0             1\n",
       "11878    285446.0             1\n",
       "11879    285953.0             1\n",
       "11880    285972.0             1\n",
       "11881    286091.0             2\n",
       "\n",
       "[11882 rows x 2 columns]"
      ]
     },
     "execution_count": 38,
     "metadata": {},
     "output_type": "execute_result"
    }
   ],
   "source": [
    "# Считаем количество сотрудников без данных об образовании\n",
    "no_education = people_education[people_education['instituition'].isna()].groupby('company_id')['total_people_id'].agg(no_education = 'count').reset_index()\n",
    "no_education"
   ]
  },
  {
   "cell_type": "markdown",
   "metadata": {},
   "source": [
    "Объединим `employees` и `no_education` по полю `company_id`, используя левый тип соединения"
   ]
  },
  {
   "cell_type": "code",
   "execution_count": 39,
   "metadata": {},
   "outputs": [],
   "source": [
    "# Объединяем employees с no_education \n",
    "stats = employees.merge(no_education, on = 'company_id', how = 'left').fillna({'no_education': 0})"
   ]
  },
  {
   "cell_type": "code",
   "execution_count": 40,
   "metadata": {},
   "outputs": [
    {
     "name": "stdout",
     "output_type": "stream",
     "text": [
      "<class 'pandas.core.frame.DataFrame'>\n",
      "RangeIndex: 22921 entries, 0 to 22920\n",
      "Data columns (total 4 columns):\n",
      " #   Column        Non-Null Count  Dtype   \n",
      "---  ------        --------------  -----   \n",
      " 0   company_id    22921 non-null  float64 \n",
      " 1   people_count  22921 non-null  int64   \n",
      " 2   size_group    22921 non-null  category\n",
      " 3   no_education  22921 non-null  float64 \n",
      "dtypes: category(1), float64(2), int64(1)\n",
      "memory usage: 559.9 KB\n"
     ]
    }
   ],
   "source": [
    "stats.info()"
   ]
  },
  {
   "cell_type": "code",
   "execution_count": 41,
   "metadata": {},
   "outputs": [],
   "source": [
    "# Считаем дюлю сотрудников без информации об образовании\n",
    "stats['no_education_ratio'] = stats['no_education'] / stats['people_count']"
   ]
  },
  {
   "cell_type": "code",
   "execution_count": 42,
   "metadata": {},
   "outputs": [
    {
     "data": {
      "text/html": [
       "<div>\n",
       "<style scoped>\n",
       "    .dataframe tbody tr th:only-of-type {\n",
       "        vertical-align: middle;\n",
       "    }\n",
       "\n",
       "    .dataframe tbody tr th {\n",
       "        vertical-align: top;\n",
       "    }\n",
       "\n",
       "    .dataframe thead th {\n",
       "        text-align: right;\n",
       "    }\n",
       "</style>\n",
       "<table border=\"1\" class=\"dataframe\">\n",
       "  <thead>\n",
       "    <tr style=\"text-align: right;\">\n",
       "      <th></th>\n",
       "      <th>company_id</th>\n",
       "      <th>people_count</th>\n",
       "      <th>size_group</th>\n",
       "      <th>no_education</th>\n",
       "      <th>no_education_ratio</th>\n",
       "    </tr>\n",
       "  </thead>\n",
       "  <tbody>\n",
       "    <tr>\n",
       "      <th>0</th>\n",
       "      <td>1.0</td>\n",
       "      <td>2</td>\n",
       "      <td>2-5 сотрудников</td>\n",
       "      <td>1.0</td>\n",
       "      <td>0.500000</td>\n",
       "    </tr>\n",
       "    <tr>\n",
       "      <th>1</th>\n",
       "      <td>2.0</td>\n",
       "      <td>1</td>\n",
       "      <td>1 сотрудник</td>\n",
       "      <td>0.0</td>\n",
       "      <td>0.000000</td>\n",
       "    </tr>\n",
       "    <tr>\n",
       "      <th>2</th>\n",
       "      <td>3.0</td>\n",
       "      <td>3</td>\n",
       "      <td>2-5 сотрудников</td>\n",
       "      <td>1.0</td>\n",
       "      <td>0.333333</td>\n",
       "    </tr>\n",
       "    <tr>\n",
       "      <th>3</th>\n",
       "      <td>4.0</td>\n",
       "      <td>13</td>\n",
       "      <td>6-13 сотрудников</td>\n",
       "      <td>1.0</td>\n",
       "      <td>0.076923</td>\n",
       "    </tr>\n",
       "    <tr>\n",
       "      <th>4</th>\n",
       "      <td>5.0</td>\n",
       "      <td>61</td>\n",
       "      <td>более 14 сотрудников</td>\n",
       "      <td>16.0</td>\n",
       "      <td>0.262295</td>\n",
       "    </tr>\n",
       "    <tr>\n",
       "      <th>...</th>\n",
       "      <td>...</td>\n",
       "      <td>...</td>\n",
       "      <td>...</td>\n",
       "      <td>...</td>\n",
       "      <td>...</td>\n",
       "    </tr>\n",
       "    <tr>\n",
       "      <th>22916</th>\n",
       "      <td>285897.0</td>\n",
       "      <td>2</td>\n",
       "      <td>2-5 сотрудников</td>\n",
       "      <td>0.0</td>\n",
       "      <td>0.000000</td>\n",
       "    </tr>\n",
       "    <tr>\n",
       "      <th>22917</th>\n",
       "      <td>285953.0</td>\n",
       "      <td>1</td>\n",
       "      <td>1 сотрудник</td>\n",
       "      <td>1.0</td>\n",
       "      <td>1.000000</td>\n",
       "    </tr>\n",
       "    <tr>\n",
       "      <th>22918</th>\n",
       "      <td>285972.0</td>\n",
       "      <td>2</td>\n",
       "      <td>2-5 сотрудников</td>\n",
       "      <td>1.0</td>\n",
       "      <td>0.500000</td>\n",
       "    </tr>\n",
       "    <tr>\n",
       "      <th>22919</th>\n",
       "      <td>285996.0</td>\n",
       "      <td>1</td>\n",
       "      <td>1 сотрудник</td>\n",
       "      <td>0.0</td>\n",
       "      <td>0.000000</td>\n",
       "    </tr>\n",
       "    <tr>\n",
       "      <th>22920</th>\n",
       "      <td>286091.0</td>\n",
       "      <td>6</td>\n",
       "      <td>6-13 сотрудников</td>\n",
       "      <td>2.0</td>\n",
       "      <td>0.333333</td>\n",
       "    </tr>\n",
       "  </tbody>\n",
       "</table>\n",
       "<p>22921 rows × 5 columns</p>\n",
       "</div>"
      ],
      "text/plain": [
       "       company_id  people_count            size_group  no_education  \\\n",
       "0             1.0             2       2-5 сотрудников           1.0   \n",
       "1             2.0             1           1 сотрудник           0.0   \n",
       "2             3.0             3       2-5 сотрудников           1.0   \n",
       "3             4.0            13      6-13 сотрудников           1.0   \n",
       "4             5.0            61  более 14 сотрудников          16.0   \n",
       "...           ...           ...                   ...           ...   \n",
       "22916    285897.0             2       2-5 сотрудников           0.0   \n",
       "22917    285953.0             1           1 сотрудник           1.0   \n",
       "22918    285972.0             2       2-5 сотрудников           1.0   \n",
       "22919    285996.0             1           1 сотрудник           0.0   \n",
       "22920    286091.0             6      6-13 сотрудников           2.0   \n",
       "\n",
       "       no_education_ratio  \n",
       "0                0.500000  \n",
       "1                0.000000  \n",
       "2                0.333333  \n",
       "3                0.076923  \n",
       "4                0.262295  \n",
       "...                   ...  \n",
       "22916            0.000000  \n",
       "22917            1.000000  \n",
       "22918            0.500000  \n",
       "22919            0.000000  \n",
       "22920            0.333333  \n",
       "\n",
       "[22921 rows x 5 columns]"
      ]
     },
     "execution_count": 42,
     "metadata": {},
     "output_type": "execute_result"
    }
   ],
   "source": [
    "stats"
   ]
  },
  {
   "cell_type": "code",
   "execution_count": 43,
   "metadata": {},
   "outputs": [
    {
     "data": {
      "text/html": [
       "<div>\n",
       "<style scoped>\n",
       "    .dataframe tbody tr th:only-of-type {\n",
       "        vertical-align: middle;\n",
       "    }\n",
       "\n",
       "    .dataframe tbody tr th {\n",
       "        vertical-align: top;\n",
       "    }\n",
       "\n",
       "    .dataframe thead th {\n",
       "        text-align: right;\n",
       "    }\n",
       "</style>\n",
       "<table border=\"1\" class=\"dataframe\">\n",
       "  <thead>\n",
       "    <tr style=\"text-align: right;\">\n",
       "      <th></th>\n",
       "      <th>mean_no_education_ratio</th>\n",
       "    </tr>\n",
       "    <tr>\n",
       "      <th>size_group</th>\n",
       "      <th></th>\n",
       "    </tr>\n",
       "  </thead>\n",
       "  <tbody>\n",
       "    <tr>\n",
       "      <th>1 сотрудник</th>\n",
       "      <td>0.463127</td>\n",
       "    </tr>\n",
       "    <tr>\n",
       "      <th>2-5 сотрудников</th>\n",
       "      <td>0.476357</td>\n",
       "    </tr>\n",
       "    <tr>\n",
       "      <th>6-13 сотрудников</th>\n",
       "      <td>0.521643</td>\n",
       "    </tr>\n",
       "    <tr>\n",
       "      <th>более 14 сотрудников</th>\n",
       "      <td>0.392665</td>\n",
       "    </tr>\n",
       "  </tbody>\n",
       "</table>\n",
       "</div>"
      ],
      "text/plain": [
       "                      mean_no_education_ratio\n",
       "size_group                                   \n",
       "1 сотрудник                          0.463127\n",
       "2-5 сотрудников                      0.476357\n",
       "6-13 сотрудников                     0.521643\n",
       "более 14 сотрудников                 0.392665"
      ]
     },
     "execution_count": 43,
     "metadata": {},
     "output_type": "execute_result"
    }
   ],
   "source": [
    "# Считаем среднюю долю сотрудников без информации об образовании для каждой категории компании\n",
    "stats.groupby('size_group', observed = False)['no_education_ratio'].agg(mean_no_education_ratio = 'mean')"
   ]
  },
  {
   "cell_type": "markdown",
   "metadata": {},
   "source": [
    "Из полученных данных можно сделать вывод, что размер компании не влияет на полноту информации об образовании сотрудников. Больше всего пропусков в данных у компаний с 6-13 сотрудниками(52%), меньше всего у компаний с более, чем 14 сотрудниками(39%). Для 1 и 2-5 сотрудников значения примерно одинаковы."
   ]
  },
  {
   "cell_type": "markdown",
   "metadata": {
    "id": "Lz7qjM32xglW"
   },
   "source": [
    "### 2.3. Объединение датасетов\n",
    "\n",
    "Некоторые названия столбцов встречаются в датасетах чаще других. В результате предварительной проверки датасетов было выяснено, что столбец `company_id` подходит для объединения данных.\n",
    "\n",
    "- Необходимо установить, подходит ли для объединения данных столбец `network_username`, который встречается в нескольких датасетах. Нам необходимо понимать, дублируется ли для разных датасетов информация в столбцах с таким названием, и если да — то насколько часто.\n",
    "- Необходимо оценить, можно ли использовать столбцы с именем `network_username` для объединения данных."
   ]
  },
  {
   "cell_type": "markdown",
   "metadata": {},
   "source": [
    "Столбец `network_username` встречается в датасетах `people` и `company_and_rounds`. Из описания данных понятно, что в датафрейме `people` данный столбец принимает значения ника сотрудника в сети, в то время как в датафрейме `company_and_rounds` столбец принимает значение компании в сети. Это значит, что данные столбцы при одинаковом названии имеют разные значения. Проверим это и выведем первые 10 значений для каждого столбца, которые не содержат пропусков."
   ]
  },
  {
   "cell_type": "code",
   "execution_count": 44,
   "metadata": {
    "id": "zyI3rt0rxg1O"
   },
   "outputs": [
    {
     "data": {
      "text/html": [
       "<div>\n",
       "<style scoped>\n",
       "    .dataframe tbody tr th:only-of-type {\n",
       "        vertical-align: middle;\n",
       "    }\n",
       "\n",
       "    .dataframe tbody tr th {\n",
       "        vertical-align: top;\n",
       "    }\n",
       "\n",
       "    .dataframe thead th {\n",
       "        text-align: right;\n",
       "    }\n",
       "</style>\n",
       "<table border=\"1\" class=\"dataframe\">\n",
       "  <thead>\n",
       "    <tr style=\"text-align: right;\">\n",
       "      <th></th>\n",
       "      <th>people_id</th>\n",
       "      <th>first_name</th>\n",
       "      <th>last_name</th>\n",
       "      <th>company_id</th>\n",
       "      <th>network_username</th>\n",
       "    </tr>\n",
       "  </thead>\n",
       "  <tbody>\n",
       "    <tr>\n",
       "      <th>6</th>\n",
       "      <td>100006</td>\n",
       "      <td>Courtney</td>\n",
       "      <td>Homer</td>\n",
       "      <td>81558.0</td>\n",
       "      <td>jobsbostontech</td>\n",
       "    </tr>\n",
       "    <tr>\n",
       "      <th>8</th>\n",
       "      <td>100010</td>\n",
       "      <td>Michael</td>\n",
       "      <td>Dadashyan</td>\n",
       "      <td>NaN</td>\n",
       "      <td>fbroulette</td>\n",
       "    </tr>\n",
       "    <tr>\n",
       "      <th>16</th>\n",
       "      <td>100018</td>\n",
       "      <td>Adam</td>\n",
       "      <td>Beckerman</td>\n",
       "      <td>148554.0</td>\n",
       "      <td>adam_beckerman</td>\n",
       "    </tr>\n",
       "    <tr>\n",
       "      <th>17</th>\n",
       "      <td>100019</td>\n",
       "      <td>Melissa</td>\n",
       "      <td>French</td>\n",
       "      <td>NaN</td>\n",
       "      <td>netcastles</td>\n",
       "    </tr>\n",
       "    <tr>\n",
       "      <th>18</th>\n",
       "      <td>100022</td>\n",
       "      <td>OÄuz KaÄan</td>\n",
       "      <td>Aslan</td>\n",
       "      <td>NaN</td>\n",
       "      <td>OguzKaganAslan</td>\n",
       "    </tr>\n",
       "    <tr>\n",
       "      <th>19</th>\n",
       "      <td>100023</td>\n",
       "      <td>Neil</td>\n",
       "      <td>Chandran</td>\n",
       "      <td>81571.0</td>\n",
       "      <td>neilchandran</td>\n",
       "    </tr>\n",
       "    <tr>\n",
       "      <th>23</th>\n",
       "      <td>100027</td>\n",
       "      <td>Suraj</td>\n",
       "      <td>Shinde</td>\n",
       "      <td>NaN</td>\n",
       "      <td>SurajBShinde</td>\n",
       "    </tr>\n",
       "    <tr>\n",
       "      <th>26</th>\n",
       "      <td>100031</td>\n",
       "      <td>Sandeep</td>\n",
       "      <td>Hegde</td>\n",
       "      <td>81576.0</td>\n",
       "      <td>sandeephegde</td>\n",
       "    </tr>\n",
       "    <tr>\n",
       "      <th>27</th>\n",
       "      <td>100032</td>\n",
       "      <td>Dejan</td>\n",
       "      <td>Avramovic</td>\n",
       "      <td>NaN</td>\n",
       "      <td>avramavram</td>\n",
       "    </tr>\n",
       "    <tr>\n",
       "      <th>29</th>\n",
       "      <td>100034</td>\n",
       "      <td>Anand</td>\n",
       "      <td>Mistry</td>\n",
       "      <td>NaN</td>\n",
       "      <td>AnandHMistry</td>\n",
       "    </tr>\n",
       "  </tbody>\n",
       "</table>\n",
       "</div>"
      ],
      "text/plain": [
       "    people_id    first_name  last_name  company_id network_username\n",
       "6      100006      Courtney      Homer     81558.0   jobsbostontech\n",
       "8      100010       Michael  Dadashyan         NaN       fbroulette\n",
       "16     100018          Adam  Beckerman    148554.0   adam_beckerman\n",
       "17     100019       Melissa     French         NaN       netcastles\n",
       "18     100022  OÄuz KaÄan      Aslan         NaN   OguzKaganAslan\n",
       "19     100023          Neil   Chandran     81571.0     neilchandran\n",
       "23     100027         Suraj     Shinde         NaN     SurajBShinde\n",
       "26     100031       Sandeep      Hegde     81576.0     sandeephegde\n",
       "27     100032         Dejan  Avramovic         NaN       avramavram\n",
       "29     100034         Anand     Mistry         NaN     AnandHMistry"
      ]
     },
     "execution_count": 44,
     "metadata": {},
     "output_type": "execute_result"
    }
   ],
   "source": [
    "# Отберем значения столбца без пропусков и выведем первые 10 строк датафрейма\n",
    "people_notna = people[people['network_username'].notna()]\n",
    "people_notna.head(10)"
   ]
  },
  {
   "cell_type": "code",
   "execution_count": 45,
   "metadata": {
    "id": "RxOS5rwmFcNW"
   },
   "outputs": [
    {
     "data": {
      "text/html": [
       "<div>\n",
       "<style scoped>\n",
       "    .dataframe tbody tr th:only-of-type {\n",
       "        vertical-align: middle;\n",
       "    }\n",
       "\n",
       "    .dataframe tbody tr th {\n",
       "        vertical-align: top;\n",
       "    }\n",
       "\n",
       "    .dataframe thead th {\n",
       "        text-align: right;\n",
       "    }\n",
       "</style>\n",
       "<table border=\"1\" class=\"dataframe\">\n",
       "  <thead>\n",
       "    <tr style=\"text-align: right;\">\n",
       "      <th></th>\n",
       "      <th>name</th>\n",
       "      <th>network_username</th>\n",
       "    </tr>\n",
       "  </thead>\n",
       "  <tbody>\n",
       "    <tr>\n",
       "      <th>0</th>\n",
       "      <td>Wetpaint</td>\n",
       "      <td>BachelrWetpaint</td>\n",
       "    </tr>\n",
       "    <tr>\n",
       "      <th>1</th>\n",
       "      <td>Wetpaint</td>\n",
       "      <td>BachelrWetpaint</td>\n",
       "    </tr>\n",
       "    <tr>\n",
       "      <th>2</th>\n",
       "      <td>Wetpaint</td>\n",
       "      <td>BachelrWetpaint</td>\n",
       "    </tr>\n",
       "    <tr>\n",
       "      <th>9</th>\n",
       "      <td>HostNine</td>\n",
       "      <td>Hostnine</td>\n",
       "    </tr>\n",
       "    <tr>\n",
       "      <th>11</th>\n",
       "      <td>Vetter Idea Management System</td>\n",
       "      <td>getvetter</td>\n",
       "    </tr>\n",
       "    <tr>\n",
       "      <th>12</th>\n",
       "      <td>ChatRandom</td>\n",
       "      <td>chatrandom</td>\n",
       "    </tr>\n",
       "    <tr>\n",
       "      <th>15</th>\n",
       "      <td>FriendFeed</td>\n",
       "      <td>friendfeed</td>\n",
       "    </tr>\n",
       "    <tr>\n",
       "      <th>19</th>\n",
       "      <td>The Adory</td>\n",
       "      <td>the_adory</td>\n",
       "    </tr>\n",
       "    <tr>\n",
       "      <th>20</th>\n",
       "      <td>Mobclix</td>\n",
       "      <td>mobclix</td>\n",
       "    </tr>\n",
       "    <tr>\n",
       "      <th>21</th>\n",
       "      <td>Fitbit</td>\n",
       "      <td>fitbit</td>\n",
       "    </tr>\n",
       "  </tbody>\n",
       "</table>\n",
       "</div>"
      ],
      "text/plain": [
       "                             name network_username\n",
       "0                        Wetpaint  BachelrWetpaint\n",
       "1                        Wetpaint  BachelrWetpaint\n",
       "2                        Wetpaint  BachelrWetpaint\n",
       "9                        HostNine         Hostnine\n",
       "11  Vetter Idea Management System        getvetter\n",
       "12                     ChatRandom       chatrandom\n",
       "15                     FriendFeed       friendfeed\n",
       "19                      The Adory        the_adory\n",
       "20                        Mobclix          mobclix\n",
       "21                         Fitbit           fitbit"
      ]
     },
     "execution_count": 45,
     "metadata": {},
     "output_type": "execute_result"
    }
   ],
   "source": [
    "# Отберем только значения столбца без пропусков\n",
    "comp_notna = company_and_rounds[company_and_rounds['network_username'].notna()]\n",
    "# Для удобства выведем только название компании и ник\n",
    "comp_notna[['name', 'network_username']].head(10)"
   ]
  },
  {
   "cell_type": "markdown",
   "metadata": {
    "id": "_7gjdrGOFcB2"
   },
   "source": [
    "Проанализируем, что даст объединение `people` и `company_rounds` по `network_username`, и наглядно визуализируем пересечение данных."
   ]
  },
  {
   "cell_type": "code",
   "execution_count": 46,
   "metadata": {},
   "outputs": [
    {
     "name": "stdout",
     "output_type": "stream",
     "text": [
      "Общих значений: 2199\n",
      "Уникальных ников сотрудников: 36222\n",
      "Уникальных названий компаний: 77372\n"
     ]
    }
   ],
   "source": [
    "# Получаем уникальные значения из каждого датафрейма\n",
    "people_usernames = set(people['network_username'].dropna())\n",
    "company_usernames = set(company_and_rounds['network_username'].dropna())\n",
    "# Анализируем пересечение\n",
    "intersection = people_usernames & company_usernames\n",
    "print(f\"Общих значений: {len(intersection)}\")\n",
    "print(f\"Уникальных ников сотрудников: {len(people_usernames - company_usernames)}\")\n",
    "print(f\"Уникальных названий компаний: {len(company_usernames - people_usernames)}\")"
   ]
  },
  {
   "cell_type": "markdown",
   "metadata": {},
   "source": [
    "Визуализация диаграммой Венна:"
   ]
  },
  {
   "cell_type": "code",
   "execution_count": 47,
   "metadata": {},
   "outputs": [
    {
     "data": {
      "image/png": "[encoded data removed]",
      "text/plain": [
       "<Figure size 720x504 with 1 Axes>"
      ]
     },
     "metadata": {},
     "output_type": "display_data"
    }
   ],
   "source": [
    "# Строим визуализацию\n",
    "plt.figure(figsize=(10, 7))\n",
    "venn2(\n",
    "    [people_usernames, company_usernames],\n",
    "    set_labels=('Ники сотрудников', 'Ники компаний'),\n",
    "    set_colors=('#1f77b4', '#ff7f0e'),\n",
    "    alpha=0.7\n",
    ")\n",
    "plt.title(\"Пересечение network_username между people_df и company_rounds\")\n",
    "plt.show()"
   ]
  },
  {
   "cell_type": "markdown",
   "metadata": {},
   "source": [
    "Из визуализации видно, что совпадения есть, но их очень мало. Такие совпадения могут быть ошибкой, например, ник сотрудника совпадает с ником компании, или это просто ошибка или опечатка в заполнении данных. Соединение датасетов по этому полю приведет к некорректным сопоставлениям, а также не даст новой информации, так как поля имеют разную сущность."
   ]
  },
  {
   "cell_type": "markdown",
   "metadata": {
    "id": "EHcODomVrJg1"
   },
   "source": [
    "\n",
    "### 2.4. Проблемный датасет и причина возникновения пропусков\n",
    "\n",
    "Во время собственного анализа данных у заказчика больше всего вопросов возникло к датасету `company_and_rounds.csv`. В нём много пропусков как раз в информации о раундах, которая заказчику важна.\n",
    "\n",
    "- Приведем данные в вид, который позволит в дальнейшем проводить анализ в разрезе отдельных компаний. \n",
    "\n",
    "По гипотезе заказчика данные по компаниям из этой таблицы раньше хранились иначе, более удобным для исследования образом.\n",
    "\n",
    "- Максимальным образом сохраняя данные, сохранив их связность и исключив возможные возникающие при этом ошибки, подготовим данные так, чтобы удобно было отобрать компании по параметрам и рассчитать показатели из расчёта на одну компанию без промежуточных агрегаций."
   ]
  },
  {
   "cell_type": "markdown",
   "metadata": {
    "id": "oSk7xqu_FbaN"
   },
   "source": [
    "В датафрейме `company_and_rounds` можно заметить несколько дублирующихся столбцов:\n",
    "- `company ID` и `company id`(для удобства были переименованы в `company_id_1` и `company_id_2`) содержат информацию об идентификаторе компании.\n",
    "- `funding_total` и `raised_amount`, несмотря на разные названия, оба содержат информацию о сумме финансирования.\n",
    "Это может говорить о том, что сначала данные хранили в одном столбце, а спустя время по какой-то причине начали хранить в другом. Проверим, так ли это. Для этого выведем количество совпадений для данных столбцов."
   ]
  },
  {
   "cell_type": "code",
   "execution_count": 48,
   "metadata": {},
   "outputs": [
    {
     "name": "stdout",
     "output_type": "stream",
     "text": [
      "<class 'pandas.core.frame.DataFrame'>\n",
      "RangeIndex: 217774 entries, 0 to 217773\n",
      "Data columns (total 4 columns):\n",
      " #   Column         Non-Null Count   Dtype  \n",
      "---  ------         --------------   -----  \n",
      " 0   company_id_1   217472 non-null  float64\n",
      " 1   company_id_2   52928 non-null   float64\n",
      " 2   funding_total  217472 non-null  float64\n",
      " 3   raised_amount  52928 non-null   float64\n",
      "dtypes: float64(4)\n",
      "memory usage: 6.6 MB\n"
     ]
    }
   ],
   "source": [
    "# Выведем информацию о датасете\n",
    "company_and_rounds[['company_id_1', 'company_id_2', 'funding_total', 'raised_amount']].info()"
   ]
  },
  {
   "cell_type": "code",
   "execution_count": 49,
   "metadata": {},
   "outputs": [
    {
     "data": {
      "text/plain": [
       "52626"
      ]
     },
     "execution_count": 49,
     "metadata": {},
     "output_type": "execute_result"
    }
   ],
   "source": [
    "# Выведем сумму совпадений для company_id_1 и company_id_2\n",
    "(company_and_rounds['company_id_1'] == company_and_rounds['company_id_2']).sum()"
   ]
  },
  {
   "cell_type": "code",
   "execution_count": 50,
   "metadata": {},
   "outputs": [
    {
     "data": {
      "text/plain": [
       "22035"
      ]
     },
     "execution_count": 50,
     "metadata": {},
     "output_type": "execute_result"
    }
   ],
   "source": [
    "# Выведем сумму совпадений для funding_total и raised_amount\n",
    "(company_and_rounds['funding_total'] == company_and_rounds['raised_amount']).sum()"
   ]
  },
  {
   "cell_type": "markdown",
   "metadata": {},
   "source": [
    "Для `company_id_1` и `company_id_2` количество совпадений равно количеству значений в столбце `company_id_2`. Из этого можно сделать вывод, что эти столбцы дублируют друг друга. Значит, можно заполнить часть пропусков в `company_id_1` с помощью `company_id_2`. Для `funding_total` и `raised_amount` совпадений меньше, чем в любом из столбцов, значит, эти данные не дублируются полностью, и заполнить один столбец другим не получится."
   ]
  },
  {
   "cell_type": "code",
   "execution_count": 51,
   "metadata": {},
   "outputs": [],
   "source": [
    "# Заполним пропуски в company_id_1\n",
    "company_and_rounds['company_id_1'] = company_and_rounds['company_id_1'].fillna(company_and_rounds['company_id_2'])"
   ]
  },
  {
   "cell_type": "code",
   "execution_count": 52,
   "metadata": {},
   "outputs": [
    {
     "data": {
      "text/plain": [
       "company_id_1                0\n",
       "milestones                302\n",
       "funding_rounds            302\n",
       "investment_rounds         302\n",
       "funding_total             302\n",
       "status                    302\n",
       "name                      303\n",
       "domain                  70615\n",
       "category_code           73888\n",
       "founded_at             107818\n",
       "country_code           109167\n",
       "network_username       122240\n",
       "funding_round_id       164846\n",
       "is_last_round          164846\n",
       "company_id_2           164846\n",
       "is_first_round         164846\n",
       "funding_round_type     164846\n",
       "raised_amount          164846\n",
       "pre_money_valuation    164846\n",
       "participants           164846\n",
       "year                   165094\n",
       "funded_at              165094\n",
       "closed_at              214325\n",
       "dtype: int64"
      ]
     },
     "execution_count": 52,
     "metadata": {},
     "output_type": "execute_result"
    }
   ],
   "source": [
    "# Проверяем количество пропусков\n",
    "company_and_rounds.isna().sum().sort_values()"
   ]
  },
  {
   "cell_type": "markdown",
   "metadata": {},
   "source": [
    "Теперь в  столбце `company_id_1` нет пропусков. Удалим дублирующийся столбец."
   ]
  },
  {
   "cell_type": "code",
   "execution_count": 53,
   "metadata": {},
   "outputs": [],
   "source": [
    "# Удалим дублирущийся столбец company_id_2\n",
    "company_and_rounds = company_and_rounds.drop('company_id_2', axis = 1)"
   ]
  },
  {
   "cell_type": "code",
   "execution_count": 54,
   "metadata": {},
   "outputs": [
    {
     "data": {
      "text/plain": [
       "Index(['company_id_1', 'name', 'category_code', 'status', 'founded_at',\n",
       "       'closed_at', 'domain', 'network_username', 'country_code',\n",
       "       'investment_rounds', 'funding_rounds', 'funding_total', 'milestones',\n",
       "       'funding_round_id', 'funded_at', 'funding_round_type', 'raised_amount',\n",
       "       'pre_money_valuation', 'participants', 'is_first_round',\n",
       "       'is_last_round', 'year'],\n",
       "      dtype='object')"
      ]
     },
     "execution_count": 54,
     "metadata": {},
     "output_type": "execute_result"
    }
   ],
   "source": [
    "company_and_rounds.columns"
   ]
  },
  {
   "cell_type": "markdown",
   "metadata": {},
   "source": [
    "Теперь приведем датафрейм `company_and_rounds` в удобный для дальнейшего анализа вид. Из структуры датафрейма можно сделать вывод, что данная таблица была получена из двух меньших таблиц, одна из них хранила информацию о компаниях, другая о раундах. \n",
    "\n",
    "Так как нам необходима информация для дальнейшего анализа в разрезе компаний, сделаем из датафрейма два меньших датафрейма:\n",
    "- Датафрейм `company` с информацией о компаниях и со следующими столбцами:\n",
    "   - `company_id_1`\n",
    "   - `name` \n",
    "   - `category_code` \n",
    "   - `status`\n",
    "   - `founded_at` \n",
    "   - `closed_at`  \n",
    "   - `domain`  \n",
    "   - `network_username` \n",
    "   - `country_code`  \n",
    "   - `investment_rounds` \n",
    "   - `funding_rounds` \n",
    "   - `funding_total` \n",
    "   - `milestones`  \n",
    "   \n",
    "- Датафрейм `rounds` c информацией о раундах и со следующими столбцами:\n",
    "   - `company_id_1`\n",
    "   - `funding_round_id`\n",
    "   - `funded_at`\n",
    "   - `funding_round_type`\n",
    "   - `raised_amount`\n",
    "   - `pre_money_valuation`\n",
    "   - `participants`\n",
    "   - `is_first_round`\n",
    "   - `is_last_round`"
   ]
  },
  {
   "cell_type": "code",
   "execution_count": 55,
   "metadata": {},
   "outputs": [],
   "source": [
    "# Создадим датафрейм company\n",
    "company = company_and_rounds[['company_id_1', 'name', 'category_code', 'status', 'founded_at',\n",
    "       'closed_at', 'domain', 'network_username', 'country_code',\n",
    "       'investment_rounds', 'funding_rounds', 'funding_total', 'milestones']]\n",
    "# Создадим датафрейм rounds\n",
    "rounds = company_and_rounds[['company_id_1', 'funding_round_id', 'funded_at', 'funding_round_type', 'raised_amount',\n",
    "       'pre_money_valuation', 'participants', 'is_first_round',\n",
    "       'is_last_round', 'year']]"
   ]
  },
  {
   "cell_type": "markdown",
   "metadata": {},
   "source": [
    "Теперь удалим дубликаты из датафреймов"
   ]
  },
  {
   "cell_type": "code",
   "execution_count": 56,
   "metadata": {},
   "outputs": [
    {
     "data": {
      "text/plain": [
       "20989"
      ]
     },
     "execution_count": 56,
     "metadata": {},
     "output_type": "execute_result"
    }
   ],
   "source": [
    "# Посчитаем сумму дубликатов в company\n",
    "company.duplicated().sum()"
   ]
  },
  {
   "cell_type": "code",
   "execution_count": 57,
   "metadata": {},
   "outputs": [],
   "source": [
    "# Удалим дубликаты\n",
    "company = company.drop_duplicates()"
   ]
  },
  {
   "cell_type": "code",
   "execution_count": 58,
   "metadata": {},
   "outputs": [
    {
     "name": "stdout",
     "output_type": "stream",
     "text": [
      "<class 'pandas.core.frame.DataFrame'>\n",
      "Index: 196785 entries, 0 to 217773\n",
      "Data columns (total 13 columns):\n",
      " #   Column             Non-Null Count   Dtype         \n",
      "---  ------             --------------   -----         \n",
      " 0   company_id_1       196785 non-null  float64       \n",
      " 1   name               196552 non-null  object        \n",
      " 2   category_code      123186 non-null  object        \n",
      " 3   status             196553 non-null  object        \n",
      " 4   founded_at         91227 non-null   datetime64[ns]\n",
      " 5   closed_at          2620 non-null    datetime64[ns]\n",
      " 6   domain             126545 non-null  object        \n",
      " 7   network_username   80591 non-null   object        \n",
      " 8   country_code       87990 non-null   object        \n",
      " 9   investment_rounds  196553 non-null  float64       \n",
      " 10  funding_rounds     196553 non-null  float64       \n",
      " 11  funding_total      196553 non-null  float64       \n",
      " 12  milestones         196553 non-null  float64       \n",
      "dtypes: datetime64[ns](2), float64(5), object(6)\n",
      "memory usage: 21.0+ MB\n"
     ]
    }
   ],
   "source": [
    "company.info()"
   ]
  },
  {
   "cell_type": "code",
   "execution_count": 59,
   "metadata": {},
   "outputs": [
    {
     "data": {
      "text/plain": [
       "0"
      ]
     },
     "execution_count": 59,
     "metadata": {},
     "output_type": "execute_result"
    }
   ],
   "source": [
    "# Посчитаем дубликаты в rounds\n",
    "rounds.duplicated().sum()"
   ]
  },
  {
   "cell_type": "markdown",
   "metadata": {},
   "source": [
    "**Промежуточные выводы**\n",
    "\n",
    "Во время предварительного исследования было выполнено следующее:\n",
    "1. На основе датафрейма `company_and_rounds` были построены сводная таблица и график и получены следующие выводы:\n",
    "   - Типичный размер собранных в рамках одного раунда средств был максимальным в 2005 году и составил 5.5 миллионов.\n",
    "   - В 2013 году было самое высокое количество раундов (11072), однако размер средств был одним из самых низких - 1.2 миллиона.\n",
    "2. Размер компании не влияет на полноту данных об образовании сотрудников. Больше всего пропусков в данных у компаний с 6-13 сотрудниками(52%), меньше всего у компаний с более, чем 14 сотрудниками(39%). Для 1 и 2-5 сотрудников значения примерно одинаковы.\n",
    "3. Датафреймы `people` и `company_and_rounds` невозможно объединить по столбцу `network_username`, поскольку в этих столбцах в разных датафреймах хранится разная по смыслу информация.\n",
    "4. В датафрейме `company_and_rounds` были заполнены пропуски в столбце `company_id_1` с помощью дублирующегос столбцов. Дублирующийся столбец был удален.\n",
    "5. Датафрейм `company_and_rounds` был разделен на датафреймы `company` и `rounds` для дальнейшего анализа. В датафрейме `company` было обранужено и удалено 20989 дубликатов. "
   ]
  },
  {
   "cell_type": "markdown",
   "metadata": {
    "id": "bmVYhphNrJg2"
   },
   "source": [
    "\n",
    "## 3. Исследовательский анализ объединённых таблиц\n",
    "\n"
   ]
  },
  {
   "cell_type": "markdown",
   "metadata": {
    "id": "3Di6tCT3rJg2"
   },
   "source": [
    "\n",
    "### 3.1. Объединение данных\n"
   ]
  },
  {
   "cell_type": "markdown",
   "metadata": {
    "id": "kuV1b5MXFg3_"
   },
   "source": [
    "Заказчика прежде всего интересуют те компании, которые меняли или готовы менять владельцев. Получение инвестиций или финансирования, по мнению заказчика, означает интерес к покупке или продаже компании.\n",
    "\n",
    "Для ответа на вопросы заказчика подготовим датафрейм `company` и отберем только данные по указанным параметрам: компании, у которых указаны значения `funding_rounds` или `investment_rounds` больше нуля, или те, у которых в колонке `status` указано `acquired`"
   ]
  },
  {
   "cell_type": "code",
   "execution_count": 60,
   "metadata": {
    "id": "93v3fEX5FgtP"
   },
   "outputs": [],
   "source": [
    "# Условия для фильтрации\n",
    "conditions = ((company['funding_rounds']>0) | (company['investment_rounds']>0) | (company['status'] == 'acquired'))\n",
    "# Создаем датафрейм с выполненными условиями \n",
    "company_filtred = company[conditions].copy()"
   ]
  },
  {
   "cell_type": "code",
   "execution_count": 61,
   "metadata": {},
   "outputs": [
    {
     "name": "stdout",
     "output_type": "stream",
     "text": [
      "<class 'pandas.core.frame.DataFrame'>\n",
      "Index: 40747 entries, 0 to 217469\n",
      "Data columns (total 13 columns):\n",
      " #   Column             Non-Null Count  Dtype         \n",
      "---  ------             --------------  -----         \n",
      " 0   company_id_1       40747 non-null  float64       \n",
      " 1   name               40747 non-null  object        \n",
      " 2   category_code      35315 non-null  object        \n",
      " 3   status             40747 non-null  object        \n",
      " 4   founded_at         27807 non-null  datetime64[ns]\n",
      " 5   closed_at          2128 non-null   datetime64[ns]\n",
      " 6   domain             35754 non-null  object        \n",
      " 7   network_username   20850 non-null  object        \n",
      " 8   country_code       34742 non-null  object        \n",
      " 9   investment_rounds  40747 non-null  float64       \n",
      " 10  funding_rounds     40747 non-null  float64       \n",
      " 11  funding_total      40747 non-null  float64       \n",
      " 12  milestones         40747 non-null  float64       \n",
      "dtypes: datetime64[ns](2), float64(5), object(6)\n",
      "memory usage: 4.4+ MB\n"
     ]
    }
   ],
   "source": [
    "company_filtred.info()"
   ]
  },
  {
   "cell_type": "markdown",
   "metadata": {},
   "source": [
    "Мы получили датафрейм с 40747 компаниями, отобранными по заданным параметрам."
   ]
  },
  {
   "cell_type": "markdown",
   "metadata": {
    "id": "DFHINkV3rJg2"
   },
   "source": [
    "\n",
    "### 3.2. Анализ выбросов\n",
    "\n",
    "Заказчика интересует обычный для рассматриваемого периода размер средств, который предоставлялся компаниям.\n",
    "\n",
    "- По предобработанному столбцу `funding_total` оценим, какой размер общего финансирования для одной компании будет типичным, а какой — выбивающимся.\n"
   ]
  },
  {
   "cell_type": "markdown",
   "metadata": {},
   "source": [
    "Для удобства работы со столбцом `funding_total`, создадим дополнительный столбец `funding_total_m`, который будет содержать значение в миллионах долларов."
   ]
  },
  {
   "cell_type": "code",
   "execution_count": 62,
   "metadata": {},
   "outputs": [],
   "source": [
    "# Создаем столбец funding_total_m\n",
    "company_filtred['funding_total_m'] = company_filtred['funding_total'] / 1000000"
   ]
  },
  {
   "cell_type": "code",
   "execution_count": 63,
   "metadata": {
    "id": "8jm75fKXrJg2",
    "vscode": {
     "languageId": "plaintext"
    }
   },
   "outputs": [
    {
     "data": {
      "text/plain": [
       "count    40747.00000\n",
       "mean        10.13561\n",
       "std         56.46436\n",
       "min          0.00000\n",
       "25%          0.00000\n",
       "50%          0.60000\n",
       "75%          5.65065\n",
       "max       5700.00000\n",
       "Name: funding_total_m, dtype: float64"
      ]
     },
     "execution_count": 63,
     "metadata": {},
     "output_type": "execute_result"
    }
   ],
   "source": [
    "# Изучим распределение значений в столбце\n",
    "company_filtred['funding_total_m'].describe()"
   ]
  },
  {
   "cell_type": "markdown",
   "metadata": {},
   "source": [
    "Из полученных данных можно сделать вывод, что в данных присутствуют выбросы.\n",
    "- Среднее значение равно 10.1 млн долларов и сильно отличается от медианы, которая равна 0.6 млн, скорее всего оно завышено выбросами.\n",
    "- 25% компаний не получили финансирования, 75% компаний получили меньше 5.65 млн.\n",
    "- Максимальное значение равно 5700 млн долларов, и это явный выброс.\n",
    "- Стандартное отклонение равно 56 млн, что говорит о высоком разбросе значений.\n",
    "\n",
    "Построим гистограмму распределения значений и диаграмму размаха."
   ]
  },
  {
   "cell_type": "code",
   "execution_count": 64,
   "metadata": {},
   "outputs": [
    {
     "data": {
      "image/png": "[encoded data removed]",
      "text/plain": [
       "<Figure size 720x504 with 1 Axes>"
      ]
     },
     "metadata": {
      "needs_background": "light"
     },
     "output_type": "display_data"
    }
   ],
   "source": [
    "# Построим гистограмму\n",
    "plt.figure(figsize=(10, 7))\n",
    "\n",
    "company_filtred['funding_total_m'].plot(kind = 'hist', \n",
    "                                       bins = 50,\n",
    "                                       alpha = 0.75,\n",
    "                                       edgecolor = 'k',\n",
    "                                       rot = 0)\n",
    "plt.title('Распределение суммы финансирования среди стартапов')\n",
    "plt.xlabel('Сумма финансирования(в млн долларов США)')\n",
    "plt.ylabel('Частота')\n",
    "plt.grid()\n",
    "plt.show()"
   ]
  },
  {
   "cell_type": "code",
   "execution_count": 65,
   "metadata": {},
   "outputs": [
    {
     "data": {
      "image/png": "[encoded data removed]",
      "text/plain": [
       "<Figure size 504x144 with 1 Axes>"
      ]
     },
     "metadata": {
      "needs_background": "light"
     },
     "output_type": "display_data"
    }
   ],
   "source": [
    "# Строим диаграмму размаха значений \n",
    "plt.figure(figsize=(7, 2))\n",
    "\n",
    "\n",
    "company_filtred.boxplot(column='funding_total_m', vert=False)\n",
    "\n",
    "plt.title('Распределение суммы финансирования среди стартапов')\n",
    "plt.xlabel('Сумма финансирования(в млн долларов США)')\n",
    "\n",
    "plt.show()"
   ]
  },
  {
   "cell_type": "markdown",
   "metadata": {},
   "source": [
    "Так как заказчика интересует типичный размер финансирования, построим гистограмму и диаграмму размаха, исключив из данных стартапы, не получавшие финансирование. Также ограничим значение суммы финансирования до 50 млн, поскольку график, включающий все выбросы и аномальные значения неинформативен, ведь большинство значений сливаются в одну линию у нуля."
   ]
  },
  {
   "cell_type": "code",
   "execution_count": 66,
   "metadata": {},
   "outputs": [
    {
     "data": {
      "image/png": "[encoded data removed]",
      "text/plain": [
       "<Figure size 864x432 with 1 Axes>"
      ]
     },
     "metadata": {
      "needs_background": "light"
     },
     "output_type": "display_data"
    }
   ],
   "source": [
    "# Фильтрация данных\n",
    "funded = company_filtred[company_filtred['funding_total_m'] > 0]['funding_total_m']\n",
    "\n",
    "# Настройка графика\n",
    "plt.figure(figsize=(12, 6))\n",
    "plt.hist(funded, bins=50, range=(0, 50), color='skyblue', edgecolor='black')\n",
    "plt.title('Распределение финансирования (компании с финансированием > 0)')\n",
    "plt.xlabel('Сумма финансирования (млн долларов США)')\n",
    "plt.ylabel('Количество компаний')\n",
    "plt.grid()\n",
    "plt.show()"
   ]
  },
  {
   "cell_type": "markdown",
   "metadata": {},
   "source": [
    "Построим диаграмму размаха, исключая выбросы, для читаемости графика."
   ]
  },
  {
   "cell_type": "code",
   "execution_count": 67,
   "metadata": {},
   "outputs": [
    {
     "data": {
      "image/png": "[encoded data removed]",
      "text/plain": [
       "<Figure size 864x144 with 1 Axes>"
      ]
     },
     "metadata": {
      "needs_background": "light"
     },
     "output_type": "display_data"
    }
   ],
   "source": [
    "# Строим диаграмму размаха значений \n",
    "plt.figure(figsize=(12, 2))\n",
    "plt.boxplot(funded, vert=False, showfliers=False, widths=0.5)\n",
    "plt.title('Типичный диапазон финансирования (исключены выбросы)')\n",
    "plt.xlabel('Сумма финансирования (млн долларов США)')\n",
    "plt.yticks([])\n",
    "plt.grid(axis='x')\n",
    "plt.show()"
   ]
  },
  {
   "cell_type": "markdown",
   "metadata": {},
   "source": [
    "Исходя из визуализаций, можно сделать вывод, что пик распределения приходится на левую сторону, а справа присутствует длинный \"хвост\", соответственно, чаще всего финансирование компаний составляет 0-0.1 млн долларов, затем наблюдается резкий спад значений. Медиана для ненулевых значений финансирования равна примерно 2.5 млн долларов."
   ]
  },
  {
   "cell_type": "markdown",
   "metadata": {
    "id": "JqkRAQrIrJg2"
   },
   "source": [
    "\n",
    "### 3.3. Куплены забесплатно?\n",
    "\n"
   ]
  },
  {
   "cell_type": "markdown",
   "metadata": {
    "id": "wJHXCBwwrJg2",
    "vscode": {
     "languageId": "plaintext"
    }
   },
   "source": [
    "Для анализа компаний, купленных за 0 или 1 доллар, необходимо присоединить к датафрейму `company_filtred` датафрейм `acquisition`. Слева присоединим по полю `company_id_1`, справа по полю `acquired_company_id`. Будем использовать тип соединения `inner`. В результате получим датафрейм со всеми компаниями, которые были куплены.\n",
    "\n",
    "Далее отфильтруем только те компании, у которых `price_amount` равно 0 или 1, а `funding_total` больше 0."
   ]
  },
  {
   "cell_type": "code",
   "execution_count": 68,
   "metadata": {},
   "outputs": [],
   "source": [
    "# Соединим два датафрейма\n",
    "company_acquisition = company_filtred.merge(acquisition, left_on = 'company_id_1', right_on = 'acquired_company_id')"
   ]
  },
  {
   "cell_type": "code",
   "execution_count": 69,
   "metadata": {},
   "outputs": [],
   "source": [
    "# Отфильтруем полученный датафрейм\n",
    "condition = (((company_acquisition['price_amount'] == 0) | (company_acquisition['price_amount'] == 1))\n",
    "                               & (company_acquisition['funding_total'] > 0))\n",
    "company_acquisition_filtred = company_acquisition[condition].copy()"
   ]
  },
  {
   "cell_type": "markdown",
   "metadata": {},
   "source": [
    "Исследуем распределение суммы финансирования для заданных компаний."
   ]
  },
  {
   "cell_type": "code",
   "execution_count": 70,
   "metadata": {},
   "outputs": [
    {
     "data": {
      "text/plain": [
       "count    1618.000000\n",
       "mean       18.152962\n",
       "std       144.503027\n",
       "min         0.003750\n",
       "25%         2.000000\n",
       "50%         6.000000\n",
       "75%        15.500000\n",
       "max      5700.000000\n",
       "Name: funding_total_m, dtype: float64"
      ]
     },
     "execution_count": 70,
     "metadata": {},
     "output_type": "execute_result"
    }
   ],
   "source": [
    "# Исследуем распределение суммы финансирования\n",
    "company_acquisition_filtred['funding_total_m'].describe()"
   ]
  },
  {
   "cell_type": "markdown",
   "metadata": {},
   "source": [
    "Всего компаний, купленных за 0 или 1 доллар, и при этом получавших финансирование, 1618. \n",
    "- Медианное значение финансирования для таких компаний 6 млн долларов, среднее значение больше медианы в 3 раза и равно 18.1 млн. Это может означать, что в данных присутствуют выбросы. \n",
    "- Максимальное значение равно 5700 млн долларов, что также говорит о выбросах.\n",
    "- Стандартное отклонение высокое и равно 144 млн, что говорит о большом разбросе данных.\n",
    "\n",
    "Рассчитаем аналитически верхнюю и нижнюю границу выбросов для столбца `funding_total_m` и укажем, каким процентилям границы соответствуют. Для этого вычислим квартили и IQR, определим границы выбросов и процентили этих границ."
   ]
  },
  {
   "cell_type": "code",
   "execution_count": 71,
   "metadata": {},
   "outputs": [
    {
     "name": "stdout",
     "output_type": "stream",
     "text": [
      "Нижняя граница выбросов равна 0 млн долларов США, ее процентиль равен 0.0%\n",
      "Верхняя граница выбросов равна 35.75 млн долларов США, ее процентиль равен 9.085%\n"
     ]
    }
   ],
   "source": [
    "# Вычисляем квартили и IQR\n",
    "Q1 = company_acquisition_filtred['funding_total_m'].quantile(0.25)\n",
    "Q3 = company_acquisition_filtred['funding_total_m'].quantile(0.75)\n",
    "IQR = Q3 - Q1\n",
    "\n",
    "# Границы выбросов по правилу 1.5*IQR\n",
    "lower_bound = max(0, Q1 - 1.5 * IQR)  # Не может быть отрицательным\n",
    "upper_bound = Q3 + 1.5 * IQR\n",
    "\n",
    "# Определяем процентили границ\n",
    "lower_percentile = (company_acquisition_filtred['funding_total_m'] < lower_bound).mean() * 100\n",
    "upper_percentile = (company_acquisition_filtred['funding_total_m'] > upper_bound).mean() * 100\n",
    "\n",
    "print(f'Нижняя граница выбросов равна {lower_bound} млн долларов США, ее процентиль равен {lower_percentile}%')\n",
    "print(f'Верхняя граница выбросов равна {upper_bound} млн долларов США, ее процентиль равен {round(upper_percentile, 3)}%')"
   ]
  },
  {
   "cell_type": "markdown",
   "metadata": {
    "id": "9IDTHfYQFhuX"
   },
   "source": [
    "- Нижняя граница выбросов равна 0 млн долларов США, ее процентиль равен 0.0%\n",
    "- Верхняя граница выбросов равна 35.75 млн долларов США, ее процентиль равен 9.085%"
   ]
  },
  {
   "cell_type": "markdown",
   "metadata": {},
   "source": [
    "Покупки стартапов за 0 или 1 доллар могут быть связаны с несколькими причинами:\n",
    "- Покупка провального стартапа ради команды за символичесукю сумму. Это могут быть компании с минимальным финансированием.\n",
    "- Перевод активов между юрлицами за минимальную сумму(1 доллар).\n",
    "- Спасение компании от банкротства и покупка ее долгов за 0 долларов. Это могут быть  компаниии с максимальным финансированием, которые не оправдали ожиданий инвесторов."
   ]
  },
  {
   "cell_type": "markdown",
   "metadata": {
    "id": "mEiWpROjrJg2"
   },
   "source": [
    "\n",
    "### 3.4. Цены стартапов по категориям\n",
    "\n",
    "Категории стартапов с типично высокими ценами покупки стартапов и значительным разбросом цен могут быть привлекательными для крупных инвесторов, которые готовы к высоким рискам ради потенциально больших доходов. Среди категорий стартапов выделим категории стартапов, характеризующиеся:\n",
    "\n",
    "- типично высокими ценами;\n",
    "- наибольшим разбросом цен за стартап.\n",
    "\n",
    "\n",
    "Для того, чтобы найти категории стартапов с типично высокими ценами и наибольшим разбросом цен:\n",
    "- Сгруппируем стартапы по категориям, для каждой категории найдем максимальную, минимальную и медианную цену покупки стартапа.\n",
    "- Найдем значение разброса цен для каждой категории стартапа.\n",
    "- Исключим категории с нулевым разбросом цен и нулевой медианной ценой, так как нас интересуют самые высокие значения этих параметров."
   ]
  },
  {
   "cell_type": "code",
   "execution_count": 72,
   "metadata": {
    "id": "jQ09dYUWrJg2",
    "vscode": {
     "languageId": "plaintext"
    }
   },
   "outputs": [],
   "source": [
    "# Сгруппируем данные по категориям стартапов, найдем максимум, минимум и медиану цены покупки стартапа\n",
    "stats = company_acquisition.groupby('category_code').agg(minimum = ('price_amount', 'min'), maximum = ('price_amount', 'max'),\n",
    "                                                         median = ('price_amount', 'median')).reset_index().sort_values(ascending = False, by = 'median')"
   ]
  },
  {
   "cell_type": "code",
   "execution_count": 73,
   "metadata": {
    "id": "eF1aULm5FjfY"
   },
   "outputs": [
    {
     "data": {
      "text/html": [
       "<div>\n",
       "<style scoped>\n",
       "    .dataframe tbody tr th:only-of-type {\n",
       "        vertical-align: middle;\n",
       "    }\n",
       "\n",
       "    .dataframe tbody tr th {\n",
       "        vertical-align: top;\n",
       "    }\n",
       "\n",
       "    .dataframe thead th {\n",
       "        text-align: right;\n",
       "    }\n",
       "</style>\n",
       "<table border=\"1\" class=\"dataframe\">\n",
       "  <thead>\n",
       "    <tr style=\"text-align: right;\">\n",
       "      <th></th>\n",
       "      <th>category_code</th>\n",
       "      <th>minimum</th>\n",
       "      <th>maximum</th>\n",
       "      <th>median</th>\n",
       "      <th>price_range</th>\n",
       "    </tr>\n",
       "  </thead>\n",
       "  <tbody>\n",
       "    <tr>\n",
       "      <th>18</th>\n",
       "      <td>manufacturing</td>\n",
       "      <td>0</td>\n",
       "      <td>4050000000</td>\n",
       "      <td>72000000.0</td>\n",
       "      <td>4050000000</td>\n",
       "    </tr>\n",
       "    <tr>\n",
       "      <th>30</th>\n",
       "      <td>real_estate</td>\n",
       "      <td>0</td>\n",
       "      <td>6850000000</td>\n",
       "      <td>50000000.0</td>\n",
       "      <td>6850000000</td>\n",
       "    </tr>\n",
       "    <tr>\n",
       "      <th>2</th>\n",
       "      <td>automotive</td>\n",
       "      <td>0</td>\n",
       "      <td>5200000000</td>\n",
       "      <td>43000000.0</td>\n",
       "      <td>5200000000</td>\n",
       "    </tr>\n",
       "    <tr>\n",
       "      <th>3</th>\n",
       "      <td>biotech</td>\n",
       "      <td>0</td>\n",
       "      <td>20000000000</td>\n",
       "      <td>13200000.0</td>\n",
       "      <td>20000000000</td>\n",
       "    </tr>\n",
       "    <tr>\n",
       "      <th>15</th>\n",
       "      <td>hospitality</td>\n",
       "      <td>0</td>\n",
       "      <td>2170000000</td>\n",
       "      <td>12500000.0</td>\n",
       "      <td>2170000000</td>\n",
       "    </tr>\n",
       "    <tr>\n",
       "      <th>11</th>\n",
       "      <td>finance</td>\n",
       "      <td>0</td>\n",
       "      <td>4400000000</td>\n",
       "      <td>600000.0</td>\n",
       "      <td>4400000000</td>\n",
       "    </tr>\n",
       "  </tbody>\n",
       "</table>\n",
       "</div>"
      ],
      "text/plain": [
       "    category_code  minimum      maximum      median  price_range\n",
       "18  manufacturing        0   4050000000  72000000.0   4050000000\n",
       "30    real_estate        0   6850000000  50000000.0   6850000000\n",
       "2      automotive        0   5200000000  43000000.0   5200000000\n",
       "3         biotech        0  20000000000  13200000.0  20000000000\n",
       "15    hospitality        0   2170000000  12500000.0   2170000000\n",
       "11        finance        0   4400000000    600000.0   4400000000"
      ]
     },
     "execution_count": 73,
     "metadata": {},
     "output_type": "execute_result"
    }
   ],
   "source": [
    "# Найдем значение разброса цен\n",
    "stats['price_range'] = stats['maximum'] - stats['minimum']\n",
    "# Отфильтруем полученную таблицу, убрав нулевые значения для median и price_range\n",
    "filtered_stats = stats[\n",
    "    (stats['median'] > 0) & \n",
    "    (stats['price_range'] > 0)\n",
    "].sort_values(\n",
    "    by='median', \n",
    "    ascending=False\n",
    ")\n",
    "\n",
    "# Выводим результат\n",
    "filtered_stats"
   ]
  },
  {
   "cell_type": "markdown",
   "metadata": {},
   "source": [
    "Из запроса заказчика можно сделать вывод, что в первую очередь его интересует типичная цена продажи стартапа, поэтому сортировку провели именно по ней. В отфильтрованной таблице осталось 6 значений, которые в целом уже являются  топом, однако можно отметить, что типичная стоимость первых трех категорий стартапов значительно выше, чем стоимость последних трех категорий. Но также отметим, что для четвертой в списке категории разброс цен самый большой из всех представленных, и, поскольку заказчика также интересует этот параметр, четвертая категория тоже будет включена в топ."
   ]
  },
  {
   "cell_type": "code",
   "execution_count": 74,
   "metadata": {},
   "outputs": [
    {
     "data": {
      "text/html": [
       "<div>\n",
       "<style scoped>\n",
       "    .dataframe tbody tr th:only-of-type {\n",
       "        vertical-align: middle;\n",
       "    }\n",
       "\n",
       "    .dataframe tbody tr th {\n",
       "        vertical-align: top;\n",
       "    }\n",
       "\n",
       "    .dataframe thead th {\n",
       "        text-align: right;\n",
       "    }\n",
       "</style>\n",
       "<table border=\"1\" class=\"dataframe\">\n",
       "  <thead>\n",
       "    <tr style=\"text-align: right;\">\n",
       "      <th></th>\n",
       "      <th>category_code</th>\n",
       "      <th>minimum</th>\n",
       "      <th>maximum</th>\n",
       "      <th>median</th>\n",
       "      <th>price_range</th>\n",
       "    </tr>\n",
       "  </thead>\n",
       "  <tbody>\n",
       "    <tr>\n",
       "      <th>0</th>\n",
       "      <td>manufacturing</td>\n",
       "      <td>0</td>\n",
       "      <td>4050000000</td>\n",
       "      <td>72000000.0</td>\n",
       "      <td>4050000000</td>\n",
       "    </tr>\n",
       "    <tr>\n",
       "      <th>1</th>\n",
       "      <td>real_estate</td>\n",
       "      <td>0</td>\n",
       "      <td>6850000000</td>\n",
       "      <td>50000000.0</td>\n",
       "      <td>6850000000</td>\n",
       "    </tr>\n",
       "    <tr>\n",
       "      <th>2</th>\n",
       "      <td>automotive</td>\n",
       "      <td>0</td>\n",
       "      <td>5200000000</td>\n",
       "      <td>43000000.0</td>\n",
       "      <td>5200000000</td>\n",
       "    </tr>\n",
       "    <tr>\n",
       "      <th>3</th>\n",
       "      <td>biotech</td>\n",
       "      <td>0</td>\n",
       "      <td>20000000000</td>\n",
       "      <td>13200000.0</td>\n",
       "      <td>20000000000</td>\n",
       "    </tr>\n",
       "  </tbody>\n",
       "</table>\n",
       "</div>"
      ],
      "text/plain": [
       "   category_code  minimum      maximum      median  price_range\n",
       "0  manufacturing        0   4050000000  72000000.0   4050000000\n",
       "1    real_estate        0   6850000000  50000000.0   6850000000\n",
       "2     automotive        0   5200000000  43000000.0   5200000000\n",
       "3        biotech        0  20000000000  13200000.0  20000000000"
      ]
     },
     "execution_count": 74,
     "metadata": {},
     "output_type": "execute_result"
    }
   ],
   "source": [
    "# Топ-4 категории стартапов с типично высокими ценами покупки и наибольшим разбросом цен \n",
    "filtered_stats.reset_index(drop = True).head(4)"
   ]
  },
  {
   "cell_type": "markdown",
   "metadata": {},
   "source": [
    "Среди стартапов по самым высоким типичным ценам продажи можно выделить `manufacturing`, `real_estate`, `automotive`. Последнее место занимает `biotech`, который, в свою очередь, имеет самый высокий разброс цен продажи."
   ]
  },
  {
   "cell_type": "markdown",
   "metadata": {
    "id": "ADOfyVY_rJg3"
   },
   "source": [
    "\n",
    "### 3.5. Сколько раундов продержится стартап перед покупкой\n",
    "\n",
    "\n",
    "Для анализа сгруппируем данные по статусу стартапа и найдем медиану и среднее значение столбца `funding_rounds`. Медиана покажет типичное значение количества раундов для каждого статуса стартапа. Затем построим график, который отображает среднее количество раундов финансирования для каждой группы стартапов."
   ]
  },
  {
   "cell_type": "code",
   "execution_count": 75,
   "metadata": {},
   "outputs": [
    {
     "data": {
      "text/html": [
       "<div>\n",
       "<style scoped>\n",
       "    .dataframe tbody tr th:only-of-type {\n",
       "        vertical-align: middle;\n",
       "    }\n",
       "\n",
       "    .dataframe tbody tr th {\n",
       "        vertical-align: top;\n",
       "    }\n",
       "\n",
       "    .dataframe thead th {\n",
       "        text-align: right;\n",
       "    }\n",
       "</style>\n",
       "<table border=\"1\" class=\"dataframe\">\n",
       "  <thead>\n",
       "    <tr style=\"text-align: right;\">\n",
       "      <th></th>\n",
       "      <th>median</th>\n",
       "      <th>mean</th>\n",
       "    </tr>\n",
       "    <tr>\n",
       "      <th>status</th>\n",
       "      <th></th>\n",
       "      <th></th>\n",
       "    </tr>\n",
       "  </thead>\n",
       "  <tbody>\n",
       "    <tr>\n",
       "      <th>acquired</th>\n",
       "      <td>0.0</td>\n",
       "      <td>0.523526</td>\n",
       "    </tr>\n",
       "    <tr>\n",
       "      <th>closed</th>\n",
       "      <td>1.0</td>\n",
       "      <td>1.381453</td>\n",
       "    </tr>\n",
       "    <tr>\n",
       "      <th>ipo</th>\n",
       "      <td>1.0</td>\n",
       "      <td>1.934375</td>\n",
       "    </tr>\n",
       "    <tr>\n",
       "      <th>operating</th>\n",
       "      <td>1.0</td>\n",
       "      <td>1.522658</td>\n",
       "    </tr>\n",
       "  </tbody>\n",
       "</table>\n",
       "</div>"
      ],
      "text/plain": [
       "           median      mean\n",
       "status                     \n",
       "acquired      0.0  0.523526\n",
       "closed        1.0  1.381453\n",
       "ipo           1.0  1.934375\n",
       "operating     1.0  1.522658"
      ]
     },
     "execution_count": 75,
     "metadata": {},
     "output_type": "execute_result"
    }
   ],
   "source": [
    "# Найдем медиану и среднее значение столбца funding_rounds для каждого статуса стартапа\n",
    "company_filtred.groupby('status')['funding_rounds'].agg(['median', 'mean'])"
   ]
  },
  {
   "cell_type": "code",
   "execution_count": 76,
   "metadata": {},
   "outputs": [
    {
     "data": {
      "image/png": "[encoded data removed]",
      "text/plain": [
       "<Figure size 504x432 with 1 Axes>"
      ]
     },
     "metadata": {
      "needs_background": "light"
     },
     "output_type": "display_data"
    }
   ],
   "source": [
    "# Построим график, отображающий среднее количество раундов для всех статусов стартапов\n",
    "sorted_stats = company_filtred.groupby('status')['funding_rounds'].agg(['median', 'mean']).sort_values('mean', ascending=True)\n",
    "plt.figure(figsize = (7, 6))\n",
    "plt.bar(\n",
    "    sorted_stats.index,\n",
    "    sorted_stats['mean'],\n",
    "    alpha=0.7\n",
    ")\n",
    "plt.title('Среднее количество раундов по статусам')\n",
    "plt.ylabel('Среднее количество раундов')\n",
    "plt.grid(axis = 'y')"
   ]
  },
  {
   "cell_type": "markdown",
   "metadata": {},
   "source": [
    "Из типичных значений количества раундов финансирования можно сделать вывод, что большинство купленных стартапов не привлекали инвестиции вообще. Закрытые, работащие и IPO компании чаще всего привлекали только один раунд инвестиций.\n",
    "\n",
    "Из средних значений количества раундов финансирования можно сделать вывод, что меньше всего раундов у купленных компаний(0.5), это может говорить о том, что стартапы покупают на ранней стадии. \n",
    "\n",
    "Больше всего этапов финансирования в среднем у стартапов со статусом IPO(1.98). Для выхода на биржу обычно требуется больше раундов финансирования, поэтому логично, что такие стартапы имеют в среднем больше раундов, чем остальные. Однако, чаще всего стартапы, вышедшие на биржу имеют хотя бы 2-3 раунда финансирования, стартапы с только 1 раундом финансирования скорее редкость. Возможно, в данных есть неточности, или же за один раунд многими стартапами была получена очень большая сумма финансирования.\n"
   ]
  },
  {
   "cell_type": "markdown",
   "metadata": {},
   "source": [
    "***Промежуточный вывод:***\n",
    "- Датафрейм `company` был отфильтрован по заданным параметрам для дальнейшего анализа\n",
    "- В результате анализа было обнаружено, что в данных о финансировании компаний присутствуют выбросы. Чаще всего финансирование компаний составляет 0-0.1 млн долларов, медиана для ненулевых значений финансирования равна примерно 2.5 млн долларов.\n",
    "- Всего компаний, купленных за 0 или 1 доллар, и при этом получавших финансирование, 1618. В данных об этих компаниях также присутствуют выбросы в информации о финансировании.\n",
    "- Среди стартапов по самым высоким типичным ценам продажи можно выделить `manufacturing`, `real_estate`, `automotive`. Последнее место занимает `biotech`, который, в свою очередь, имеет самый высокий разброс цен продажи.\n",
    "- Из типичных значений количества раундов финансирования можно сделать вывод, что большинство купленных стартапов не привлекали инвестиции вообще. Закрытые, работащие и IPO компании чаще всего привлекали только один раунд инвестиций. "
   ]
  },
  {
   "cell_type": "markdown",
   "metadata": {
    "id": "VAFEZ2HBrJg3"
   },
   "source": [
    "\n",
    "## 4. Итоговый вывод и рекомендации\n",
    "\n",
    "\n",
    "В ходе исследования были проанализированы данные о стартапах, их сотрудниках, финансировании и покупке одними компаниями других компаний. Необходимо было подготовить датасет и проверить, что данные в нем соответствуют здравому смыслу, а также ответить на вопросы заказчика.\n",
    "\n",
    "- Исходя из днных, размер компании не влияет на полноту данных об образовании сотрудников. Больше всего пропусков в данных у компаний с 6-13 сотрудниками(52%), меньше всего у компаний с более, чем 14 сотрудниками(39%). Для 1 и 2-5 сотрудников значения примерно одинаковы.\n",
    "- Датафрейм `company_and_rounds` для дальшейшего анализа был разделен на два датафрейма: `company` и `rounds`. Датафрейм `company` был соединен с `acquisition`.\n",
    "- Покупки стартапов за 0 или 1 доллар могут быть связаны с несколькими причинами:\n",
    "  - Покупка провального стартапа ради команды за символичесукю сумму. Это могут быть компании с минимальным финансированием.\n",
    "  - Перевод активов между юрлицами за минимальную сумму(1 доллар).\n",
    "  - Спасение компании от банкротства и покупка ее долгов за 0 долларов. Это могут быть  компаниии с максимальным финансированием, которые не оправдали ожиданий инвесторов.\n",
    "- Среди стартапов по самым высоким типичным ценам продажи можно выделить `manufacturing`, `real_estate`, `automotive`. Последнее место занимает `biotech`, который, в свою очередь, имеет самый высокий разброс цен продажи.\n",
    "- Исходя из типичных значений количества раундов финансирования, большинство купленных стартапов не привлекали инвестиции вообще. Закрытые, работащие и IPO компании чаще всего привлекали только один раунд инвестиций. Из средних значений количества раундов финансирования можно сделать вывод, что меньше всего раундов у купленных компаний(0.5), больше всего этапов финансирования в среднем у стартапов со статусом IPO(1.98). \n",
    "\n",
    "***Согласованность выводов***\n",
    "- Подтверждают друг друга:\n",
    "  - Низкое число раундов у закрытых стартапов подтверждает высокий риск провала на ранних этапах.\n",
    "  - Связь между количеством раундов и статусом компании логична: IPO-компании привлекают больше инвестиций.\n",
    "  - Малые компании (1–5 сотрудников) показывают схожий % пропусков в данных об образовании.\n",
    "\n",
    "- Вызывают сомнения:\n",
    "  - Низкое число раундов у IPO. Противоречит рыночной практике.\n",
    "  - `biotech` с высоким разбросом, но не в топе по ценам. Возможно, в данных мало успешных кейсов.\n",
    "  - Медиана 0 раундов у купленных стартапов может указывать на ошибки в данных.\n",
    "\n",
    "***Рекомендации***\n",
    "- Уточнить данные:\n",
    "  - Проверить, как учитывались раунды.\n",
    "  - Уточнить, какие типы сделок (M&A, acqui-hire) преобладают среди покупок за 0/1 доллар.\n",
    "\n",
    "- Дополнительный анализ:\n",
    "  - Изучить связь между суммой финансирования и ценой продажи.\n",
    "  - Сравнить динамику по годам (например, влияние кризисов на количество раундов).\n",
    "  - Провести более детальный анализ аномальных значений."
   ]
  },
  {
   "cell_type": "code",
   "execution_count": null,
   "metadata": {},
   "outputs": [],
   "source": []
  }
 ],
 "metadata": {
  "ExecuteTimeLog": [
   {
    "duration": 1287,
    "start_time": "2025-03-26T11:28:07.714Z"
   },
   {
    "duration": 2690,
    "start_time": "2025-03-26T11:28:09.004Z"
   },
   {
    "duration": 13,
    "start_time": "2025-03-26T11:28:11.696Z"
   },
   {
    "duration": 35,
    "start_time": "2025-03-26T11:28:11.711Z"
   },
   {
    "duration": 54,
    "start_time": "2025-03-26T11:28:11.747Z"
   },
   {
    "duration": 4,
    "start_time": "2025-03-26T11:28:11.803Z"
   },
   {
    "duration": 32,
    "start_time": "2025-03-26T11:28:11.808Z"
   },
   {
    "duration": 22,
    "start_time": "2025-03-26T11:28:11.841Z"
   },
   {
    "duration": 24,
    "start_time": "2025-03-26T11:28:11.864Z"
   },
   {
    "duration": 35,
    "start_time": "2025-03-26T11:28:11.891Z"
   },
   {
    "duration": 12,
    "start_time": "2025-03-26T11:28:11.927Z"
   },
   {
    "duration": 26,
    "start_time": "2025-03-26T11:28:11.940Z"
   },
   {
    "duration": 22,
    "start_time": "2025-03-26T11:28:11.968Z"
   },
   {
    "duration": 19,
    "start_time": "2025-03-26T11:28:11.992Z"
   },
   {
    "duration": 108,
    "start_time": "2025-03-26T11:28:12.013Z"
   },
   {
    "duration": 100,
    "start_time": "2025-03-26T11:28:12.123Z"
   },
   {
    "duration": 100,
    "start_time": "2025-03-26T11:28:12.225Z"
   },
   {
    "duration": 155,
    "start_time": "2025-03-26T11:28:12.326Z"
   },
   {
    "duration": 41,
    "start_time": "2025-03-26T11:28:12.483Z"
   },
   {
    "duration": 47,
    "start_time": "2025-03-26T11:28:12.525Z"
   },
   {
    "duration": 37,
    "start_time": "2025-03-26T11:28:12.573Z"
   },
   {
    "duration": 23,
    "start_time": "2025-03-26T11:28:12.611Z"
   },
   {
    "duration": 37,
    "start_time": "2025-03-26T11:28:12.636Z"
   },
   {
    "duration": 16,
    "start_time": "2025-03-26T11:28:12.675Z"
   },
   {
    "duration": 33,
    "start_time": "2025-03-26T11:28:12.692Z"
   },
   {
    "duration": 32,
    "start_time": "2025-03-26T11:28:12.727Z"
   },
   {
    "duration": 19,
    "start_time": "2025-03-26T11:28:12.760Z"
   },
   {
    "duration": 43,
    "start_time": "2025-03-26T11:28:12.782Z"
   },
   {
    "duration": 39,
    "start_time": "2025-03-26T11:28:12.827Z"
   },
   {
    "duration": 173,
    "start_time": "2025-03-26T11:28:12.867Z"
   },
   {
    "duration": 89,
    "start_time": "2025-03-26T11:28:13.042Z"
   },
   {
    "duration": 65,
    "start_time": "2025-03-26T11:28:13.132Z"
   },
   {
    "duration": 34,
    "start_time": "2025-03-26T11:28:13.198Z"
   },
   {
    "duration": 31,
    "start_time": "2025-03-26T11:28:13.233Z"
   },
   {
    "duration": 73,
    "start_time": "2025-03-26T11:28:13.265Z"
   },
   {
    "duration": 31,
    "start_time": "2025-03-26T11:28:13.340Z"
   },
   {
    "duration": 4,
    "start_time": "2025-03-26T11:28:13.373Z"
   },
   {
    "duration": 61,
    "start_time": "2025-03-26T11:28:13.379Z"
   },
   {
    "duration": 20,
    "start_time": "2025-03-26T11:28:13.442Z"
   },
   {
    "duration": 14,
    "start_time": "2025-03-26T11:28:13.463Z"
   },
   {
    "duration": 4,
    "start_time": "2025-03-26T11:28:13.479Z"
   },
   {
    "duration": 19,
    "start_time": "2025-03-26T11:28:13.484Z"
   },
   {
    "duration": 21,
    "start_time": "2025-03-26T11:28:13.505Z"
   },
   {
    "duration": 66,
    "start_time": "2025-03-26T11:28:13.528Z"
   },
   {
    "duration": 4,
    "start_time": "2025-03-26T11:28:13.596Z"
   },
   {
    "duration": 4,
    "start_time": "2025-03-26T11:28:13.601Z"
   },
   {
    "duration": 92,
    "start_time": "2025-03-26T11:28:13.606Z"
   },
   {
    "duration": 28,
    "start_time": "2025-03-26T11:28:13.699Z"
   },
   {
    "duration": 25,
    "start_time": "2025-03-26T11:33:34.028Z"
   },
   {
    "duration": 25,
    "start_time": "2025-03-26T11:35:43.900Z"
   },
   {
    "duration": 14,
    "start_time": "2025-03-26T11:36:50.157Z"
   },
   {
    "duration": 17,
    "start_time": "2025-03-26T11:37:18.149Z"
   },
   {
    "duration": 85,
    "start_time": "2025-03-26T11:39:38.195Z"
   },
   {
    "duration": 61,
    "start_time": "2025-03-26T11:39:38.611Z"
   },
   {
    "duration": 4,
    "start_time": "2025-03-26T11:39:39.812Z"
   },
   {
    "duration": 20,
    "start_time": "2025-03-26T11:39:40.403Z"
   },
   {
    "duration": 86,
    "start_time": "2025-03-26T11:39:40.587Z"
   },
   {
    "duration": 23,
    "start_time": "2025-03-26T11:39:41.179Z"
   },
   {
    "duration": 6,
    "start_time": "2025-03-26T11:39:41.850Z"
   },
   {
    "duration": 47,
    "start_time": "2025-03-26T11:39:42.635Z"
   },
   {
    "duration": 15,
    "start_time": "2025-03-26T11:39:50.114Z"
   },
   {
    "duration": 12,
    "start_time": "2025-03-26T11:39:50.308Z"
   },
   {
    "duration": 15,
    "start_time": "2025-03-26T11:39:50.637Z"
   },
   {
    "duration": 110,
    "start_time": "2025-03-26T11:39:57.411Z"
   },
   {
    "duration": 60,
    "start_time": "2025-03-26T11:39:57.595Z"
   },
   {
    "duration": 5,
    "start_time": "2025-03-26T11:39:57.916Z"
   },
   {
    "duration": 22,
    "start_time": "2025-03-26T11:39:58.364Z"
   },
   {
    "duration": 76,
    "start_time": "2025-03-26T11:39:58.539Z"
   },
   {
    "duration": 25,
    "start_time": "2025-03-26T11:39:58.987Z"
   },
   {
    "duration": 6,
    "start_time": "2025-03-26T11:39:59.484Z"
   },
   {
    "duration": 45,
    "start_time": "2025-03-26T11:39:59.907Z"
   },
   {
    "duration": 16,
    "start_time": "2025-03-26T11:41:02.955Z"
   },
   {
    "duration": 16,
    "start_time": "2025-03-26T11:41:38.644Z"
   },
   {
    "duration": 110,
    "start_time": "2025-03-26T11:41:38.931Z"
   },
   {
    "duration": 5,
    "start_time": "2025-03-26T11:41:50.563Z"
   },
   {
    "duration": 16,
    "start_time": "2025-03-26T11:41:52.100Z"
   },
   {
    "duration": 10,
    "start_time": "2025-03-26T11:42:02.940Z"
   },
   {
    "duration": 1193,
    "start_time": "2025-03-26T11:43:28.489Z"
   },
   {
    "duration": 2400,
    "start_time": "2025-03-26T11:43:29.684Z"
   },
   {
    "duration": 12,
    "start_time": "2025-03-26T11:43:32.086Z"
   },
   {
    "duration": 34,
    "start_time": "2025-03-26T11:43:32.100Z"
   },
   {
    "duration": 53,
    "start_time": "2025-03-26T11:43:32.136Z"
   },
   {
    "duration": 4,
    "start_time": "2025-03-26T11:43:32.191Z"
   },
   {
    "duration": 17,
    "start_time": "2025-03-26T11:43:32.196Z"
   },
   {
    "duration": 8,
    "start_time": "2025-03-26T11:43:32.215Z"
   },
   {
    "duration": 21,
    "start_time": "2025-03-26T11:43:32.225Z"
   },
   {
    "duration": 32,
    "start_time": "2025-03-26T11:43:32.248Z"
   },
   {
    "duration": 38,
    "start_time": "2025-03-26T11:43:32.282Z"
   },
   {
    "duration": 8,
    "start_time": "2025-03-26T11:43:32.321Z"
   },
   {
    "duration": 23,
    "start_time": "2025-03-26T11:43:32.330Z"
   },
   {
    "duration": 7,
    "start_time": "2025-03-26T11:43:32.354Z"
   },
   {
    "duration": 126,
    "start_time": "2025-03-26T11:43:32.363Z"
   },
   {
    "duration": 101,
    "start_time": "2025-03-26T11:43:32.491Z"
   },
   {
    "duration": 104,
    "start_time": "2025-03-26T11:43:32.593Z"
   },
   {
    "duration": 164,
    "start_time": "2025-03-26T11:43:32.699Z"
   },
   {
    "duration": 41,
    "start_time": "2025-03-26T11:43:32.865Z"
   },
   {
    "duration": 42,
    "start_time": "2025-03-26T11:43:32.908Z"
   },
   {
    "duration": 36,
    "start_time": "2025-03-26T11:43:32.962Z"
   },
   {
    "duration": 36,
    "start_time": "2025-03-26T11:43:33.000Z"
   },
   {
    "duration": 16,
    "start_time": "2025-03-26T11:43:33.038Z"
   },
   {
    "duration": 38,
    "start_time": "2025-03-26T11:43:33.055Z"
   },
   {
    "duration": 32,
    "start_time": "2025-03-26T11:43:33.095Z"
   },
   {
    "duration": 170,
    "start_time": "2025-03-26T11:43:33.129Z"
   },
   {
    "duration": 30,
    "start_time": "2025-03-26T11:43:33.301Z"
   },
   {
    "duration": 36,
    "start_time": "2025-03-26T11:43:33.335Z"
   },
   {
    "duration": 48,
    "start_time": "2025-03-26T11:43:33.373Z"
   },
   {
    "duration": 163,
    "start_time": "2025-03-26T11:43:33.423Z"
   },
   {
    "duration": 104,
    "start_time": "2025-03-26T11:43:33.588Z"
   },
   {
    "duration": 69,
    "start_time": "2025-03-26T11:43:33.694Z"
   },
   {
    "duration": 6,
    "start_time": "2025-03-26T11:43:33.765Z"
   },
   {
    "duration": 65,
    "start_time": "2025-03-26T11:43:33.772Z"
   },
   {
    "duration": 78,
    "start_time": "2025-03-26T11:43:33.839Z"
   },
   {
    "duration": 25,
    "start_time": "2025-03-26T11:43:33.919Z"
   },
   {
    "duration": 19,
    "start_time": "2025-03-26T11:43:33.946Z"
   },
   {
    "duration": 58,
    "start_time": "2025-03-26T11:43:33.967Z"
   },
   {
    "duration": 15,
    "start_time": "2025-03-26T11:43:34.027Z"
   },
   {
    "duration": 25,
    "start_time": "2025-03-26T11:43:34.044Z"
   },
   {
    "duration": 17,
    "start_time": "2025-03-26T11:43:34.071Z"
   },
   {
    "duration": 58,
    "start_time": "2025-03-26T11:43:34.090Z"
   },
   {
    "duration": 187,
    "start_time": "2025-03-26T11:43:34.150Z"
   },
   {
    "duration": 36,
    "start_time": "2025-03-26T11:43:34.339Z"
   },
   {
    "duration": 53,
    "start_time": "2025-03-26T11:43:34.376Z"
   },
   {
    "duration": 4,
    "start_time": "2025-03-26T11:43:34.431Z"
   },
   {
    "duration": 13,
    "start_time": "2025-03-26T11:43:34.436Z"
   },
   {
    "duration": 87,
    "start_time": "2025-03-26T11:43:34.451Z"
   },
   {
    "duration": 30,
    "start_time": "2025-03-26T11:43:34.540Z"
   }
  ],
  "colab": {
   "provenance": []
  },
  "kernelspec": {
   "display_name": "Python 3 (ipykernel)",
   "language": "python",
   "name": "python3"
  },
  "language_info": {
   "codemirror_mode": {
    "name": "ipython",
    "version": 3
   },
   "file_extension": ".py",
   "mimetype": "text/x-python",
   "name": "python",
   "nbconvert_exporter": "python",
   "pygments_lexer": "ipython3",
   "version": "3.9.7"
  },
  "toc": {
   "base_numbering": 1,
   "nav_menu": {},
   "number_sections": true,
   "sideBar": true,
   "skip_h1_title": true,
   "title_cell": "Table of Contents",
   "title_sidebar": "Contents",
   "toc_cell": false,
   "toc_position": {},
   "toc_section_display": true,
   "toc_window_display": false
  }
 },
 "nbformat": 4,
 "nbformat_minor": 1
}
